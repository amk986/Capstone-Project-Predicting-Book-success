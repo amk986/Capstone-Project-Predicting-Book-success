{
 "cells": [
  {
   "cell_type": "markdown",
   "metadata": {},
   "source": [
    "## Predicting Book Success- KNN"
   ]
  },
  {
   "cell_type": "code",
   "execution_count": 1,
   "metadata": {},
   "outputs": [],
   "source": [
    "import pandas as pd\n",
    "import numpy as np\n",
    "import nltk\n",
    "from nltk.tokenize import word_tokenize\n",
    "from sklearn.svm import SVC\n",
    "from sklearn.tree import DecisionTreeClassifier, DecisionTreeRegressor\n",
    "from sklearn.feature_extraction.text import CountVectorizer, TfidfVectorizer\n",
    "from sklearn.metrics import classification_report, precision_recall_fscore_support\n",
    "from sklearn.model_selection import train_test_split\n",
    "from sklearn.feature_extraction.text import TfidfVectorizer\n",
    "from sklearn.preprocessing import scale, StandardScaler\n",
    "from sklearn.pipeline import Pipeline, FeatureUnion\n",
    "from sklearn.preprocessing import FunctionTransformer\n",
    "from sklearn.impute import SimpleImputer\n",
    "from sklearn.tree import DecisionTreeClassifier, DecisionTreeRegressor\n",
    "from sklearn.ensemble import RandomForestClassifier\n",
    "from sklearn.model_selection import GridSearchCV, StratifiedKFold, ShuffleSplit\n",
    "from sklearn.svm import SVC\n",
    "from sklearn.neighbors import KNeighborsClassifier"
   ]
  },
  {
   "cell_type": "code",
   "execution_count": 20,
   "metadata": {},
   "outputs": [],
   "source": [
    "merged=pd.read_csv(\"merged2_50K.csv\")"
   ]
  },
  {
   "cell_type": "code",
   "execution_count": 45,
   "metadata": {},
   "outputs": [],
   "source": [
    "merged_to_model=merged[['title','description',\"books_ratings_count\", \"books_reviews_count\"\n",
    "                            ,'num_pages', 'log_weighted_rating',\n",
    "                           \"fiction_or_nonFiction\",'series or not', \"total_books\"]]"
   ]
  },
  {
   "cell_type": "code",
   "execution_count": 46,
   "metadata": {},
   "outputs": [],
   "source": [
    "\n",
    "#categorical data\n",
    "categorical_cols = [\"series or not\", \"fiction_or_nonFiction\"] \n",
    "\n",
    "#numerical data- get dummy variables for categorical columns\n",
    "numerics_data = pd.get_dummies(merged_to_model, columns = categorical_cols)"
   ]
  },
  {
   "cell_type": "code",
   "execution_count": 47,
   "metadata": {},
   "outputs": [
    {
     "data": {
      "text/plain": [
       "(30747, 11)"
      ]
     },
     "execution_count": 47,
     "metadata": {},
     "output_type": "execute_result"
    }
   ],
   "source": [
    "numerics_data.dropna(inplace= True)\n",
    "numerics_data.shape"
   ]
  },
  {
   "cell_type": "code",
   "execution_count": 48,
   "metadata": {},
   "outputs": [],
   "source": [
    "# X is features variables, y is the target variable (predictor)\n",
    "\n",
    "X = numerics_data.drop(['log_weighted_rating'], axis = 1).reset_index(drop = True)\n",
    "y = numerics_data['log_weighted_rating'].reset_index(drop = True)"
   ]
  },
  {
   "cell_type": "code",
   "execution_count": 49,
   "metadata": {},
   "outputs": [],
   "source": [
    "def clean_array(arr):\n",
    "    indices_to_keep = ~arr.isin([np.nan, np.inf, -np.inf]) \n",
    "    return (arr[indices_to_keep], indices_to_keep)"
   ]
  },
  {
   "cell_type": "code",
   "execution_count": 50,
   "metadata": {},
   "outputs": [],
   "source": [
    "#go through each value in log_weighted_rating and if the value is nan, negative infinity,\n",
    "#or infinity remove and dont keep as a indice\n",
    "\n",
    "y, indices_to_keep = clean_array(y)"
   ]
  },
  {
   "cell_type": "code",
   "execution_count": 51,
   "metadata": {},
   "outputs": [],
   "source": [
    "#dont keep as a series\n",
    "\n",
    "X = X.iloc[indices_to_keep.index[indices_to_keep==True],:]"
   ]
  },
  {
   "cell_type": "code",
   "execution_count": 52,
   "metadata": {},
   "outputs": [],
   "source": [
    "#Convert the scores into classes (1- bad, 2-average, 3- above average, 4- good,  5- excellent) \n",
    "\n",
    "\n",
    "classes = pd.cut(y, bins=5, labels=[1,2,3,4,5])\n",
    "\n",
    "y = np.array(classes)"
   ]
  },
  {
   "cell_type": "code",
   "execution_count": 53,
   "metadata": {},
   "outputs": [],
   "source": [
    "X=np.array(X)"
   ]
  },
  {
   "cell_type": "code",
   "execution_count": 54,
   "metadata": {},
   "outputs": [],
   "source": [
    "X_train, X_test, y_train, y_test = train_test_split(X, y, test_size=0.25, random_state=42)"
   ]
  },
  {
   "cell_type": "code",
   "execution_count": 55,
   "metadata": {},
   "outputs": [
    {
     "name": "stderr",
     "output_type": "stream",
     "text": [
      "[nltk_data] Downloading package stopwords to\n",
      "[nltk_data]     /Users/Mohammedkhan/nltk_data...\n",
      "[nltk_data]   Package stopwords is already up-to-date!\n",
      "[nltk_data] Downloading package punkt to\n",
      "[nltk_data]     /Users/Mohammedkhan/nltk_data...\n",
      "[nltk_data]   Package punkt is already up-to-date!\n"
     ]
    },
    {
     "data": {
      "text/plain": [
       "True"
      ]
     },
     "execution_count": 55,
     "metadata": {},
     "output_type": "execute_result"
    }
   ],
   "source": [
    "nltk.download('stopwords')\n",
    "nltk.download('punkt')"
   ]
  },
  {
   "cell_type": "code",
   "execution_count": 56,
   "metadata": {},
   "outputs": [],
   "source": [
    "def get_title(x):\n",
    "    \n",
    "    return [record[0] for record in x]\n",
    "def get_description(x):\n",
    "  \n",
    "    return [record[1] for record in x]\n",
    "def get_numeric_data(x):\n",
    "   \n",
    "    return [record[3:].astype(float) for record in x]\n",
    "    \n",
    "\n",
    "transformer_numeric_data = FunctionTransformer(get_numeric_data, validate=False)\n",
    "transformer_title = FunctionTransformer(get_title, validate=False)\n",
    "transformer_description = FunctionTransformer(get_description, validate=False)\n",
    "\n",
    "vectorizer = CountVectorizer(max_features=2000, tokenizer= word_tokenize)"
   ]
  },
  {
   "cell_type": "code",
   "execution_count": 57,
   "metadata": {},
   "outputs": [],
   "source": [
    "pipeline = Pipeline([\n",
    "    (\"features\", FeatureUnion([\n",
    "        (\"description\", Pipeline([\n",
    "            ('selector', transformer_description),\n",
    "            ('vec',vectorizer)\n",
    "        ])),\n",
    "        (\"title\", Pipeline([\n",
    "            ('selector', transformer_title),\n",
    "            ('vec',vectorizer)\n",
    "        ])),\n",
    "        (\"numeric_features\", Pipeline([\n",
    "            ('selector', transformer_numeric_data)\n",
    "        ]))\n",
    "    ])),\n",
    "    ('scale', StandardScaler(with_mean = False)),\n",
    " \n",
    "    (\"knn\", KNeighborsClassifier())\n",
    "])\n",
    "\n"
   ]
  },
  {
   "cell_type": "code",
   "execution_count": 58,
   "metadata": {},
   "outputs": [
    {
     "data": {
      "text/plain": [
       "Pipeline(memory=None,\n",
       "     steps=[('features', FeatureUnion(n_jobs=None,\n",
       "       transformer_list=[('description', Pipeline(memory=None,\n",
       "     steps=[('selector', FunctionTransformer(accept_sparse=False, check_inverse=True,\n",
       "          func=<function get_description at 0x1a236a12f0>,\n",
       "          inv_kw_args=None, inverse_func=None,...ki',\n",
       "           metric_params=None, n_jobs=None, n_neighbors=5, p=2,\n",
       "           weights='uniform'))])"
      ]
     },
     "execution_count": 58,
     "metadata": {},
     "output_type": "execute_result"
    }
   ],
   "source": [
    "pipeline.fit(X_train,y_train)"
   ]
  },
  {
   "cell_type": "code",
   "execution_count": 59,
   "metadata": {},
   "outputs": [],
   "source": [
    "bb = pipeline.score(X_test,y_test)"
   ]
  },
  {
   "cell_type": "code",
   "execution_count": 37,
   "metadata": {},
   "outputs": [
    {
     "data": {
      "text/plain": [
       "0.5429131286740693"
      ]
     },
     "execution_count": 37,
     "metadata": {},
     "output_type": "execute_result"
    }
   ],
   "source": [
    "bb"
   ]
  },
  {
   "cell_type": "code",
   "execution_count": 38,
   "metadata": {},
   "outputs": [],
   "source": [
    "np.save(\"bb.py\", bb)"
   ]
  }
 ],
 "metadata": {
  "kernelspec": {
   "display_name": "Python 3",
   "language": "python",
   "name": "python3"
  },
  "language_info": {
   "codemirror_mode": {
    "name": "ipython",
    "version": 3
   },
   "file_extension": ".py",
   "mimetype": "text/x-python",
   "name": "python",
   "nbconvert_exporter": "python",
   "pygments_lexer": "ipython3",
   "version": "3.7.2"
  }
 },
 "nbformat": 4,
 "nbformat_minor": 2
}
