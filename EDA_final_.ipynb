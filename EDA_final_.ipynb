{
 "cells": [
  {
   "cell_type": "code",
   "execution_count": 1,
   "metadata": {
    "id": "jIGssuaGezXk"
   },
   "outputs": [],
   "source": [
    "import pandas as pd\n",
    "#pd.__version__\n",
    "\n",
    "import numpy as np\n",
    "import glob\n",
    "import os\n",
    "import zipfile\n",
    "import json\n",
    "\n",
    "import requests\n",
    "import gzip\n"
   ]
  },
  {
   "cell_type": "markdown",
   "metadata": {
    "id": "flKYJNgDgu_c"
   },
   "source": [
    "**Importing books, fiction/non classification, authors, and book series JSON files**\n",
    "\n",
    "\n"
   ]
  },
  {
   "cell_type": "code",
   "execution_count": 2,
   "metadata": {
    "id": "2cQ1gHD2g7AC"
   },
   "outputs": [],
   "source": [
    "#goodreads 2.3M metadata information to load\n",
    "\n",
    "path = (r\"C:\\Users\\alido\\OneDrive\\Desktop\\goodreads_books.json.gz\")\n",
    "def load_data(file_name, head = 50000):\n",
    "    count = 0\n",
    "    data = []\n",
    "    with gzip.open(file_name) as fin:\n",
    "        for l in fin:\n",
    "            d = json.loads(l)  \n",
    "            count += 1\n",
    "            data.append(d)\n",
    "            # break if reaches the 100th line\n",
    "            if (head is not None) and (count > head):\n",
    "                break\n",
    "    return data\n"
   ]
  },
  {
   "cell_type": "code",
   "execution_count": 3,
   "metadata": {
    "id": "sN-cvKgiULvi"
   },
   "outputs": [],
   "source": [
    "\n",
    "books = load_data(os.path.join(path))"
   ]
  },
  {
   "cell_type": "code",
   "execution_count": 4,
   "metadata": {
    "colab": {
     "base_uri": "https://localhost:8080/",
     "height": 974
    },
    "id": "79wdbJbwUL6n",
    "outputId": "74258f8d-ef28-4d5a-d6c6-bd436b2c60cc"
   },
   "outputs": [
    {
     "data": {
      "text/html": [
       "<div>\n",
       "<style scoped>\n",
       "    .dataframe tbody tr th:only-of-type {\n",
       "        vertical-align: middle;\n",
       "    }\n",
       "\n",
       "    .dataframe tbody tr th {\n",
       "        vertical-align: top;\n",
       "    }\n",
       "\n",
       "    .dataframe thead th {\n",
       "        text-align: right;\n",
       "    }\n",
       "</style>\n",
       "<table border=\"1\" class=\"dataframe\">\n",
       "  <thead>\n",
       "    <tr style=\"text-align: right;\">\n",
       "      <th></th>\n",
       "      <th>isbn</th>\n",
       "      <th>text_reviews_count</th>\n",
       "      <th>series</th>\n",
       "      <th>country_code</th>\n",
       "      <th>language_code</th>\n",
       "      <th>popular_shelves</th>\n",
       "      <th>asin</th>\n",
       "      <th>is_ebook</th>\n",
       "      <th>average_rating</th>\n",
       "      <th>kindle_asin</th>\n",
       "      <th>...</th>\n",
       "      <th>publication_month</th>\n",
       "      <th>edition_information</th>\n",
       "      <th>publication_year</th>\n",
       "      <th>url</th>\n",
       "      <th>image_url</th>\n",
       "      <th>book_id</th>\n",
       "      <th>ratings_count</th>\n",
       "      <th>work_id</th>\n",
       "      <th>title</th>\n",
       "      <th>title_without_series</th>\n",
       "    </tr>\n",
       "  </thead>\n",
       "  <tbody>\n",
       "    <tr>\n",
       "      <td>0</td>\n",
       "      <td>0312853122</td>\n",
       "      <td>1</td>\n",
       "      <td>[]</td>\n",
       "      <td>US</td>\n",
       "      <td></td>\n",
       "      <td>[{'count': '3', 'name': 'to-read'}, {'count': ...</td>\n",
       "      <td></td>\n",
       "      <td>false</td>\n",
       "      <td>4.00</td>\n",
       "      <td></td>\n",
       "      <td>...</td>\n",
       "      <td>9</td>\n",
       "      <td></td>\n",
       "      <td>1984</td>\n",
       "      <td>https://www.goodreads.com/book/show/5333265-w-...</td>\n",
       "      <td>https://images.gr-assets.com/books/1310220028m...</td>\n",
       "      <td>5333265</td>\n",
       "      <td>3</td>\n",
       "      <td>5400751</td>\n",
       "      <td>W.C. Fields: A Life on Film</td>\n",
       "      <td>W.C. Fields: A Life on Film</td>\n",
       "    </tr>\n",
       "    <tr>\n",
       "      <td>1</td>\n",
       "      <td>0743509986</td>\n",
       "      <td>6</td>\n",
       "      <td>[]</td>\n",
       "      <td>US</td>\n",
       "      <td></td>\n",
       "      <td>[{'count': '2634', 'name': 'to-read'}, {'count...</td>\n",
       "      <td></td>\n",
       "      <td>false</td>\n",
       "      <td>3.23</td>\n",
       "      <td>B000FC0PBC</td>\n",
       "      <td>...</td>\n",
       "      <td>10</td>\n",
       "      <td>Abridged</td>\n",
       "      <td>2001</td>\n",
       "      <td>https://www.goodreads.com/book/show/1333909.Go...</td>\n",
       "      <td>https://s.gr-assets.com/assets/nophoto/book/11...</td>\n",
       "      <td>1333909</td>\n",
       "      <td>10</td>\n",
       "      <td>1323437</td>\n",
       "      <td>Good Harbor</td>\n",
       "      <td>Good Harbor</td>\n",
       "    </tr>\n",
       "    <tr>\n",
       "      <td>2</td>\n",
       "      <td></td>\n",
       "      <td>7</td>\n",
       "      <td>[189911]</td>\n",
       "      <td>US</td>\n",
       "      <td>eng</td>\n",
       "      <td>[{'count': '58', 'name': 'to-read'}, {'count':...</td>\n",
       "      <td>B00071IKUY</td>\n",
       "      <td>false</td>\n",
       "      <td>4.03</td>\n",
       "      <td></td>\n",
       "      <td>...</td>\n",
       "      <td></td>\n",
       "      <td>Book Club Edition</td>\n",
       "      <td>1987</td>\n",
       "      <td>https://www.goodreads.com/book/show/7327624-th...</td>\n",
       "      <td>https://images.gr-assets.com/books/1304100136m...</td>\n",
       "      <td>7327624</td>\n",
       "      <td>140</td>\n",
       "      <td>8948723</td>\n",
       "      <td>The Unschooled Wizard (Sun Wolf and Starhawk, ...</td>\n",
       "      <td>The Unschooled Wizard (Sun Wolf and Starhawk, ...</td>\n",
       "    </tr>\n",
       "    <tr>\n",
       "      <td>3</td>\n",
       "      <td>0743294297</td>\n",
       "      <td>3282</td>\n",
       "      <td>[]</td>\n",
       "      <td>US</td>\n",
       "      <td>eng</td>\n",
       "      <td>[{'count': '7615', 'name': 'to-read'}, {'count...</td>\n",
       "      <td></td>\n",
       "      <td>false</td>\n",
       "      <td>3.49</td>\n",
       "      <td>B002ENBLOK</td>\n",
       "      <td>...</td>\n",
       "      <td>7</td>\n",
       "      <td></td>\n",
       "      <td>2009</td>\n",
       "      <td>https://www.goodreads.com/book/show/6066819-be...</td>\n",
       "      <td>https://s.gr-assets.com/assets/nophoto/book/11...</td>\n",
       "      <td>6066819</td>\n",
       "      <td>51184</td>\n",
       "      <td>6243154</td>\n",
       "      <td>Best Friends Forever</td>\n",
       "      <td>Best Friends Forever</td>\n",
       "    </tr>\n",
       "    <tr>\n",
       "      <td>4</td>\n",
       "      <td>0850308712</td>\n",
       "      <td>5</td>\n",
       "      <td>[]</td>\n",
       "      <td>US</td>\n",
       "      <td></td>\n",
       "      <td>[{'count': '32', 'name': 'to-read'}, {'count':...</td>\n",
       "      <td></td>\n",
       "      <td>false</td>\n",
       "      <td>3.40</td>\n",
       "      <td></td>\n",
       "      <td>...</td>\n",
       "      <td></td>\n",
       "      <td></td>\n",
       "      <td></td>\n",
       "      <td>https://www.goodreads.com/book/show/287140.Run...</td>\n",
       "      <td>https://images.gr-assets.com/books/1413219371m...</td>\n",
       "      <td>287140</td>\n",
       "      <td>15</td>\n",
       "      <td>278577</td>\n",
       "      <td>Runic Astrology: Starcraft and Timekeeping in ...</td>\n",
       "      <td>Runic Astrology: Starcraft and Timekeeping in ...</td>\n",
       "    </tr>\n",
       "    <tr>\n",
       "      <td>5</td>\n",
       "      <td>1599150603</td>\n",
       "      <td>7</td>\n",
       "      <td>[]</td>\n",
       "      <td>US</td>\n",
       "      <td></td>\n",
       "      <td>[{'count': '56', 'name': 'to-read'}, {'count':...</td>\n",
       "      <td></td>\n",
       "      <td>false</td>\n",
       "      <td>4.13</td>\n",
       "      <td>B00DU10PUG</td>\n",
       "      <td>...</td>\n",
       "      <td>9</td>\n",
       "      <td></td>\n",
       "      <td>2006</td>\n",
       "      <td>https://www.goodreads.com/book/show/287141.The...</td>\n",
       "      <td>https://s.gr-assets.com/assets/nophoto/book/11...</td>\n",
       "      <td>287141</td>\n",
       "      <td>46</td>\n",
       "      <td>278578</td>\n",
       "      <td>The Aeneid for Boys and Girls</td>\n",
       "      <td>The Aeneid for Boys and Girls</td>\n",
       "    </tr>\n",
       "    <tr>\n",
       "      <td>6</td>\n",
       "      <td>0425040887</td>\n",
       "      <td>4</td>\n",
       "      <td>[]</td>\n",
       "      <td>US</td>\n",
       "      <td></td>\n",
       "      <td>[{'count': '14', 'name': 'to-read'}, {'count':...</td>\n",
       "      <td></td>\n",
       "      <td>false</td>\n",
       "      <td>4.38</td>\n",
       "      <td></td>\n",
       "      <td>...</td>\n",
       "      <td>3</td>\n",
       "      <td></td>\n",
       "      <td>1979</td>\n",
       "      <td>https://www.goodreads.com/book/show/378460.The...</td>\n",
       "      <td>https://s.gr-assets.com/assets/nophoto/book/11...</td>\n",
       "      <td>378460</td>\n",
       "      <td>12</td>\n",
       "      <td>368291</td>\n",
       "      <td>The Wanting of Levine</td>\n",
       "      <td>The Wanting of Levine</td>\n",
       "    </tr>\n",
       "    <tr>\n",
       "      <td>7</td>\n",
       "      <td>1934876569</td>\n",
       "      <td>6</td>\n",
       "      <td>[151854]</td>\n",
       "      <td>US</td>\n",
       "      <td></td>\n",
       "      <td>[{'count': '515', 'name': 'to-read'}, {'count'...</td>\n",
       "      <td></td>\n",
       "      <td>false</td>\n",
       "      <td>4.22</td>\n",
       "      <td></td>\n",
       "      <td>...</td>\n",
       "      <td>3</td>\n",
       "      <td></td>\n",
       "      <td>2009</td>\n",
       "      <td>https://www.goodreads.com/book/show/6066812-al...</td>\n",
       "      <td>https://images.gr-assets.com/books/1316637798m...</td>\n",
       "      <td>6066812</td>\n",
       "      <td>98</td>\n",
       "      <td>701117</td>\n",
       "      <td>All's Fairy in Love and War (Avalon: Web of Ma...</td>\n",
       "      <td>All's Fairy in Love and War (Avalon: Web of Ma...</td>\n",
       "    </tr>\n",
       "    <tr>\n",
       "      <td>8</td>\n",
       "      <td></td>\n",
       "      <td>4</td>\n",
       "      <td>[]</td>\n",
       "      <td>US</td>\n",
       "      <td></td>\n",
       "      <td>[{'count': '4', 'name': 'to-read'}, {'count': ...</td>\n",
       "      <td></td>\n",
       "      <td>true</td>\n",
       "      <td>3.86</td>\n",
       "      <td></td>\n",
       "      <td>...</td>\n",
       "      <td>5</td>\n",
       "      <td></td>\n",
       "      <td>2017</td>\n",
       "      <td>https://www.goodreads.com/book/show/34883016-p...</td>\n",
       "      <td>https://images.gr-assets.com/books/1493525974m...</td>\n",
       "      <td>34883016</td>\n",
       "      <td>5</td>\n",
       "      <td>56135087</td>\n",
       "      <td>Playmaker: A Venom Series Novella</td>\n",
       "      <td>Playmaker: A Venom Series Novella</td>\n",
       "    </tr>\n",
       "    <tr>\n",
       "      <td>9</td>\n",
       "      <td>0922915113</td>\n",
       "      <td>39</td>\n",
       "      <td>[]</td>\n",
       "      <td>US</td>\n",
       "      <td></td>\n",
       "      <td>[{'count': '961', 'name': 'to-read'}, {'count'...</td>\n",
       "      <td></td>\n",
       "      <td>false</td>\n",
       "      <td>3.81</td>\n",
       "      <td>B00AFYVB8Q</td>\n",
       "      <td>...</td>\n",
       "      <td>4</td>\n",
       "      <td></td>\n",
       "      <td>2000</td>\n",
       "      <td>https://www.goodreads.com/book/show/287149.The...</td>\n",
       "      <td>https://images.gr-assets.com/books/1328768789m...</td>\n",
       "      <td>287149</td>\n",
       "      <td>986</td>\n",
       "      <td>278586</td>\n",
       "      <td>The Devil's Notebook</td>\n",
       "      <td>The Devil's Notebook</td>\n",
       "    </tr>\n",
       "  </tbody>\n",
       "</table>\n",
       "<p>10 rows × 29 columns</p>\n",
       "</div>"
      ],
      "text/plain": [
       "         isbn text_reviews_count    series country_code language_code  \\\n",
       "0  0312853122                  1        []           US                 \n",
       "1  0743509986                  6        []           US                 \n",
       "2                              7  [189911]           US           eng   \n",
       "3  0743294297               3282        []           US           eng   \n",
       "4  0850308712                  5        []           US                 \n",
       "5  1599150603                  7        []           US                 \n",
       "6  0425040887                  4        []           US                 \n",
       "7  1934876569                  6  [151854]           US                 \n",
       "8                              4        []           US                 \n",
       "9  0922915113                 39        []           US                 \n",
       "\n",
       "                                     popular_shelves        asin is_ebook  \\\n",
       "0  [{'count': '3', 'name': 'to-read'}, {'count': ...                false   \n",
       "1  [{'count': '2634', 'name': 'to-read'}, {'count...                false   \n",
       "2  [{'count': '58', 'name': 'to-read'}, {'count':...  B00071IKUY    false   \n",
       "3  [{'count': '7615', 'name': 'to-read'}, {'count...                false   \n",
       "4  [{'count': '32', 'name': 'to-read'}, {'count':...                false   \n",
       "5  [{'count': '56', 'name': 'to-read'}, {'count':...                false   \n",
       "6  [{'count': '14', 'name': 'to-read'}, {'count':...                false   \n",
       "7  [{'count': '515', 'name': 'to-read'}, {'count'...                false   \n",
       "8  [{'count': '4', 'name': 'to-read'}, {'count': ...                 true   \n",
       "9  [{'count': '961', 'name': 'to-read'}, {'count'...                false   \n",
       "\n",
       "  average_rating kindle_asin  ... publication_month edition_information  \\\n",
       "0           4.00              ...                 9                       \n",
       "1           3.23  B000FC0PBC  ...                10            Abridged   \n",
       "2           4.03              ...                     Book Club Edition   \n",
       "3           3.49  B002ENBLOK  ...                 7                       \n",
       "4           3.40              ...                                         \n",
       "5           4.13  B00DU10PUG  ...                 9                       \n",
       "6           4.38              ...                 3                       \n",
       "7           4.22              ...                 3                       \n",
       "8           3.86              ...                 5                       \n",
       "9           3.81  B00AFYVB8Q  ...                 4                       \n",
       "\n",
       "  publication_year                                                url  \\\n",
       "0             1984  https://www.goodreads.com/book/show/5333265-w-...   \n",
       "1             2001  https://www.goodreads.com/book/show/1333909.Go...   \n",
       "2             1987  https://www.goodreads.com/book/show/7327624-th...   \n",
       "3             2009  https://www.goodreads.com/book/show/6066819-be...   \n",
       "4                   https://www.goodreads.com/book/show/287140.Run...   \n",
       "5             2006  https://www.goodreads.com/book/show/287141.The...   \n",
       "6             1979  https://www.goodreads.com/book/show/378460.The...   \n",
       "7             2009  https://www.goodreads.com/book/show/6066812-al...   \n",
       "8             2017  https://www.goodreads.com/book/show/34883016-p...   \n",
       "9             2000  https://www.goodreads.com/book/show/287149.The...   \n",
       "\n",
       "                                           image_url   book_id ratings_count  \\\n",
       "0  https://images.gr-assets.com/books/1310220028m...   5333265             3   \n",
       "1  https://s.gr-assets.com/assets/nophoto/book/11...   1333909            10   \n",
       "2  https://images.gr-assets.com/books/1304100136m...   7327624           140   \n",
       "3  https://s.gr-assets.com/assets/nophoto/book/11...   6066819         51184   \n",
       "4  https://images.gr-assets.com/books/1413219371m...    287140            15   \n",
       "5  https://s.gr-assets.com/assets/nophoto/book/11...    287141            46   \n",
       "6  https://s.gr-assets.com/assets/nophoto/book/11...    378460            12   \n",
       "7  https://images.gr-assets.com/books/1316637798m...   6066812            98   \n",
       "8  https://images.gr-assets.com/books/1493525974m...  34883016             5   \n",
       "9  https://images.gr-assets.com/books/1328768789m...    287149           986   \n",
       "\n",
       "    work_id                                              title  \\\n",
       "0   5400751                        W.C. Fields: A Life on Film   \n",
       "1   1323437                                        Good Harbor   \n",
       "2   8948723  The Unschooled Wizard (Sun Wolf and Starhawk, ...   \n",
       "3   6243154                               Best Friends Forever   \n",
       "4    278577  Runic Astrology: Starcraft and Timekeeping in ...   \n",
       "5    278578                      The Aeneid for Boys and Girls   \n",
       "6    368291                              The Wanting of Levine   \n",
       "7    701117  All's Fairy in Love and War (Avalon: Web of Ma...   \n",
       "8  56135087                  Playmaker: A Venom Series Novella   \n",
       "9    278586                               The Devil's Notebook   \n",
       "\n",
       "                                title_without_series  \n",
       "0                        W.C. Fields: A Life on Film  \n",
       "1                                        Good Harbor  \n",
       "2  The Unschooled Wizard (Sun Wolf and Starhawk, ...  \n",
       "3                               Best Friends Forever  \n",
       "4  Runic Astrology: Starcraft and Timekeeping in ...  \n",
       "5                      The Aeneid for Boys and Girls  \n",
       "6                              The Wanting of Levine  \n",
       "7  All's Fairy in Love and War (Avalon: Web of Ma...  \n",
       "8                  Playmaker: A Venom Series Novella  \n",
       "9                               The Devil's Notebook  \n",
       "\n",
       "[10 rows x 29 columns]"
      ]
     },
     "execution_count": 4,
     "metadata": {},
     "output_type": "execute_result"
    }
   ],
   "source": [
    "books_df = pd.DataFrame(books)\n",
    "books_df[:10]"
   ]
  },
  {
   "cell_type": "code",
   "execution_count": 5,
   "metadata": {
    "id": "TWxR23r1m0hA"
   },
   "outputs": [],
   "source": [
    "books_df= books_df.drop(columns=['image_url', \"url\" , \"link\", \"popular_shelves\"])"
   ]
  },
  {
   "cell_type": "code",
   "execution_count": 6,
   "metadata": {
    "colab": {
     "base_uri": "https://localhost:8080/"
    },
    "id": "xuKzI18_nA3R",
    "outputId": "43603889-433c-4c2e-f74d-e510859b9709"
   },
   "outputs": [
    {
     "data": {
      "text/plain": [
       "Index(['isbn', 'text_reviews_count', 'series', 'country_code', 'language_code',\n",
       "       'asin', 'is_ebook', 'average_rating', 'kindle_asin', 'similar_books',\n",
       "       'description', 'format', 'authors', 'publisher', 'num_pages',\n",
       "       'publication_day', 'isbn13', 'publication_month', 'edition_information',\n",
       "       'publication_year', 'book_id', 'ratings_count', 'work_id', 'title',\n",
       "       'title_without_series'],\n",
       "      dtype='object')"
      ]
     },
     "execution_count": 6,
     "metadata": {},
     "output_type": "execute_result"
    }
   ],
   "source": [
    "books_df.columns"
   ]
  },
  {
   "cell_type": "code",
   "execution_count": 7,
   "metadata": {
    "colab": {
     "base_uri": "https://localhost:8080/"
    },
    "id": "4d8WQBerWc82",
    "outputId": "203f418b-d58d-42fb-e6fa-eca661ff2b14"
   },
   "outputs": [
    {
     "data": {
      "text/plain": [
       "0         [{'author_id': '604031', 'role': ''}]\n",
       "1         [{'author_id': '626222', 'role': ''}]\n",
       "2          [{'author_id': '10333', 'role': ''}]\n",
       "3           [{'author_id': '9212', 'role': ''}]\n",
       "4         [{'author_id': '149918', 'role': ''}]\n",
       "                          ...                  \n",
       "49996    [{'author_id': '3275288', 'role': ''}]\n",
       "49997    [{'author_id': '3510823', 'role': ''}]\n",
       "49998       [{'author_id': '3515', 'role': ''}]\n",
       "49999    [{'author_id': '7418796', 'role': ''}]\n",
       "50000    [{'author_id': '5829106', 'role': ''}]\n",
       "Name: authors, Length: 50001, dtype: object"
      ]
     },
     "execution_count": 7,
     "metadata": {},
     "output_type": "execute_result"
    }
   ],
   "source": [
    "books_df.authors"
   ]
  },
  {
   "cell_type": "code",
   "execution_count": 211,
   "metadata": {},
   "outputs": [
    {
     "data": {
      "text/plain": [
       "(49992, 26)"
      ]
     },
     "execution_count": 211,
     "metadata": {},
     "output_type": "execute_result"
    }
   ],
   "source": [
    "books_df.shape"
   ]
  },
  {
   "cell_type": "code",
   "execution_count": 8,
   "metadata": {
    "id": "sx9zdalIUMGp"
   },
   "outputs": [
    {
     "data": {
      "text/html": [
       "<div>\n",
       "<style scoped>\n",
       "    .dataframe tbody tr th:only-of-type {\n",
       "        vertical-align: middle;\n",
       "    }\n",
       "\n",
       "    .dataframe tbody tr th {\n",
       "        vertical-align: top;\n",
       "    }\n",
       "\n",
       "    .dataframe thead th {\n",
       "        text-align: right;\n",
       "    }\n",
       "</style>\n",
       "<table border=\"1\" class=\"dataframe\">\n",
       "  <thead>\n",
       "    <tr style=\"text-align: right;\">\n",
       "      <th></th>\n",
       "      <th>book_id</th>\n",
       "      <th>genres</th>\n",
       "    </tr>\n",
       "  </thead>\n",
       "  <tbody>\n",
       "    <tr>\n",
       "      <td>0</td>\n",
       "      <td>5333265</td>\n",
       "      <td>{'history, historical fiction, biography': 1}</td>\n",
       "    </tr>\n",
       "    <tr>\n",
       "      <td>1</td>\n",
       "      <td>1333909</td>\n",
       "      <td>{'fiction': 219, 'history, historical fiction,...</td>\n",
       "    </tr>\n",
       "    <tr>\n",
       "      <td>2</td>\n",
       "      <td>7327624</td>\n",
       "      <td>{'fantasy, paranormal': 31, 'fiction': 8, 'mys...</td>\n",
       "    </tr>\n",
       "    <tr>\n",
       "      <td>3</td>\n",
       "      <td>6066819</td>\n",
       "      <td>{'fiction': 555, 'romance': 23, 'mystery, thri...</td>\n",
       "    </tr>\n",
       "    <tr>\n",
       "      <td>4</td>\n",
       "      <td>287140</td>\n",
       "      <td>{'non-fiction': 3}</td>\n",
       "    </tr>\n",
       "    <tr>\n",
       "      <td>...</td>\n",
       "      <td>...</td>\n",
       "      <td>...</td>\n",
       "    </tr>\n",
       "    <tr>\n",
       "      <td>2360650</td>\n",
       "      <td>3084038</td>\n",
       "      <td>{'non-fiction': 5, 'history, historical fictio...</td>\n",
       "    </tr>\n",
       "    <tr>\n",
       "      <td>2360651</td>\n",
       "      <td>26168430</td>\n",
       "      <td>{'mystery, thriller, crime': 4, 'children': 1,...</td>\n",
       "    </tr>\n",
       "    <tr>\n",
       "      <td>2360652</td>\n",
       "      <td>2342551</td>\n",
       "      <td>{'poetry': 14, 'children': 7, 'young-adult': 1...</td>\n",
       "    </tr>\n",
       "    <tr>\n",
       "      <td>2360653</td>\n",
       "      <td>22017381</td>\n",
       "      <td>{'romance': 13, 'mystery, thriller, crime': 2}</td>\n",
       "    </tr>\n",
       "    <tr>\n",
       "      <td>2360654</td>\n",
       "      <td>11419866</td>\n",
       "      <td>{'romance': 19, 'fiction': 4}</td>\n",
       "    </tr>\n",
       "  </tbody>\n",
       "</table>\n",
       "<p>2360655 rows × 2 columns</p>\n",
       "</div>"
      ],
      "text/plain": [
       "          book_id                                             genres\n",
       "0         5333265      {'history, historical fiction, biography': 1}\n",
       "1         1333909  {'fiction': 219, 'history, historical fiction,...\n",
       "2         7327624  {'fantasy, paranormal': 31, 'fiction': 8, 'mys...\n",
       "3         6066819  {'fiction': 555, 'romance': 23, 'mystery, thri...\n",
       "4          287140                                 {'non-fiction': 3}\n",
       "...           ...                                                ...\n",
       "2360650   3084038  {'non-fiction': 5, 'history, historical fictio...\n",
       "2360651  26168430  {'mystery, thriller, crime': 4, 'children': 1,...\n",
       "2360652   2342551  {'poetry': 14, 'children': 7, 'young-adult': 1...\n",
       "2360653  22017381     {'romance': 13, 'mystery, thriller, crime': 2}\n",
       "2360654  11419866                      {'romance': 19, 'fiction': 4}\n",
       "\n",
       "[2360655 rows x 2 columns]"
      ]
     },
     "execution_count": 8,
     "metadata": {},
     "output_type": "execute_result"
    }
   ],
   "source": [
    "#importing books genre/features json file\n",
    "\n",
    "\n",
    "z = (r\"C:\\Users\\alido\\OneDrive\\Desktop\\goodreads_book_genres_initial.json.gz\")\n",
    "genre_df = pd.read_json(z, lines = True)\n",
    "genre_df\n"
   ]
  },
  {
   "cell_type": "code",
   "execution_count": 9,
   "metadata": {
    "id": "5vIsryY6jvj3"
   },
   "outputs": [],
   "source": [
    "genre_df.dropna(inplace = True)"
   ]
  },
  {
   "cell_type": "code",
   "execution_count": 10,
   "metadata": {
    "id": "5bfIIXLzj92L"
   },
   "outputs": [
    {
     "data": {
      "text/html": [
       "<div>\n",
       "<style scoped>\n",
       "    .dataframe tbody tr th:only-of-type {\n",
       "        vertical-align: middle;\n",
       "    }\n",
       "\n",
       "    .dataframe tbody tr th {\n",
       "        vertical-align: top;\n",
       "    }\n",
       "\n",
       "    .dataframe thead th {\n",
       "        text-align: right;\n",
       "    }\n",
       "</style>\n",
       "<table border=\"1\" class=\"dataframe\">\n",
       "  <thead>\n",
       "    <tr style=\"text-align: right;\">\n",
       "      <th></th>\n",
       "      <th>book_id</th>\n",
       "      <th>genres</th>\n",
       "    </tr>\n",
       "  </thead>\n",
       "  <tbody>\n",
       "    <tr>\n",
       "      <td>0</td>\n",
       "      <td>5333265</td>\n",
       "      <td>{'history, historical fiction, biography': 1}</td>\n",
       "    </tr>\n",
       "    <tr>\n",
       "      <td>1</td>\n",
       "      <td>1333909</td>\n",
       "      <td>{'fiction': 219, 'history, historical fiction,...</td>\n",
       "    </tr>\n",
       "    <tr>\n",
       "      <td>2</td>\n",
       "      <td>7327624</td>\n",
       "      <td>{'fantasy, paranormal': 31, 'fiction': 8, 'mys...</td>\n",
       "    </tr>\n",
       "    <tr>\n",
       "      <td>3</td>\n",
       "      <td>6066819</td>\n",
       "      <td>{'fiction': 555, 'romance': 23, 'mystery, thri...</td>\n",
       "    </tr>\n",
       "    <tr>\n",
       "      <td>4</td>\n",
       "      <td>287140</td>\n",
       "      <td>{'non-fiction': 3}</td>\n",
       "    </tr>\n",
       "    <tr>\n",
       "      <td>...</td>\n",
       "      <td>...</td>\n",
       "      <td>...</td>\n",
       "    </tr>\n",
       "    <tr>\n",
       "      <td>2360650</td>\n",
       "      <td>3084038</td>\n",
       "      <td>{'non-fiction': 5, 'history, historical fictio...</td>\n",
       "    </tr>\n",
       "    <tr>\n",
       "      <td>2360651</td>\n",
       "      <td>26168430</td>\n",
       "      <td>{'mystery, thriller, crime': 4, 'children': 1,...</td>\n",
       "    </tr>\n",
       "    <tr>\n",
       "      <td>2360652</td>\n",
       "      <td>2342551</td>\n",
       "      <td>{'poetry': 14, 'children': 7, 'young-adult': 1...</td>\n",
       "    </tr>\n",
       "    <tr>\n",
       "      <td>2360653</td>\n",
       "      <td>22017381</td>\n",
       "      <td>{'romance': 13, 'mystery, thriller, crime': 2}</td>\n",
       "    </tr>\n",
       "    <tr>\n",
       "      <td>2360654</td>\n",
       "      <td>11419866</td>\n",
       "      <td>{'romance': 19, 'fiction': 4}</td>\n",
       "    </tr>\n",
       "  </tbody>\n",
       "</table>\n",
       "<p>2360655 rows × 2 columns</p>\n",
       "</div>"
      ],
      "text/plain": [
       "          book_id                                             genres\n",
       "0         5333265      {'history, historical fiction, biography': 1}\n",
       "1         1333909  {'fiction': 219, 'history, historical fiction,...\n",
       "2         7327624  {'fantasy, paranormal': 31, 'fiction': 8, 'mys...\n",
       "3         6066819  {'fiction': 555, 'romance': 23, 'mystery, thri...\n",
       "4          287140                                 {'non-fiction': 3}\n",
       "...           ...                                                ...\n",
       "2360650   3084038  {'non-fiction': 5, 'history, historical fictio...\n",
       "2360651  26168430  {'mystery, thriller, crime': 4, 'children': 1,...\n",
       "2360652   2342551  {'poetry': 14, 'children': 7, 'young-adult': 1...\n",
       "2360653  22017381     {'romance': 13, 'mystery, thriller, crime': 2}\n",
       "2360654  11419866                      {'romance': 19, 'fiction': 4}\n",
       "\n",
       "[2360655 rows x 2 columns]"
      ]
     },
     "execution_count": 10,
     "metadata": {},
     "output_type": "execute_result"
    }
   ],
   "source": [
    "genre_df"
   ]
  },
  {
   "cell_type": "code",
   "execution_count": 11,
   "metadata": {
    "id": "GxkUWx1Zaoey"
   },
   "outputs": [],
   "source": [
    "#importing authors json file\n",
    "\n",
    "k = (r\"C:\\Users\\alido\\OneDrive\\Desktop\\goodreads_book_authors.json.gz\")\n",
    "authors_df = pd.read_json(k, lines = True)"
   ]
  },
  {
   "cell_type": "code",
   "execution_count": 12,
   "metadata": {
    "id": "ZSi6HwKHUMLy"
   },
   "outputs": [],
   "source": [
    "authors_df=authors_df.dropna()"
   ]
  },
  {
   "cell_type": "code",
   "execution_count": 13,
   "metadata": {
    "id": "4N0LwZ2gie1B"
   },
   "outputs": [
    {
     "data": {
      "text/html": [
       "<div>\n",
       "<style scoped>\n",
       "    .dataframe tbody tr th:only-of-type {\n",
       "        vertical-align: middle;\n",
       "    }\n",
       "\n",
       "    .dataframe tbody tr th {\n",
       "        vertical-align: top;\n",
       "    }\n",
       "\n",
       "    .dataframe thead th {\n",
       "        text-align: right;\n",
       "    }\n",
       "</style>\n",
       "<table border=\"1\" class=\"dataframe\">\n",
       "  <thead>\n",
       "    <tr style=\"text-align: right;\">\n",
       "      <th></th>\n",
       "      <th>average_rating</th>\n",
       "      <th>author_id</th>\n",
       "      <th>text_reviews_count</th>\n",
       "      <th>name</th>\n",
       "      <th>ratings_count</th>\n",
       "    </tr>\n",
       "  </thead>\n",
       "  <tbody>\n",
       "    <tr>\n",
       "      <td>0</td>\n",
       "      <td>3.98</td>\n",
       "      <td>604031</td>\n",
       "      <td>7</td>\n",
       "      <td>Ronald J. Fields</td>\n",
       "      <td>49</td>\n",
       "    </tr>\n",
       "    <tr>\n",
       "      <td>1</td>\n",
       "      <td>4.08</td>\n",
       "      <td>626222</td>\n",
       "      <td>28716</td>\n",
       "      <td>Anita Diamant</td>\n",
       "      <td>546796</td>\n",
       "    </tr>\n",
       "    <tr>\n",
       "      <td>2</td>\n",
       "      <td>3.92</td>\n",
       "      <td>10333</td>\n",
       "      <td>5075</td>\n",
       "      <td>Barbara Hambly</td>\n",
       "      <td>122118</td>\n",
       "    </tr>\n",
       "    <tr>\n",
       "      <td>3</td>\n",
       "      <td>3.68</td>\n",
       "      <td>9212</td>\n",
       "      <td>36262</td>\n",
       "      <td>Jennifer Weiner</td>\n",
       "      <td>888522</td>\n",
       "    </tr>\n",
       "    <tr>\n",
       "      <td>4</td>\n",
       "      <td>3.82</td>\n",
       "      <td>149918</td>\n",
       "      <td>96</td>\n",
       "      <td>Nigel Pennick</td>\n",
       "      <td>1740</td>\n",
       "    </tr>\n",
       "    <tr>\n",
       "      <td>...</td>\n",
       "      <td>...</td>\n",
       "      <td>...</td>\n",
       "      <td>...</td>\n",
       "      <td>...</td>\n",
       "      <td>...</td>\n",
       "    </tr>\n",
       "    <tr>\n",
       "      <td>829524</td>\n",
       "      <td>4.36</td>\n",
       "      <td>197551</td>\n",
       "      <td>4</td>\n",
       "      <td>Patty Furbush</td>\n",
       "      <td>11</td>\n",
       "    </tr>\n",
       "    <tr>\n",
       "      <td>829525</td>\n",
       "      <td>4.33</td>\n",
       "      <td>3988103</td>\n",
       "      <td>3</td>\n",
       "      <td>Jim Schlinkman</td>\n",
       "      <td>6</td>\n",
       "    </tr>\n",
       "    <tr>\n",
       "      <td>829526</td>\n",
       "      <td>4.00</td>\n",
       "      <td>13464507</td>\n",
       "      <td>2</td>\n",
       "      <td>Rich Jolly</td>\n",
       "      <td>18</td>\n",
       "    </tr>\n",
       "    <tr>\n",
       "      <td>829527</td>\n",
       "      <td>3.31</td>\n",
       "      <td>7427847</td>\n",
       "      <td>1</td>\n",
       "      <td>sr@ mwrGn</td>\n",
       "      <td>13</td>\n",
       "    </tr>\n",
       "    <tr>\n",
       "      <td>829528</td>\n",
       "      <td>3.70</td>\n",
       "      <td>5401342</td>\n",
       "      <td>11</td>\n",
       "      <td>Barry S. Brown</td>\n",
       "      <td>43</td>\n",
       "    </tr>\n",
       "  </tbody>\n",
       "</table>\n",
       "<p>829529 rows × 5 columns</p>\n",
       "</div>"
      ],
      "text/plain": [
       "        average_rating  author_id  text_reviews_count              name  \\\n",
       "0                 3.98     604031                   7  Ronald J. Fields   \n",
       "1                 4.08     626222               28716     Anita Diamant   \n",
       "2                 3.92      10333                5075    Barbara Hambly   \n",
       "3                 3.68       9212               36262   Jennifer Weiner   \n",
       "4                 3.82     149918                  96     Nigel Pennick   \n",
       "...                ...        ...                 ...               ...   \n",
       "829524            4.36     197551                   4     Patty Furbush   \n",
       "829525            4.33    3988103                   3    Jim Schlinkman   \n",
       "829526            4.00   13464507                   2        Rich Jolly   \n",
       "829527            3.31    7427847                   1         sr@ mwrGn   \n",
       "829528            3.70    5401342                  11    Barry S. Brown   \n",
       "\n",
       "        ratings_count  \n",
       "0                  49  \n",
       "1              546796  \n",
       "2              122118  \n",
       "3              888522  \n",
       "4                1740  \n",
       "...               ...  \n",
       "829524             11  \n",
       "829525              6  \n",
       "829526             18  \n",
       "829527             13  \n",
       "829528             43  \n",
       "\n",
       "[829529 rows x 5 columns]"
      ]
     },
     "execution_count": 13,
     "metadata": {},
     "output_type": "execute_result"
    }
   ],
   "source": [
    "authors_df"
   ]
  },
  {
   "cell_type": "code",
   "execution_count": 14,
   "metadata": {
    "id": "8Nr3o4kiig9o"
   },
   "outputs": [],
   "source": [
    "#importing book series json file\n",
    "\n",
    "\n",
    "d = (r\"C:\\Users\\alido\\OneDrive\\Desktop\\goodreads_book_series.json.gz\")\n",
    "book_series_df = pd.read_json(d, lines = True)\n",
    "book_series_df = book_series_df.dropna()"
   ]
  },
  {
   "cell_type": "code",
   "execution_count": 15,
   "metadata": {
    "id": "MCzH376ijF85"
   },
   "outputs": [
    {
     "data": {
      "text/html": [
       "<div>\n",
       "<style scoped>\n",
       "    .dataframe tbody tr th:only-of-type {\n",
       "        vertical-align: middle;\n",
       "    }\n",
       "\n",
       "    .dataframe tbody tr th {\n",
       "        vertical-align: top;\n",
       "    }\n",
       "\n",
       "    .dataframe thead th {\n",
       "        text-align: right;\n",
       "    }\n",
       "</style>\n",
       "<table border=\"1\" class=\"dataframe\">\n",
       "  <thead>\n",
       "    <tr style=\"text-align: right;\">\n",
       "      <th></th>\n",
       "      <th>numbered</th>\n",
       "      <th>note</th>\n",
       "      <th>description</th>\n",
       "      <th>title</th>\n",
       "      <th>series_works_count</th>\n",
       "      <th>series_id</th>\n",
       "      <th>primary_work_count</th>\n",
       "    </tr>\n",
       "  </thead>\n",
       "  <tbody>\n",
       "    <tr>\n",
       "      <td>0</td>\n",
       "      <td>true</td>\n",
       "      <td></td>\n",
       "      <td></td>\n",
       "      <td>Sun Wolf and Starhawk</td>\n",
       "      <td>9</td>\n",
       "      <td>189911</td>\n",
       "      <td>3</td>\n",
       "    </tr>\n",
       "    <tr>\n",
       "      <td>1</td>\n",
       "      <td>true</td>\n",
       "      <td></td>\n",
       "      <td>This series is also known as * Avalon : Jalina...</td>\n",
       "      <td>Avalon: Web of Magic</td>\n",
       "      <td>14</td>\n",
       "      <td>151854</td>\n",
       "      <td>12</td>\n",
       "    </tr>\n",
       "    <tr>\n",
       "      <td>2</td>\n",
       "      <td>true</td>\n",
       "      <td></td>\n",
       "      <td>Plot-wise, \"Crowner's Crusade\" is a prequel to...</td>\n",
       "      <td>Crowner John Mystery</td>\n",
       "      <td>15</td>\n",
       "      <td>169353</td>\n",
       "      <td>15</td>\n",
       "    </tr>\n",
       "    <tr>\n",
       "      <td>3</td>\n",
       "      <td>true</td>\n",
       "      <td></td>\n",
       "      <td></td>\n",
       "      <td>Pluto's Snitch</td>\n",
       "      <td>3</td>\n",
       "      <td>1052227</td>\n",
       "      <td>3</td>\n",
       "    </tr>\n",
       "    <tr>\n",
       "      <td>4</td>\n",
       "      <td>false</td>\n",
       "      <td></td>\n",
       "      <td></td>\n",
       "      <td>The Way, With The Enchanted Neighborhood</td>\n",
       "      <td>3</td>\n",
       "      <td>1070125</td>\n",
       "      <td>3</td>\n",
       "    </tr>\n",
       "    <tr>\n",
       "      <td>...</td>\n",
       "      <td>...</td>\n",
       "      <td>...</td>\n",
       "      <td>...</td>\n",
       "      <td>...</td>\n",
       "      <td>...</td>\n",
       "      <td>...</td>\n",
       "      <td>...</td>\n",
       "    </tr>\n",
       "    <tr>\n",
       "      <td>400385</td>\n",
       "      <td>true</td>\n",
       "      <td></td>\n",
       "      <td></td>\n",
       "      <td>Chop, Chop</td>\n",
       "      <td>12</td>\n",
       "      <td>385803</td>\n",
       "      <td>10</td>\n",
       "    </tr>\n",
       "    <tr>\n",
       "      <td>400386</td>\n",
       "      <td>false</td>\n",
       "      <td></td>\n",
       "      <td>Seriia \"Tepli istoriyi\" narodilasia zavdiaki t...</td>\n",
       "      <td>Tepli istoriyi</td>\n",
       "      <td>20</td>\n",
       "      <td>990794</td>\n",
       "      <td>20</td>\n",
       "    </tr>\n",
       "    <tr>\n",
       "      <td>400387</td>\n",
       "      <td>true</td>\n",
       "      <td></td>\n",
       "      <td></td>\n",
       "      <td>Ondine Quartet</td>\n",
       "      <td>12</td>\n",
       "      <td>494165</td>\n",
       "      <td>4</td>\n",
       "    </tr>\n",
       "    <tr>\n",
       "      <td>400388</td>\n",
       "      <td>true</td>\n",
       "      <td></td>\n",
       "      <td></td>\n",
       "      <td>The Trailsman</td>\n",
       "      <td>397</td>\n",
       "      <td>434645</td>\n",
       "      <td>397</td>\n",
       "    </tr>\n",
       "    <tr>\n",
       "      <td>400389</td>\n",
       "      <td>false</td>\n",
       "      <td></td>\n",
       "      <td>The history of the lands and peoples of Britai...</td>\n",
       "      <td>This Sceptred Isle</td>\n",
       "      <td>18</td>\n",
       "      <td>618749</td>\n",
       "      <td>18</td>\n",
       "    </tr>\n",
       "  </tbody>\n",
       "</table>\n",
       "<p>400390 rows × 7 columns</p>\n",
       "</div>"
      ],
      "text/plain": [
       "       numbered note                                        description  \\\n",
       "0          true                                                           \n",
       "1          true       This series is also known as * Avalon : Jalina...   \n",
       "2          true       Plot-wise, \"Crowner's Crusade\" is a prequel to...   \n",
       "3          true                                                           \n",
       "4         false                                                           \n",
       "...         ...  ...                                                ...   \n",
       "400385     true                                                           \n",
       "400386    false       Seriia \"Tepli istoriyi\" narodilasia zavdiaki t...   \n",
       "400387     true                                                           \n",
       "400388     true                                                           \n",
       "400389    false       The history of the lands and peoples of Britai...   \n",
       "\n",
       "                                           title  series_works_count  \\\n",
       "0                          Sun Wolf and Starhawk                   9   \n",
       "1                           Avalon: Web of Magic                  14   \n",
       "2                           Crowner John Mystery                  15   \n",
       "3                                 Pluto's Snitch                   3   \n",
       "4       The Way, With The Enchanted Neighborhood                   3   \n",
       "...                                          ...                 ...   \n",
       "400385                                Chop, Chop                  12   \n",
       "400386                            Tepli istoriyi                  20   \n",
       "400387                            Ondine Quartet                  12   \n",
       "400388                             The Trailsman                 397   \n",
       "400389                        This Sceptred Isle                  18   \n",
       "\n",
       "        series_id  primary_work_count  \n",
       "0          189911                   3  \n",
       "1          151854                  12  \n",
       "2          169353                  15  \n",
       "3         1052227                   3  \n",
       "4         1070125                   3  \n",
       "...           ...                 ...  \n",
       "400385     385803                  10  \n",
       "400386     990794                  20  \n",
       "400387     494165                   4  \n",
       "400388     434645                 397  \n",
       "400389     618749                  18  \n",
       "\n",
       "[400390 rows x 7 columns]"
      ]
     },
     "execution_count": 15,
     "metadata": {},
     "output_type": "execute_result"
    }
   ],
   "source": [
    "book_series_df"
   ]
  },
  {
   "cell_type": "markdown",
   "metadata": {
    "id": "COaoaR7lz7-H"
   },
   "source": [
    "**Merge author's json, genre json, and book series json on one dataframe**"
   ]
  },
  {
   "cell_type": "markdown",
   "metadata": {
    "id": "PXQVOdi24pFk"
   },
   "source": [
    "1. Merge author's features dataset on the author_ids in the books dataframe"
   ]
  },
  {
   "cell_type": "code",
   "execution_count": 16,
   "metadata": {
    "id": "vuhe6sKsAC9P"
   },
   "outputs": [
    {
     "data": {
      "text/plain": [
       "0         [{'author_id': '604031', 'role': ''}]\n",
       "1         [{'author_id': '626222', 'role': ''}]\n",
       "2          [{'author_id': '10333', 'role': ''}]\n",
       "3           [{'author_id': '9212', 'role': ''}]\n",
       "4         [{'author_id': '149918', 'role': ''}]\n",
       "                          ...                  \n",
       "49996    [{'author_id': '3275288', 'role': ''}]\n",
       "49997    [{'author_id': '3510823', 'role': ''}]\n",
       "49998       [{'author_id': '3515', 'role': ''}]\n",
       "49999    [{'author_id': '7418796', 'role': ''}]\n",
       "50000    [{'author_id': '5829106', 'role': ''}]\n",
       "Name: authors, Length: 50001, dtype: object"
      ]
     },
     "execution_count": 16,
     "metadata": {},
     "output_type": "execute_result"
    }
   ],
   "source": [
    "books_df.authors"
   ]
  },
  {
   "cell_type": "markdown",
   "metadata": {
    "id": "hdyHcIA9AGUD"
   },
   "source": [
    "Under the \"authors\" column, all of the author id's in nested dictionaries, we want to extract the first author_id from each list and create as a new column "
   ]
  },
  {
   "cell_type": "code",
   "execution_count": 17,
   "metadata": {
    "id": "ALzyvP0s0LZ7"
   },
   "outputs": [],
   "source": [
    "# extract all the author id's and set as a new column in books dataframe\n",
    "\n",
    "\n",
    "books_df = books_df[(books_df['authors'].str.len() != 0)] #remove all empty lists"
   ]
  },
  {
   "cell_type": "code",
   "execution_count": 18,
   "metadata": {
    "id": "RrdcFciJ1LiA"
   },
   "outputs": [
    {
     "data": {
      "text/plain": [
       "0         [{'author_id': '604031', 'role': ''}]\n",
       "1         [{'author_id': '626222', 'role': ''}]\n",
       "2          [{'author_id': '10333', 'role': ''}]\n",
       "3           [{'author_id': '9212', 'role': ''}]\n",
       "4         [{'author_id': '149918', 'role': ''}]\n",
       "                          ...                  \n",
       "49996    [{'author_id': '3275288', 'role': ''}]\n",
       "49997    [{'author_id': '3510823', 'role': ''}]\n",
       "49998       [{'author_id': '3515', 'role': ''}]\n",
       "49999    [{'author_id': '7418796', 'role': ''}]\n",
       "50000    [{'author_id': '5829106', 'role': ''}]\n",
       "Name: authors, Length: 49992, dtype: object"
      ]
     },
     "execution_count": 18,
     "metadata": {},
     "output_type": "execute_result"
    }
   ],
   "source": [
    "books_df.authors"
   ]
  },
  {
   "cell_type": "code",
   "execution_count": 19,
   "metadata": {
    "id": "VKNv7Q5N1Xkk"
   },
   "outputs": [],
   "source": [
    "def extract_author(x):\n",
    "    #try:\n",
    "    return x[0]['author_id']"
   ]
  },
  {
   "cell_type": "code",
   "execution_count": 20,
   "metadata": {
    "id": "lLAfWwdf1oYa"
   },
   "outputs": [],
   "source": [
    "books_df['author_id'] = books_df.authors.apply(lambda x:  extract_author(x))\n",
    "books_df['author_id'] = books_df['author_id'].astype(int)"
   ]
  },
  {
   "cell_type": "code",
   "execution_count": 21,
   "metadata": {
    "id": "9xe8KmGU18im"
   },
   "outputs": [
    {
     "data": {
      "text/plain": [
       "0         604031\n",
       "1         626222\n",
       "2          10333\n",
       "3           9212\n",
       "4         149918\n",
       "          ...   \n",
       "49996    3275288\n",
       "49997    3510823\n",
       "49998       3515\n",
       "49999    7418796\n",
       "50000    5829106\n",
       "Name: author_id, Length: 49992, dtype: int32"
      ]
     },
     "execution_count": 21,
     "metadata": {},
     "output_type": "execute_result"
    }
   ],
   "source": [
    "books_df.author_id"
   ]
  },
  {
   "cell_type": "code",
   "execution_count": 22,
   "metadata": {
    "id": "pB25fxX03dmI"
   },
   "outputs": [
    {
     "data": {
      "text/html": [
       "<div>\n",
       "<style scoped>\n",
       "    .dataframe tbody tr th:only-of-type {\n",
       "        vertical-align: middle;\n",
       "    }\n",
       "\n",
       "    .dataframe tbody tr th {\n",
       "        vertical-align: top;\n",
       "    }\n",
       "\n",
       "    .dataframe thead th {\n",
       "        text-align: right;\n",
       "    }\n",
       "</style>\n",
       "<table border=\"1\" class=\"dataframe\">\n",
       "  <thead>\n",
       "    <tr style=\"text-align: right;\">\n",
       "      <th></th>\n",
       "      <th>isbn</th>\n",
       "      <th>text_reviews_count</th>\n",
       "      <th>series</th>\n",
       "      <th>country_code</th>\n",
       "      <th>language_code</th>\n",
       "      <th>asin</th>\n",
       "      <th>is_ebook</th>\n",
       "      <th>average_rating</th>\n",
       "      <th>kindle_asin</th>\n",
       "      <th>similar_books</th>\n",
       "      <th>...</th>\n",
       "      <th>isbn13</th>\n",
       "      <th>publication_month</th>\n",
       "      <th>edition_information</th>\n",
       "      <th>publication_year</th>\n",
       "      <th>book_id</th>\n",
       "      <th>ratings_count</th>\n",
       "      <th>work_id</th>\n",
       "      <th>title</th>\n",
       "      <th>title_without_series</th>\n",
       "      <th>author_id</th>\n",
       "    </tr>\n",
       "  </thead>\n",
       "  <tbody>\n",
       "    <tr>\n",
       "      <td>0</td>\n",
       "      <td>0312853122</td>\n",
       "      <td>1</td>\n",
       "      <td>[]</td>\n",
       "      <td>US</td>\n",
       "      <td></td>\n",
       "      <td></td>\n",
       "      <td>false</td>\n",
       "      <td>4.00</td>\n",
       "      <td></td>\n",
       "      <td>[]</td>\n",
       "      <td>...</td>\n",
       "      <td>9780312853129</td>\n",
       "      <td>9</td>\n",
       "      <td></td>\n",
       "      <td>1984</td>\n",
       "      <td>5333265</td>\n",
       "      <td>3</td>\n",
       "      <td>5400751</td>\n",
       "      <td>W.C. Fields: A Life on Film</td>\n",
       "      <td>W.C. Fields: A Life on Film</td>\n",
       "      <td>604031</td>\n",
       "    </tr>\n",
       "    <tr>\n",
       "      <td>1</td>\n",
       "      <td>0743509986</td>\n",
       "      <td>6</td>\n",
       "      <td>[]</td>\n",
       "      <td>US</td>\n",
       "      <td></td>\n",
       "      <td></td>\n",
       "      <td>false</td>\n",
       "      <td>3.23</td>\n",
       "      <td>B000FC0PBC</td>\n",
       "      <td>[8709549, 17074050, 28937, 158816, 228563, 112...</td>\n",
       "      <td>...</td>\n",
       "      <td>9780743509985</td>\n",
       "      <td>10</td>\n",
       "      <td>Abridged</td>\n",
       "      <td>2001</td>\n",
       "      <td>1333909</td>\n",
       "      <td>10</td>\n",
       "      <td>1323437</td>\n",
       "      <td>Good Harbor</td>\n",
       "      <td>Good Harbor</td>\n",
       "      <td>626222</td>\n",
       "    </tr>\n",
       "    <tr>\n",
       "      <td>2</td>\n",
       "      <td></td>\n",
       "      <td>7</td>\n",
       "      <td>[189911]</td>\n",
       "      <td>US</td>\n",
       "      <td>eng</td>\n",
       "      <td>B00071IKUY</td>\n",
       "      <td>false</td>\n",
       "      <td>4.03</td>\n",
       "      <td></td>\n",
       "      <td>[19997, 828466, 1569323, 425389, 1176674, 2627...</td>\n",
       "      <td>...</td>\n",
       "      <td></td>\n",
       "      <td></td>\n",
       "      <td>Book Club Edition</td>\n",
       "      <td>1987</td>\n",
       "      <td>7327624</td>\n",
       "      <td>140</td>\n",
       "      <td>8948723</td>\n",
       "      <td>The Unschooled Wizard (Sun Wolf and Starhawk, ...</td>\n",
       "      <td>The Unschooled Wizard (Sun Wolf and Starhawk, ...</td>\n",
       "      <td>10333</td>\n",
       "    </tr>\n",
       "    <tr>\n",
       "      <td>3</td>\n",
       "      <td>0743294297</td>\n",
       "      <td>3282</td>\n",
       "      <td>[]</td>\n",
       "      <td>US</td>\n",
       "      <td>eng</td>\n",
       "      <td></td>\n",
       "      <td>false</td>\n",
       "      <td>3.49</td>\n",
       "      <td>B002ENBLOK</td>\n",
       "      <td>[6604176, 6054190, 2285777, 82641, 7569453, 70...</td>\n",
       "      <td>...</td>\n",
       "      <td>9780743294294</td>\n",
       "      <td>7</td>\n",
       "      <td></td>\n",
       "      <td>2009</td>\n",
       "      <td>6066819</td>\n",
       "      <td>51184</td>\n",
       "      <td>6243154</td>\n",
       "      <td>Best Friends Forever</td>\n",
       "      <td>Best Friends Forever</td>\n",
       "      <td>9212</td>\n",
       "    </tr>\n",
       "    <tr>\n",
       "      <td>4</td>\n",
       "      <td>0850308712</td>\n",
       "      <td>5</td>\n",
       "      <td>[]</td>\n",
       "      <td>US</td>\n",
       "      <td></td>\n",
       "      <td></td>\n",
       "      <td>false</td>\n",
       "      <td>3.40</td>\n",
       "      <td></td>\n",
       "      <td>[]</td>\n",
       "      <td>...</td>\n",
       "      <td>9780850308716</td>\n",
       "      <td></td>\n",
       "      <td></td>\n",
       "      <td></td>\n",
       "      <td>287140</td>\n",
       "      <td>15</td>\n",
       "      <td>278577</td>\n",
       "      <td>Runic Astrology: Starcraft and Timekeeping in ...</td>\n",
       "      <td>Runic Astrology: Starcraft and Timekeeping in ...</td>\n",
       "      <td>149918</td>\n",
       "    </tr>\n",
       "    <tr>\n",
       "      <td>5</td>\n",
       "      <td>1599150603</td>\n",
       "      <td>7</td>\n",
       "      <td>[]</td>\n",
       "      <td>US</td>\n",
       "      <td></td>\n",
       "      <td></td>\n",
       "      <td>false</td>\n",
       "      <td>4.13</td>\n",
       "      <td>B00DU10PUG</td>\n",
       "      <td>[]</td>\n",
       "      <td>...</td>\n",
       "      <td>9781599150604</td>\n",
       "      <td>9</td>\n",
       "      <td></td>\n",
       "      <td>2006</td>\n",
       "      <td>287141</td>\n",
       "      <td>46</td>\n",
       "      <td>278578</td>\n",
       "      <td>The Aeneid for Boys and Girls</td>\n",
       "      <td>The Aeneid for Boys and Girls</td>\n",
       "      <td>3041852</td>\n",
       "    </tr>\n",
       "    <tr>\n",
       "      <td>6</td>\n",
       "      <td>0425040887</td>\n",
       "      <td>4</td>\n",
       "      <td>[]</td>\n",
       "      <td>US</td>\n",
       "      <td></td>\n",
       "      <td></td>\n",
       "      <td>false</td>\n",
       "      <td>4.38</td>\n",
       "      <td></td>\n",
       "      <td>[]</td>\n",
       "      <td>...</td>\n",
       "      <td>9780425040881</td>\n",
       "      <td>3</td>\n",
       "      <td></td>\n",
       "      <td>1979</td>\n",
       "      <td>378460</td>\n",
       "      <td>12</td>\n",
       "      <td>368291</td>\n",
       "      <td>The Wanting of Levine</td>\n",
       "      <td>The Wanting of Levine</td>\n",
       "      <td>215594</td>\n",
       "    </tr>\n",
       "    <tr>\n",
       "      <td>7</td>\n",
       "      <td>1934876569</td>\n",
       "      <td>6</td>\n",
       "      <td>[151854]</td>\n",
       "      <td>US</td>\n",
       "      <td></td>\n",
       "      <td></td>\n",
       "      <td>false</td>\n",
       "      <td>4.22</td>\n",
       "      <td></td>\n",
       "      <td>[948696, 439885, 274955, 12978730, 372986, 216...</td>\n",
       "      <td>...</td>\n",
       "      <td>9781934876565</td>\n",
       "      <td>3</td>\n",
       "      <td></td>\n",
       "      <td>2009</td>\n",
       "      <td>6066812</td>\n",
       "      <td>98</td>\n",
       "      <td>701117</td>\n",
       "      <td>All's Fairy in Love and War (Avalon: Web of Ma...</td>\n",
       "      <td>All's Fairy in Love and War (Avalon: Web of Ma...</td>\n",
       "      <td>19158</td>\n",
       "    </tr>\n",
       "    <tr>\n",
       "      <td>8</td>\n",
       "      <td></td>\n",
       "      <td>4</td>\n",
       "      <td>[]</td>\n",
       "      <td>US</td>\n",
       "      <td></td>\n",
       "      <td></td>\n",
       "      <td>true</td>\n",
       "      <td>3.86</td>\n",
       "      <td></td>\n",
       "      <td>[]</td>\n",
       "      <td>...</td>\n",
       "      <td>9781370889471</td>\n",
       "      <td>5</td>\n",
       "      <td></td>\n",
       "      <td>2017</td>\n",
       "      <td>34883016</td>\n",
       "      <td>5</td>\n",
       "      <td>56135087</td>\n",
       "      <td>Playmaker: A Venom Series Novella</td>\n",
       "      <td>Playmaker: A Venom Series Novella</td>\n",
       "      <td>5807700</td>\n",
       "    </tr>\n",
       "    <tr>\n",
       "      <td>9</td>\n",
       "      <td>0922915113</td>\n",
       "      <td>39</td>\n",
       "      <td>[]</td>\n",
       "      <td>US</td>\n",
       "      <td></td>\n",
       "      <td></td>\n",
       "      <td>false</td>\n",
       "      <td>3.81</td>\n",
       "      <td>B00AFYVB8Q</td>\n",
       "      <td>[287151, 1104760, 1172822, 440292, 287082, 630...</td>\n",
       "      <td>...</td>\n",
       "      <td>9780922915118</td>\n",
       "      <td>4</td>\n",
       "      <td></td>\n",
       "      <td>2000</td>\n",
       "      <td>287149</td>\n",
       "      <td>986</td>\n",
       "      <td>278586</td>\n",
       "      <td>The Devil's Notebook</td>\n",
       "      <td>The Devil's Notebook</td>\n",
       "      <td>2983296</td>\n",
       "    </tr>\n",
       "  </tbody>\n",
       "</table>\n",
       "<p>10 rows × 26 columns</p>\n",
       "</div>"
      ],
      "text/plain": [
       "         isbn text_reviews_count    series country_code language_code  \\\n",
       "0  0312853122                  1        []           US                 \n",
       "1  0743509986                  6        []           US                 \n",
       "2                              7  [189911]           US           eng   \n",
       "3  0743294297               3282        []           US           eng   \n",
       "4  0850308712                  5        []           US                 \n",
       "5  1599150603                  7        []           US                 \n",
       "6  0425040887                  4        []           US                 \n",
       "7  1934876569                  6  [151854]           US                 \n",
       "8                              4        []           US                 \n",
       "9  0922915113                 39        []           US                 \n",
       "\n",
       "         asin is_ebook average_rating kindle_asin  \\\n",
       "0                false           4.00               \n",
       "1                false           3.23  B000FC0PBC   \n",
       "2  B00071IKUY    false           4.03               \n",
       "3                false           3.49  B002ENBLOK   \n",
       "4                false           3.40               \n",
       "5                false           4.13  B00DU10PUG   \n",
       "6                false           4.38               \n",
       "7                false           4.22               \n",
       "8                 true           3.86               \n",
       "9                false           3.81  B00AFYVB8Q   \n",
       "\n",
       "                                       similar_books  ...         isbn13  \\\n",
       "0                                                 []  ...  9780312853129   \n",
       "1  [8709549, 17074050, 28937, 158816, 228563, 112...  ...  9780743509985   \n",
       "2  [19997, 828466, 1569323, 425389, 1176674, 2627...  ...                  \n",
       "3  [6604176, 6054190, 2285777, 82641, 7569453, 70...  ...  9780743294294   \n",
       "4                                                 []  ...  9780850308716   \n",
       "5                                                 []  ...  9781599150604   \n",
       "6                                                 []  ...  9780425040881   \n",
       "7  [948696, 439885, 274955, 12978730, 372986, 216...  ...  9781934876565   \n",
       "8                                                 []  ...  9781370889471   \n",
       "9  [287151, 1104760, 1172822, 440292, 287082, 630...  ...  9780922915118   \n",
       "\n",
       "  publication_month edition_information publication_year   book_id  \\\n",
       "0                 9                                 1984   5333265   \n",
       "1                10            Abridged             2001   1333909   \n",
       "2                     Book Club Edition             1987   7327624   \n",
       "3                 7                                 2009   6066819   \n",
       "4                                                           287140   \n",
       "5                 9                                 2006    287141   \n",
       "6                 3                                 1979    378460   \n",
       "7                 3                                 2009   6066812   \n",
       "8                 5                                 2017  34883016   \n",
       "9                 4                                 2000    287149   \n",
       "\n",
       "  ratings_count   work_id                                              title  \\\n",
       "0             3   5400751                        W.C. Fields: A Life on Film   \n",
       "1            10   1323437                                        Good Harbor   \n",
       "2           140   8948723  The Unschooled Wizard (Sun Wolf and Starhawk, ...   \n",
       "3         51184   6243154                               Best Friends Forever   \n",
       "4            15    278577  Runic Astrology: Starcraft and Timekeeping in ...   \n",
       "5            46    278578                      The Aeneid for Boys and Girls   \n",
       "6            12    368291                              The Wanting of Levine   \n",
       "7            98    701117  All's Fairy in Love and War (Avalon: Web of Ma...   \n",
       "8             5  56135087                  Playmaker: A Venom Series Novella   \n",
       "9           986    278586                               The Devil's Notebook   \n",
       "\n",
       "                                title_without_series author_id  \n",
       "0                        W.C. Fields: A Life on Film    604031  \n",
       "1                                        Good Harbor    626222  \n",
       "2  The Unschooled Wizard (Sun Wolf and Starhawk, ...     10333  \n",
       "3                               Best Friends Forever      9212  \n",
       "4  Runic Astrology: Starcraft and Timekeeping in ...    149918  \n",
       "5                      The Aeneid for Boys and Girls   3041852  \n",
       "6                              The Wanting of Levine    215594  \n",
       "7  All's Fairy in Love and War (Avalon: Web of Ma...     19158  \n",
       "8                  Playmaker: A Venom Series Novella   5807700  \n",
       "9                               The Devil's Notebook   2983296  \n",
       "\n",
       "[10 rows x 26 columns]"
      ]
     },
     "execution_count": 22,
     "metadata": {},
     "output_type": "execute_result"
    }
   ],
   "source": [
    "books_df[:10]"
   ]
  },
  {
   "cell_type": "markdown",
   "metadata": {
    "id": "hC3a18sFA1xy"
   },
   "source": [
    "Now that author_id's have been extracted, we can join the authors_df with the books_df on the author id's"
   ]
  },
  {
   "cell_type": "code",
   "execution_count": 23,
   "metadata": {
    "id": "JeCKXb_J3x5r"
   },
   "outputs": [],
   "source": [
    "authors_df[\"author_id\"] = authors_df[\"author_id\"].astype(int)"
   ]
  },
  {
   "cell_type": "code",
   "execution_count": 24,
   "metadata": {
    "id": "uPvDGMf84at4"
   },
   "outputs": [],
   "source": [
    "books_df[\"author_id\"]= books_df[\"author_id\"].astype(int)"
   ]
  },
  {
   "cell_type": "code",
   "execution_count": 25,
   "metadata": {
    "id": "EzD1VYne4hXk"
   },
   "outputs": [
    {
     "data": {
      "text/html": [
       "<div>\n",
       "<style scoped>\n",
       "    .dataframe tbody tr th:only-of-type {\n",
       "        vertical-align: middle;\n",
       "    }\n",
       "\n",
       "    .dataframe tbody tr th {\n",
       "        vertical-align: top;\n",
       "    }\n",
       "\n",
       "    .dataframe thead th {\n",
       "        text-align: right;\n",
       "    }\n",
       "</style>\n",
       "<table border=\"1\" class=\"dataframe\">\n",
       "  <thead>\n",
       "    <tr style=\"text-align: right;\">\n",
       "      <th></th>\n",
       "      <th>isbn</th>\n",
       "      <th>text_reviews_count_x</th>\n",
       "      <th>series</th>\n",
       "      <th>country_code</th>\n",
       "      <th>language_code</th>\n",
       "      <th>asin</th>\n",
       "      <th>is_ebook</th>\n",
       "      <th>average_rating_x</th>\n",
       "      <th>kindle_asin</th>\n",
       "      <th>similar_books</th>\n",
       "      <th>...</th>\n",
       "      <th>book_id</th>\n",
       "      <th>ratings_count_x</th>\n",
       "      <th>work_id</th>\n",
       "      <th>title</th>\n",
       "      <th>title_without_series</th>\n",
       "      <th>author_id</th>\n",
       "      <th>average_rating_y</th>\n",
       "      <th>text_reviews_count_y</th>\n",
       "      <th>name</th>\n",
       "      <th>ratings_count_y</th>\n",
       "    </tr>\n",
       "  </thead>\n",
       "  <tbody>\n",
       "    <tr>\n",
       "      <td>0</td>\n",
       "      <td>0312853122</td>\n",
       "      <td>1</td>\n",
       "      <td>[]</td>\n",
       "      <td>US</td>\n",
       "      <td></td>\n",
       "      <td></td>\n",
       "      <td>false</td>\n",
       "      <td>4.00</td>\n",
       "      <td></td>\n",
       "      <td>[]</td>\n",
       "      <td>...</td>\n",
       "      <td>5333265</td>\n",
       "      <td>3</td>\n",
       "      <td>5400751</td>\n",
       "      <td>W.C. Fields: A Life on Film</td>\n",
       "      <td>W.C. Fields: A Life on Film</td>\n",
       "      <td>604031</td>\n",
       "      <td>3.98</td>\n",
       "      <td>7</td>\n",
       "      <td>Ronald J. Fields</td>\n",
       "      <td>49</td>\n",
       "    </tr>\n",
       "    <tr>\n",
       "      <td>1</td>\n",
       "      <td>0743509986</td>\n",
       "      <td>6</td>\n",
       "      <td>[]</td>\n",
       "      <td>US</td>\n",
       "      <td></td>\n",
       "      <td></td>\n",
       "      <td>false</td>\n",
       "      <td>3.23</td>\n",
       "      <td>B000FC0PBC</td>\n",
       "      <td>[8709549, 17074050, 28937, 158816, 228563, 112...</td>\n",
       "      <td>...</td>\n",
       "      <td>1333909</td>\n",
       "      <td>10</td>\n",
       "      <td>1323437</td>\n",
       "      <td>Good Harbor</td>\n",
       "      <td>Good Harbor</td>\n",
       "      <td>626222</td>\n",
       "      <td>4.08</td>\n",
       "      <td>28716</td>\n",
       "      <td>Anita Diamant</td>\n",
       "      <td>546796</td>\n",
       "    </tr>\n",
       "    <tr>\n",
       "      <td>2</td>\n",
       "      <td>1250066611</td>\n",
       "      <td>19</td>\n",
       "      <td>[]</td>\n",
       "      <td>US</td>\n",
       "      <td>eng</td>\n",
       "      <td></td>\n",
       "      <td>false</td>\n",
       "      <td>4.16</td>\n",
       "      <td>B0759TPNWM</td>\n",
       "      <td>[405146, 828672, 130970, 114469, 3273, 358494,...</td>\n",
       "      <td>...</td>\n",
       "      <td>22240073</td>\n",
       "      <td>134</td>\n",
       "      <td>1041558</td>\n",
       "      <td>The Red Tent</td>\n",
       "      <td>The Red Tent</td>\n",
       "      <td>626222</td>\n",
       "      <td>4.08</td>\n",
       "      <td>28716</td>\n",
       "      <td>Anita Diamant</td>\n",
       "      <td>546796</td>\n",
       "    </tr>\n",
       "    <tr>\n",
       "      <td>3</td>\n",
       "      <td>0330487965</td>\n",
       "      <td>60</td>\n",
       "      <td>[]</td>\n",
       "      <td>US</td>\n",
       "      <td></td>\n",
       "      <td></td>\n",
       "      <td>false</td>\n",
       "      <td>4.16</td>\n",
       "      <td>B0759TPNWM</td>\n",
       "      <td>[405146, 828672, 130970, 114469, 3273, 358494,...</td>\n",
       "      <td>...</td>\n",
       "      <td>829305</td>\n",
       "      <td>460</td>\n",
       "      <td>1041558</td>\n",
       "      <td>The Red Tent</td>\n",
       "      <td>The Red Tent</td>\n",
       "      <td>626222</td>\n",
       "      <td>4.08</td>\n",
       "      <td>28716</td>\n",
       "      <td>Anita Diamant</td>\n",
       "      <td>546796</td>\n",
       "    </tr>\n",
       "  </tbody>\n",
       "</table>\n",
       "<p>4 rows × 30 columns</p>\n",
       "</div>"
      ],
      "text/plain": [
       "         isbn text_reviews_count_x series country_code language_code asin  \\\n",
       "0  0312853122                    1     []           US                      \n",
       "1  0743509986                    6     []           US                      \n",
       "2  1250066611                   19     []           US           eng        \n",
       "3  0330487965                   60     []           US                      \n",
       "\n",
       "  is_ebook average_rating_x kindle_asin  \\\n",
       "0    false             4.00               \n",
       "1    false             3.23  B000FC0PBC   \n",
       "2    false             4.16  B0759TPNWM   \n",
       "3    false             4.16  B0759TPNWM   \n",
       "\n",
       "                                       similar_books  ...   book_id  \\\n",
       "0                                                 []  ...   5333265   \n",
       "1  [8709549, 17074050, 28937, 158816, 228563, 112...  ...   1333909   \n",
       "2  [405146, 828672, 130970, 114469, 3273, 358494,...  ...  22240073   \n",
       "3  [405146, 828672, 130970, 114469, 3273, 358494,...  ...    829305   \n",
       "\n",
       "  ratings_count_x  work_id                        title  \\\n",
       "0               3  5400751  W.C. Fields: A Life on Film   \n",
       "1              10  1323437                  Good Harbor   \n",
       "2             134  1041558                 The Red Tent   \n",
       "3             460  1041558                 The Red Tent   \n",
       "\n",
       "          title_without_series author_id average_rating_y  \\\n",
       "0  W.C. Fields: A Life on Film    604031             3.98   \n",
       "1                  Good Harbor    626222             4.08   \n",
       "2                 The Red Tent    626222             4.08   \n",
       "3                 The Red Tent    626222             4.08   \n",
       "\n",
       "  text_reviews_count_y              name ratings_count_y  \n",
       "0                    7  Ronald J. Fields              49  \n",
       "1                28716     Anita Diamant          546796  \n",
       "2                28716     Anita Diamant          546796  \n",
       "3                28716     Anita Diamant          546796  \n",
       "\n",
       "[4 rows x 30 columns]"
      ]
     },
     "execution_count": 25,
     "metadata": {},
     "output_type": "execute_result"
    }
   ],
   "source": [
    "merged = pd.merge(left=books_df, right=authors_df, left_on='author_id', right_on='author_id')\n",
    "merged[:4]"
   ]
  },
  {
   "cell_type": "code",
   "execution_count": 26,
   "metadata": {
    "id": "ARMmmnD_7qtq"
   },
   "outputs": [
    {
     "data": {
      "text/plain": [
       "Index(['isbn', 'text_reviews_count_x', 'series', 'country_code',\n",
       "       'language_code', 'asin', 'is_ebook', 'average_rating_x', 'kindle_asin',\n",
       "       'similar_books', 'description', 'format', 'authors', 'publisher',\n",
       "       'num_pages', 'publication_day', 'isbn13', 'publication_month',\n",
       "       'edition_information', 'publication_year', 'book_id', 'ratings_count_x',\n",
       "       'work_id', 'title', 'title_without_series', 'author_id',\n",
       "       'average_rating_y', 'text_reviews_count_y', 'name', 'ratings_count_y'],\n",
       "      dtype='object')"
      ]
     },
     "execution_count": 26,
     "metadata": {},
     "output_type": "execute_result"
    }
   ],
   "source": [
    "merged.columns"
   ]
  },
  {
   "cell_type": "code",
   "execution_count": 27,
   "metadata": {
    "id": "BzK3cA6_7B5h"
   },
   "outputs": [],
   "source": [
    "merged=merged.rename(columns = {\"text_reviews_count_x\": \"books_reviews_count\", \"average_rating_x\" : \"books_average_rating\", \"ratings_count_x\": \"books_ratings_count\", \"average_rating_y\": \"authors_average_rating\", \"text_reviews_count_y\": \"authors_text_reviews_count\", \"ratings_count_y\": \"authors_ratings_count\"})"
   ]
  },
  {
   "cell_type": "code",
   "execution_count": 28,
   "metadata": {
    "id": "_IxhcCH884Mu"
   },
   "outputs": [
    {
     "data": {
      "text/html": [
       "<div>\n",
       "<style scoped>\n",
       "    .dataframe tbody tr th:only-of-type {\n",
       "        vertical-align: middle;\n",
       "    }\n",
       "\n",
       "    .dataframe tbody tr th {\n",
       "        vertical-align: top;\n",
       "    }\n",
       "\n",
       "    .dataframe thead th {\n",
       "        text-align: right;\n",
       "    }\n",
       "</style>\n",
       "<table border=\"1\" class=\"dataframe\">\n",
       "  <thead>\n",
       "    <tr style=\"text-align: right;\">\n",
       "      <th></th>\n",
       "      <th>isbn</th>\n",
       "      <th>books_reviews_count</th>\n",
       "      <th>series</th>\n",
       "      <th>country_code</th>\n",
       "      <th>language_code</th>\n",
       "      <th>asin</th>\n",
       "      <th>is_ebook</th>\n",
       "      <th>books_average_rating</th>\n",
       "      <th>kindle_asin</th>\n",
       "      <th>similar_books</th>\n",
       "      <th>...</th>\n",
       "      <th>book_id</th>\n",
       "      <th>books_ratings_count</th>\n",
       "      <th>work_id</th>\n",
       "      <th>title</th>\n",
       "      <th>title_without_series</th>\n",
       "      <th>author_id</th>\n",
       "      <th>authors_average_rating</th>\n",
       "      <th>authors_text_reviews_count</th>\n",
       "      <th>name</th>\n",
       "      <th>authors_ratings_count</th>\n",
       "    </tr>\n",
       "  </thead>\n",
       "  <tbody>\n",
       "    <tr>\n",
       "      <td>0</td>\n",
       "      <td>0312853122</td>\n",
       "      <td>1</td>\n",
       "      <td>[]</td>\n",
       "      <td>US</td>\n",
       "      <td></td>\n",
       "      <td></td>\n",
       "      <td>false</td>\n",
       "      <td>4.00</td>\n",
       "      <td></td>\n",
       "      <td>[]</td>\n",
       "      <td>...</td>\n",
       "      <td>5333265</td>\n",
       "      <td>3</td>\n",
       "      <td>5400751</td>\n",
       "      <td>W.C. Fields: A Life on Film</td>\n",
       "      <td>W.C. Fields: A Life on Film</td>\n",
       "      <td>604031</td>\n",
       "      <td>3.98</td>\n",
       "      <td>7</td>\n",
       "      <td>Ronald J. Fields</td>\n",
       "      <td>49</td>\n",
       "    </tr>\n",
       "    <tr>\n",
       "      <td>1</td>\n",
       "      <td>0743509986</td>\n",
       "      <td>6</td>\n",
       "      <td>[]</td>\n",
       "      <td>US</td>\n",
       "      <td></td>\n",
       "      <td></td>\n",
       "      <td>false</td>\n",
       "      <td>3.23</td>\n",
       "      <td>B000FC0PBC</td>\n",
       "      <td>[8709549, 17074050, 28937, 158816, 228563, 112...</td>\n",
       "      <td>...</td>\n",
       "      <td>1333909</td>\n",
       "      <td>10</td>\n",
       "      <td>1323437</td>\n",
       "      <td>Good Harbor</td>\n",
       "      <td>Good Harbor</td>\n",
       "      <td>626222</td>\n",
       "      <td>4.08</td>\n",
       "      <td>28716</td>\n",
       "      <td>Anita Diamant</td>\n",
       "      <td>546796</td>\n",
       "    </tr>\n",
       "    <tr>\n",
       "      <td>2</td>\n",
       "      <td>1250066611</td>\n",
       "      <td>19</td>\n",
       "      <td>[]</td>\n",
       "      <td>US</td>\n",
       "      <td>eng</td>\n",
       "      <td></td>\n",
       "      <td>false</td>\n",
       "      <td>4.16</td>\n",
       "      <td>B0759TPNWM</td>\n",
       "      <td>[405146, 828672, 130970, 114469, 3273, 358494,...</td>\n",
       "      <td>...</td>\n",
       "      <td>22240073</td>\n",
       "      <td>134</td>\n",
       "      <td>1041558</td>\n",
       "      <td>The Red Tent</td>\n",
       "      <td>The Red Tent</td>\n",
       "      <td>626222</td>\n",
       "      <td>4.08</td>\n",
       "      <td>28716</td>\n",
       "      <td>Anita Diamant</td>\n",
       "      <td>546796</td>\n",
       "    </tr>\n",
       "    <tr>\n",
       "      <td>3</td>\n",
       "      <td>0330487965</td>\n",
       "      <td>60</td>\n",
       "      <td>[]</td>\n",
       "      <td>US</td>\n",
       "      <td></td>\n",
       "      <td></td>\n",
       "      <td>false</td>\n",
       "      <td>4.16</td>\n",
       "      <td>B0759TPNWM</td>\n",
       "      <td>[405146, 828672, 130970, 114469, 3273, 358494,...</td>\n",
       "      <td>...</td>\n",
       "      <td>829305</td>\n",
       "      <td>460</td>\n",
       "      <td>1041558</td>\n",
       "      <td>The Red Tent</td>\n",
       "      <td>The Red Tent</td>\n",
       "      <td>626222</td>\n",
       "      <td>4.08</td>\n",
       "      <td>28716</td>\n",
       "      <td>Anita Diamant</td>\n",
       "      <td>546796</td>\n",
       "    </tr>\n",
       "  </tbody>\n",
       "</table>\n",
       "<p>4 rows × 30 columns</p>\n",
       "</div>"
      ],
      "text/plain": [
       "         isbn books_reviews_count series country_code language_code asin  \\\n",
       "0  0312853122                   1     []           US                      \n",
       "1  0743509986                   6     []           US                      \n",
       "2  1250066611                  19     []           US           eng        \n",
       "3  0330487965                  60     []           US                      \n",
       "\n",
       "  is_ebook books_average_rating kindle_asin  \\\n",
       "0    false                 4.00               \n",
       "1    false                 3.23  B000FC0PBC   \n",
       "2    false                 4.16  B0759TPNWM   \n",
       "3    false                 4.16  B0759TPNWM   \n",
       "\n",
       "                                       similar_books  ...   book_id  \\\n",
       "0                                                 []  ...   5333265   \n",
       "1  [8709549, 17074050, 28937, 158816, 228563, 112...  ...   1333909   \n",
       "2  [405146, 828672, 130970, 114469, 3273, 358494,...  ...  22240073   \n",
       "3  [405146, 828672, 130970, 114469, 3273, 358494,...  ...    829305   \n",
       "\n",
       "  books_ratings_count  work_id                        title  \\\n",
       "0                   3  5400751  W.C. Fields: A Life on Film   \n",
       "1                  10  1323437                  Good Harbor   \n",
       "2                 134  1041558                 The Red Tent   \n",
       "3                 460  1041558                 The Red Tent   \n",
       "\n",
       "          title_without_series author_id authors_average_rating  \\\n",
       "0  W.C. Fields: A Life on Film    604031                   3.98   \n",
       "1                  Good Harbor    626222                   4.08   \n",
       "2                 The Red Tent    626222                   4.08   \n",
       "3                 The Red Tent    626222                   4.08   \n",
       "\n",
       "  authors_text_reviews_count              name authors_ratings_count  \n",
       "0                          7  Ronald J. Fields                    49  \n",
       "1                      28716     Anita Diamant                546796  \n",
       "2                      28716     Anita Diamant                546796  \n",
       "3                      28716     Anita Diamant                546796  \n",
       "\n",
       "[4 rows x 30 columns]"
      ]
     },
     "execution_count": 28,
     "metadata": {},
     "output_type": "execute_result"
    }
   ],
   "source": [
    "merged[:4]"
   ]
  },
  {
   "cell_type": "code",
   "execution_count": 29,
   "metadata": {
    "id": "oVG-23wY87X0"
   },
   "outputs": [
    {
     "data": {
      "text/plain": [
       "Index(['isbn', 'books_reviews_count', 'series', 'country_code',\n",
       "       'language_code', 'asin', 'is_ebook', 'books_average_rating',\n",
       "       'kindle_asin', 'similar_books', 'description', 'format', 'authors',\n",
       "       'publisher', 'num_pages', 'publication_day', 'isbn13',\n",
       "       'publication_month', 'edition_information', 'publication_year',\n",
       "       'book_id', 'books_ratings_count', 'work_id', 'title',\n",
       "       'title_without_series', 'author_id', 'authors_average_rating',\n",
       "       'authors_text_reviews_count', 'name', 'authors_ratings_count'],\n",
       "      dtype='object')"
      ]
     },
     "execution_count": 29,
     "metadata": {},
     "output_type": "execute_result"
    }
   ],
   "source": [
    "merged.columns"
   ]
  },
  {
   "cell_type": "markdown",
   "metadata": {
    "id": "ZNBJfD8jBAqn"
   },
   "source": [
    "The new merged_df now has the author's features joined with the books features on the author_ids"
   ]
  },
  {
   "cell_type": "markdown",
   "metadata": {
    "id": "DynHNWXK9SeC"
   },
   "source": [
    "2. Extract all non fiction and fiction classifications for books, and join on the new merged dataframe"
   ]
  },
  {
   "cell_type": "code",
   "execution_count": 30,
   "metadata": {
    "id": "m-q9gvaf9cAz"
   },
   "outputs": [
    {
     "data": {
      "text/plain": [
       "0              {'history, historical fiction, biography': 1}\n",
       "1          {'fiction': 219, 'history, historical fiction,...\n",
       "2          {'fantasy, paranormal': 31, 'fiction': 8, 'mys...\n",
       "3          {'fiction': 555, 'romance': 23, 'mystery, thri...\n",
       "4                                         {'non-fiction': 3}\n",
       "                                 ...                        \n",
       "2360650    {'non-fiction': 5, 'history, historical fictio...\n",
       "2360651    {'mystery, thriller, crime': 4, 'children': 1,...\n",
       "2360652    {'poetry': 14, 'children': 7, 'young-adult': 1...\n",
       "2360653       {'romance': 13, 'mystery, thriller, crime': 2}\n",
       "2360654                        {'romance': 19, 'fiction': 4}\n",
       "Name: genres, Length: 2360655, dtype: object"
      ]
     },
     "execution_count": 30,
     "metadata": {},
     "output_type": "execute_result"
    }
   ],
   "source": [
    "genre_df.genres"
   ]
  },
  {
   "cell_type": "markdown",
   "metadata": {
    "id": "BmeqS3kJBKNg"
   },
   "source": [
    "Genres_df contains a lot of extraneous classifications and data that won't be needed in our analysis, we want to extract only the \"fiction\" and \"nonfiction\" classifications for each book_id"
   ]
  },
  {
   "cell_type": "code",
   "execution_count": 31,
   "metadata": {
    "id": "wdl3soAXB40D"
   },
   "outputs": [],
   "source": [
    "genre_df.genres = genre_df.genres.apply(lambda x: list(x.keys()))"
   ]
  },
  {
   "cell_type": "code",
   "execution_count": 32,
   "metadata": {
    "id": "L0acsejhCDZk"
   },
   "outputs": [
    {
     "data": {
      "text/plain": [
       "0                   [history, historical fiction, biography]\n",
       "1          [fiction, history, historical fiction, biography]\n",
       "2          [fantasy, paranormal, fiction, mystery, thrill...\n",
       "3               [fiction, romance, mystery, thriller, crime]\n",
       "4                                              [non-fiction]\n",
       "                                 ...                        \n",
       "2360650    [non-fiction, history, historical fiction, bio...\n",
       "2360651        [mystery, thriller, crime, children, fiction]\n",
       "2360652         [poetry, children, young-adult, non-fiction]\n",
       "2360653                  [romance, mystery, thriller, crime]\n",
       "2360654                                   [romance, fiction]\n",
       "Name: genres, Length: 2360655, dtype: object"
      ]
     },
     "execution_count": 32,
     "metadata": {},
     "output_type": "execute_result"
    }
   ],
   "source": [
    "genre_df.genres"
   ]
  },
  {
   "cell_type": "code",
   "execution_count": 33,
   "metadata": {
    "id": "QLUAqZadDion"
   },
   "outputs": [
    {
     "data": {
      "text/html": [
       "<div>\n",
       "<style scoped>\n",
       "    .dataframe tbody tr th:only-of-type {\n",
       "        vertical-align: middle;\n",
       "    }\n",
       "\n",
       "    .dataframe tbody tr th {\n",
       "        vertical-align: top;\n",
       "    }\n",
       "\n",
       "    .dataframe thead th {\n",
       "        text-align: right;\n",
       "    }\n",
       "</style>\n",
       "<table border=\"1\" class=\"dataframe\">\n",
       "  <thead>\n",
       "    <tr style=\"text-align: right;\">\n",
       "      <th></th>\n",
       "      <th>book_id</th>\n",
       "      <th>genres</th>\n",
       "    </tr>\n",
       "  </thead>\n",
       "  <tbody>\n",
       "    <tr>\n",
       "      <td>0</td>\n",
       "      <td>5333265</td>\n",
       "      <td>[history, historical fiction, biography]</td>\n",
       "    </tr>\n",
       "    <tr>\n",
       "      <td>1</td>\n",
       "      <td>1333909</td>\n",
       "      <td>[fiction, history, historical fiction, biography]</td>\n",
       "    </tr>\n",
       "    <tr>\n",
       "      <td>2</td>\n",
       "      <td>7327624</td>\n",
       "      <td>[fantasy, paranormal, fiction, mystery, thrill...</td>\n",
       "    </tr>\n",
       "    <tr>\n",
       "      <td>3</td>\n",
       "      <td>6066819</td>\n",
       "      <td>[fiction, romance, mystery, thriller, crime]</td>\n",
       "    </tr>\n",
       "    <tr>\n",
       "      <td>4</td>\n",
       "      <td>287140</td>\n",
       "      <td>[non-fiction]</td>\n",
       "    </tr>\n",
       "    <tr>\n",
       "      <td>...</td>\n",
       "      <td>...</td>\n",
       "      <td>...</td>\n",
       "    </tr>\n",
       "    <tr>\n",
       "      <td>2360650</td>\n",
       "      <td>3084038</td>\n",
       "      <td>[non-fiction, history, historical fiction, bio...</td>\n",
       "    </tr>\n",
       "    <tr>\n",
       "      <td>2360651</td>\n",
       "      <td>26168430</td>\n",
       "      <td>[mystery, thriller, crime, children, fiction]</td>\n",
       "    </tr>\n",
       "    <tr>\n",
       "      <td>2360652</td>\n",
       "      <td>2342551</td>\n",
       "      <td>[poetry, children, young-adult, non-fiction]</td>\n",
       "    </tr>\n",
       "    <tr>\n",
       "      <td>2360653</td>\n",
       "      <td>22017381</td>\n",
       "      <td>[romance, mystery, thriller, crime]</td>\n",
       "    </tr>\n",
       "    <tr>\n",
       "      <td>2360654</td>\n",
       "      <td>11419866</td>\n",
       "      <td>[romance, fiction]</td>\n",
       "    </tr>\n",
       "  </tbody>\n",
       "</table>\n",
       "<p>2360655 rows × 2 columns</p>\n",
       "</div>"
      ],
      "text/plain": [
       "          book_id                                             genres\n",
       "0         5333265           [history, historical fiction, biography]\n",
       "1         1333909  [fiction, history, historical fiction, biography]\n",
       "2         7327624  [fantasy, paranormal, fiction, mystery, thrill...\n",
       "3         6066819       [fiction, romance, mystery, thriller, crime]\n",
       "4          287140                                      [non-fiction]\n",
       "...           ...                                                ...\n",
       "2360650   3084038  [non-fiction, history, historical fiction, bio...\n",
       "2360651  26168430      [mystery, thriller, crime, children, fiction]\n",
       "2360652   2342551       [poetry, children, young-adult, non-fiction]\n",
       "2360653  22017381                [romance, mystery, thriller, crime]\n",
       "2360654  11419866                                 [romance, fiction]\n",
       "\n",
       "[2360655 rows x 2 columns]"
      ]
     },
     "execution_count": 33,
     "metadata": {},
     "output_type": "execute_result"
    }
   ],
   "source": [
    "genre_df"
   ]
  },
  {
   "cell_type": "code",
   "execution_count": 34,
   "metadata": {
    "id": "eewbPAy9E3l8"
   },
   "outputs": [],
   "source": [
    "new_genre_df = genre_df[genre_df['genres'].str.len()>0]"
   ]
  },
  {
   "cell_type": "code",
   "execution_count": 35,
   "metadata": {
    "id": "8GhorD1pCgb7"
   },
   "outputs": [],
   "source": [
    "\n",
    "new_genre_df = genre_df[\"genres\"].apply(lambda x : ' '.join(x).replace(',',' ').split())"
   ]
  },
  {
   "cell_type": "code",
   "execution_count": 36,
   "metadata": {
    "id": "SRhzPBCtCzFk"
   },
   "outputs": [
    {
     "data": {
      "text/plain": [
       "0                  [history, historical, fiction, biography]\n",
       "1          [fiction, history, historical, fiction, biogra...\n",
       "2          [fantasy, paranormal, fiction, mystery, thrill...\n",
       "3               [fiction, romance, mystery, thriller, crime]\n",
       "4                                              [non-fiction]\n",
       "                                 ...                        \n",
       "2360650    [non-fiction, history, historical, fiction, bi...\n",
       "2360651        [mystery, thriller, crime, children, fiction]\n",
       "2360652         [poetry, children, young-adult, non-fiction]\n",
       "2360653                  [romance, mystery, thriller, crime]\n",
       "2360654                                   [romance, fiction]\n",
       "Name: genres, Length: 2360655, dtype: object"
      ]
     },
     "execution_count": 36,
     "metadata": {},
     "output_type": "execute_result"
    }
   ],
   "source": [
    "new_genre_df"
   ]
  },
  {
   "cell_type": "markdown",
   "metadata": {
    "id": "zoCGCQOPC5ZV"
   },
   "source": [
    "Each values are seperated string values rather to easily extract \"nonfiction\" and \"fiction\" strings"
   ]
  },
  {
   "cell_type": "code",
   "execution_count": 37,
   "metadata": {
    "id": "hj5-sE4ODGEx"
   },
   "outputs": [],
   "source": [
    "# Non-fiction: 1, fiction: 0, binary classification\n",
    "\n",
    "genre_df['fiction_or_nonFiction'] = new_genre_df.apply(lambda x : 1 if (\"non-fiction\" in x) else 0)"
   ]
  },
  {
   "cell_type": "code",
   "execution_count": 38,
   "metadata": {
    "id": "ij3e4ZavDGMK"
   },
   "outputs": [
    {
     "data": {
      "text/html": [
       "<div>\n",
       "<style scoped>\n",
       "    .dataframe tbody tr th:only-of-type {\n",
       "        vertical-align: middle;\n",
       "    }\n",
       "\n",
       "    .dataframe tbody tr th {\n",
       "        vertical-align: top;\n",
       "    }\n",
       "\n",
       "    .dataframe thead th {\n",
       "        text-align: right;\n",
       "    }\n",
       "</style>\n",
       "<table border=\"1\" class=\"dataframe\">\n",
       "  <thead>\n",
       "    <tr style=\"text-align: right;\">\n",
       "      <th></th>\n",
       "      <th>book_id</th>\n",
       "      <th>genres</th>\n",
       "      <th>fiction_or_nonFiction</th>\n",
       "    </tr>\n",
       "  </thead>\n",
       "  <tbody>\n",
       "    <tr>\n",
       "      <td>0</td>\n",
       "      <td>5333265</td>\n",
       "      <td>[history, historical fiction, biography]</td>\n",
       "      <td>0</td>\n",
       "    </tr>\n",
       "    <tr>\n",
       "      <td>1</td>\n",
       "      <td>1333909</td>\n",
       "      <td>[fiction, history, historical fiction, biography]</td>\n",
       "      <td>0</td>\n",
       "    </tr>\n",
       "    <tr>\n",
       "      <td>2</td>\n",
       "      <td>7327624</td>\n",
       "      <td>[fantasy, paranormal, fiction, mystery, thrill...</td>\n",
       "      <td>0</td>\n",
       "    </tr>\n",
       "    <tr>\n",
       "      <td>3</td>\n",
       "      <td>6066819</td>\n",
       "      <td>[fiction, romance, mystery, thriller, crime]</td>\n",
       "      <td>0</td>\n",
       "    </tr>\n",
       "    <tr>\n",
       "      <td>4</td>\n",
       "      <td>287140</td>\n",
       "      <td>[non-fiction]</td>\n",
       "      <td>1</td>\n",
       "    </tr>\n",
       "    <tr>\n",
       "      <td>...</td>\n",
       "      <td>...</td>\n",
       "      <td>...</td>\n",
       "      <td>...</td>\n",
       "    </tr>\n",
       "    <tr>\n",
       "      <td>2360650</td>\n",
       "      <td>3084038</td>\n",
       "      <td>[non-fiction, history, historical fiction, bio...</td>\n",
       "      <td>1</td>\n",
       "    </tr>\n",
       "    <tr>\n",
       "      <td>2360651</td>\n",
       "      <td>26168430</td>\n",
       "      <td>[mystery, thriller, crime, children, fiction]</td>\n",
       "      <td>0</td>\n",
       "    </tr>\n",
       "    <tr>\n",
       "      <td>2360652</td>\n",
       "      <td>2342551</td>\n",
       "      <td>[poetry, children, young-adult, non-fiction]</td>\n",
       "      <td>1</td>\n",
       "    </tr>\n",
       "    <tr>\n",
       "      <td>2360653</td>\n",
       "      <td>22017381</td>\n",
       "      <td>[romance, mystery, thriller, crime]</td>\n",
       "      <td>0</td>\n",
       "    </tr>\n",
       "    <tr>\n",
       "      <td>2360654</td>\n",
       "      <td>11419866</td>\n",
       "      <td>[romance, fiction]</td>\n",
       "      <td>0</td>\n",
       "    </tr>\n",
       "  </tbody>\n",
       "</table>\n",
       "<p>2360655 rows × 3 columns</p>\n",
       "</div>"
      ],
      "text/plain": [
       "          book_id                                             genres  \\\n",
       "0         5333265           [history, historical fiction, biography]   \n",
       "1         1333909  [fiction, history, historical fiction, biography]   \n",
       "2         7327624  [fantasy, paranormal, fiction, mystery, thrill...   \n",
       "3         6066819       [fiction, romance, mystery, thriller, crime]   \n",
       "4          287140                                      [non-fiction]   \n",
       "...           ...                                                ...   \n",
       "2360650   3084038  [non-fiction, history, historical fiction, bio...   \n",
       "2360651  26168430      [mystery, thriller, crime, children, fiction]   \n",
       "2360652   2342551       [poetry, children, young-adult, non-fiction]   \n",
       "2360653  22017381                [romance, mystery, thriller, crime]   \n",
       "2360654  11419866                                 [romance, fiction]   \n",
       "\n",
       "         fiction_or_nonFiction  \n",
       "0                            0  \n",
       "1                            0  \n",
       "2                            0  \n",
       "3                            0  \n",
       "4                            1  \n",
       "...                        ...  \n",
       "2360650                      1  \n",
       "2360651                      0  \n",
       "2360652                      1  \n",
       "2360653                      0  \n",
       "2360654                      0  \n",
       "\n",
       "[2360655 rows x 3 columns]"
      ]
     },
     "execution_count": 38,
     "metadata": {},
     "output_type": "execute_result"
    }
   ],
   "source": [
    "genre_df"
   ]
  },
  {
   "cell_type": "code",
   "execution_count": 39,
   "metadata": {
    "id": "9MdauuyYG0O6"
   },
   "outputs": [],
   "source": [
    "merged[\"book_id\"] = merged[\"book_id\"].astype(int)\n",
    "genre_df[\"book_id\"] = genre_df[\"book_id\"].astype(int)"
   ]
  },
  {
   "cell_type": "code",
   "execution_count": 40,
   "metadata": {
    "id": "sD5HvrJtHIUw"
   },
   "outputs": [],
   "source": [
    "merged = merged.join(genre_df.set_index('book_id'), on = 'book_id')"
   ]
  },
  {
   "cell_type": "code",
   "execution_count": 41,
   "metadata": {
    "id": "mo2ZVaipHQ0g"
   },
   "outputs": [
    {
     "data": {
      "text/html": [
       "<div>\n",
       "<style scoped>\n",
       "    .dataframe tbody tr th:only-of-type {\n",
       "        vertical-align: middle;\n",
       "    }\n",
       "\n",
       "    .dataframe tbody tr th {\n",
       "        vertical-align: top;\n",
       "    }\n",
       "\n",
       "    .dataframe thead th {\n",
       "        text-align: right;\n",
       "    }\n",
       "</style>\n",
       "<table border=\"1\" class=\"dataframe\">\n",
       "  <thead>\n",
       "    <tr style=\"text-align: right;\">\n",
       "      <th></th>\n",
       "      <th>isbn</th>\n",
       "      <th>books_reviews_count</th>\n",
       "      <th>series</th>\n",
       "      <th>country_code</th>\n",
       "      <th>language_code</th>\n",
       "      <th>asin</th>\n",
       "      <th>is_ebook</th>\n",
       "      <th>books_average_rating</th>\n",
       "      <th>kindle_asin</th>\n",
       "      <th>similar_books</th>\n",
       "      <th>...</th>\n",
       "      <th>work_id</th>\n",
       "      <th>title</th>\n",
       "      <th>title_without_series</th>\n",
       "      <th>author_id</th>\n",
       "      <th>authors_average_rating</th>\n",
       "      <th>authors_text_reviews_count</th>\n",
       "      <th>name</th>\n",
       "      <th>authors_ratings_count</th>\n",
       "      <th>genres</th>\n",
       "      <th>fiction_or_nonFiction</th>\n",
       "    </tr>\n",
       "  </thead>\n",
       "  <tbody>\n",
       "    <tr>\n",
       "      <td>100</td>\n",
       "      <td>8610012735</td>\n",
       "      <td>7</td>\n",
       "      <td>[687725]</td>\n",
       "      <td>US</td>\n",
       "      <td>srp</td>\n",
       "      <td></td>\n",
       "      <td>false</td>\n",
       "      <td>3.92</td>\n",
       "      <td></td>\n",
       "      <td>[15802120, 12860638, 29875363, 18667817, 34947...</td>\n",
       "      <td>...</td>\n",
       "      <td>26680281</td>\n",
       "      <td>Gospodin Mercedes (Bill Hodges Trilogy, #1)</td>\n",
       "      <td>Gospodin Mercedes (Bill Hodges Trilogy, #1)</td>\n",
       "      <td>3389</td>\n",
       "      <td>4.01</td>\n",
       "      <td>367487</td>\n",
       "      <td>Stephen King</td>\n",
       "      <td>10666719</td>\n",
       "      <td>[fiction, mystery, thriller, crime]</td>\n",
       "      <td>0</td>\n",
       "    </tr>\n",
       "    <tr>\n",
       "      <td>101</td>\n",
       "      <td>0452284724</td>\n",
       "      <td>54</td>\n",
       "      <td>[152256]</td>\n",
       "      <td>US</td>\n",
       "      <td>en-US</td>\n",
       "      <td></td>\n",
       "      <td>false</td>\n",
       "      <td>4.24</td>\n",
       "      <td>B018ER7IMS</td>\n",
       "      <td>[9810195, 10596, 32627, 116982, 400906, 459064...</td>\n",
       "      <td>...</td>\n",
       "      <td>750558</td>\n",
       "      <td>Wizard and Glass (The Dark Tower, #4)</td>\n",
       "      <td>Wizard and Glass (The Dark Tower, #4)</td>\n",
       "      <td>3389</td>\n",
       "      <td>4.01</td>\n",
       "      <td>367487</td>\n",
       "      <td>Stephen King</td>\n",
       "      <td>10666719</td>\n",
       "      <td>[fantasy, paranormal, fiction, mystery, thrill...</td>\n",
       "      <td>0</td>\n",
       "    </tr>\n",
       "    <tr>\n",
       "      <td>102</td>\n",
       "      <td>1848941145</td>\n",
       "      <td>2</td>\n",
       "      <td>[179872]</td>\n",
       "      <td>US</td>\n",
       "      <td>eng</td>\n",
       "      <td></td>\n",
       "      <td>true</td>\n",
       "      <td>3.98</td>\n",
       "      <td></td>\n",
       "      <td>[8728918, 349473, 12495799, 938544, 60832, 324...</td>\n",
       "      <td>...</td>\n",
       "      <td>1178083</td>\n",
       "      <td>Song of Susannah (The Dark Tower, #6)</td>\n",
       "      <td>Song of Susannah (The Dark Tower, #6)</td>\n",
       "      <td>3389</td>\n",
       "      <td>4.01</td>\n",
       "      <td>367487</td>\n",
       "      <td>Stephen King</td>\n",
       "      <td>10666719</td>\n",
       "      <td>[fantasy, paranormal, fiction, mystery, thrill...</td>\n",
       "      <td>0</td>\n",
       "    </tr>\n",
       "    <tr>\n",
       "      <td>103</td>\n",
       "      <td></td>\n",
       "      <td>119</td>\n",
       "      <td>[]</td>\n",
       "      <td>US</td>\n",
       "      <td>eng</td>\n",
       "      <td></td>\n",
       "      <td>true</td>\n",
       "      <td>3.88</td>\n",
       "      <td></td>\n",
       "      <td>[28514417, 22886631, 22888764, 25066755, 86645...</td>\n",
       "      <td>...</td>\n",
       "      <td>51277695</td>\n",
       "      <td>Cookie Jar: A Short Story</td>\n",
       "      <td>Cookie Jar: A Short Story</td>\n",
       "      <td>3389</td>\n",
       "      <td>4.01</td>\n",
       "      <td>367487</td>\n",
       "      <td>Stephen King</td>\n",
       "      <td>10666719</td>\n",
       "      <td>[fantasy, paranormal, fiction, mystery, thrill...</td>\n",
       "      <td>0</td>\n",
       "    </tr>\n",
       "    <tr>\n",
       "      <td>104</td>\n",
       "      <td>1444708139</td>\n",
       "      <td>99</td>\n",
       "      <td>[]</td>\n",
       "      <td>US</td>\n",
       "      <td></td>\n",
       "      <td></td>\n",
       "      <td>false</td>\n",
       "      <td>3.92</td>\n",
       "      <td>B00K3NEE56</td>\n",
       "      <td>[10596, 397872, 6555, 34605, 733895, 32430, 11...</td>\n",
       "      <td>...</td>\n",
       "      <td>150017</td>\n",
       "      <td>Pet Sematary</td>\n",
       "      <td>Pet Sematary</td>\n",
       "      <td>3389</td>\n",
       "      <td>4.01</td>\n",
       "      <td>367487</td>\n",
       "      <td>Stephen King</td>\n",
       "      <td>10666719</td>\n",
       "      <td>[fiction, fantasy, paranormal, mystery, thrill...</td>\n",
       "      <td>0</td>\n",
       "    </tr>\n",
       "    <tr>\n",
       "      <td>...</td>\n",
       "      <td>...</td>\n",
       "      <td>...</td>\n",
       "      <td>...</td>\n",
       "      <td>...</td>\n",
       "      <td>...</td>\n",
       "      <td>...</td>\n",
       "      <td>...</td>\n",
       "      <td>...</td>\n",
       "      <td>...</td>\n",
       "      <td>...</td>\n",
       "      <td>...</td>\n",
       "      <td>...</td>\n",
       "      <td>...</td>\n",
       "      <td>...</td>\n",
       "      <td>...</td>\n",
       "      <td>...</td>\n",
       "      <td>...</td>\n",
       "      <td>...</td>\n",
       "      <td>...</td>\n",
       "      <td>...</td>\n",
       "      <td>...</td>\n",
       "    </tr>\n",
       "    <tr>\n",
       "      <td>295</td>\n",
       "      <td>0563510218</td>\n",
       "      <td>3</td>\n",
       "      <td>[]</td>\n",
       "      <td>US</td>\n",
       "      <td>eng</td>\n",
       "      <td></td>\n",
       "      <td>false</td>\n",
       "      <td>3.64</td>\n",
       "      <td></td>\n",
       "      <td>[]</td>\n",
       "      <td>...</td>\n",
       "      <td>56748789</td>\n",
       "      <td>Mrs. McGinty's Dead: A BBC Radio 4 Full-Cast D...</td>\n",
       "      <td>Mrs. McGinty's Dead: A BBC Radio 4 Full-Cast D...</td>\n",
       "      <td>123715</td>\n",
       "      <td>3.97</td>\n",
       "      <td>115724</td>\n",
       "      <td>Agatha Christie</td>\n",
       "      <td>2559239</td>\n",
       "      <td>[mystery, thriller, crime]</td>\n",
       "      <td>0</td>\n",
       "    </tr>\n",
       "    <tr>\n",
       "      <td>296</td>\n",
       "      <td></td>\n",
       "      <td>1</td>\n",
       "      <td>[227079]</td>\n",
       "      <td>US</td>\n",
       "      <td>nor</td>\n",
       "      <td></td>\n",
       "      <td>false</td>\n",
       "      <td>3.80</td>\n",
       "      <td></td>\n",
       "      <td>[280990, 1332179, 2008927, 383223, 192888, 311...</td>\n",
       "      <td>...</td>\n",
       "      <td>625995</td>\n",
       "      <td>Den åpne graven (Hercule Poirot #2)</td>\n",
       "      <td>Den åpne graven (Hercule Poirot #2)</td>\n",
       "      <td>123715</td>\n",
       "      <td>3.97</td>\n",
       "      <td>115724</td>\n",
       "      <td>Agatha Christie</td>\n",
       "      <td>2559239</td>\n",
       "      <td>[mystery, thriller, crime, fiction, romance, h...</td>\n",
       "      <td>0</td>\n",
       "    </tr>\n",
       "    <tr>\n",
       "      <td>297</td>\n",
       "      <td></td>\n",
       "      <td>13</td>\n",
       "      <td>[]</td>\n",
       "      <td>US</td>\n",
       "      <td></td>\n",
       "      <td>B00IV3C7XG</td>\n",
       "      <td>true</td>\n",
       "      <td>3.90</td>\n",
       "      <td></td>\n",
       "      <td>[18129413, 11839857, 11002331, 1867852, 250675...</td>\n",
       "      <td>...</td>\n",
       "      <td>17942773</td>\n",
       "      <td>The Chocolate Box</td>\n",
       "      <td>The Chocolate Box</td>\n",
       "      <td>123715</td>\n",
       "      <td>3.97</td>\n",
       "      <td>115724</td>\n",
       "      <td>Agatha Christie</td>\n",
       "      <td>2559239</td>\n",
       "      <td>[mystery, thriller, crime, fiction, history, h...</td>\n",
       "      <td>0</td>\n",
       "    </tr>\n",
       "    <tr>\n",
       "      <td>298</td>\n",
       "      <td>9724144410</td>\n",
       "      <td>5</td>\n",
       "      <td>[]</td>\n",
       "      <td>US</td>\n",
       "      <td>por</td>\n",
       "      <td></td>\n",
       "      <td>false</td>\n",
       "      <td>3.78</td>\n",
       "      <td></td>\n",
       "      <td>[383181, 311166, 281415, 141213, 192887, 1891121]</td>\n",
       "      <td>...</td>\n",
       "      <td>2515738</td>\n",
       "      <td>Intriga em Bagdade</td>\n",
       "      <td>Intriga em Bagdade</td>\n",
       "      <td>123715</td>\n",
       "      <td>3.97</td>\n",
       "      <td>115724</td>\n",
       "      <td>Agatha Christie</td>\n",
       "      <td>2559239</td>\n",
       "      <td>[mystery, thriller, crime, fiction, history, h...</td>\n",
       "      <td>0</td>\n",
       "    </tr>\n",
       "    <tr>\n",
       "      <td>299</td>\n",
       "      <td>9792244301</td>\n",
       "      <td>15</td>\n",
       "      <td>[]</td>\n",
       "      <td>US</td>\n",
       "      <td>ind</td>\n",
       "      <td></td>\n",
       "      <td>false</td>\n",
       "      <td>3.98</td>\n",
       "      <td></td>\n",
       "      <td>[660252, 311166, 1419648, 76645, 116971, 44449...</td>\n",
       "      <td>...</td>\n",
       "      <td>1113267</td>\n",
       "      <td>Crooked House</td>\n",
       "      <td>Crooked House</td>\n",
       "      <td>123715</td>\n",
       "      <td>3.97</td>\n",
       "      <td>115724</td>\n",
       "      <td>Agatha Christie</td>\n",
       "      <td>2559239</td>\n",
       "      <td>[mystery, thriller, crime, fiction, history, h...</td>\n",
       "      <td>0</td>\n",
       "    </tr>\n",
       "  </tbody>\n",
       "</table>\n",
       "<p>200 rows × 32 columns</p>\n",
       "</div>"
      ],
      "text/plain": [
       "           isbn books_reviews_count    series country_code language_code  \\\n",
       "100  8610012735                   7  [687725]           US           srp   \n",
       "101  0452284724                  54  [152256]           US         en-US   \n",
       "102  1848941145                   2  [179872]           US           eng   \n",
       "103                             119        []           US           eng   \n",
       "104  1444708139                  99        []           US                 \n",
       "..          ...                 ...       ...          ...           ...   \n",
       "295  0563510218                   3        []           US           eng   \n",
       "296                               1  [227079]           US           nor   \n",
       "297                              13        []           US                 \n",
       "298  9724144410                   5        []           US           por   \n",
       "299  9792244301                  15        []           US           ind   \n",
       "\n",
       "           asin is_ebook books_average_rating kindle_asin  \\\n",
       "100                false                 3.92               \n",
       "101                false                 4.24  B018ER7IMS   \n",
       "102                 true                 3.98               \n",
       "103                 true                 3.88               \n",
       "104                false                 3.92  B00K3NEE56   \n",
       "..          ...      ...                  ...         ...   \n",
       "295                false                 3.64               \n",
       "296                false                 3.80               \n",
       "297  B00IV3C7XG     true                 3.90               \n",
       "298                false                 3.78               \n",
       "299                false                 3.98               \n",
       "\n",
       "                                         similar_books  ...   work_id  \\\n",
       "100  [15802120, 12860638, 29875363, 18667817, 34947...  ...  26680281   \n",
       "101  [9810195, 10596, 32627, 116982, 400906, 459064...  ...    750558   \n",
       "102  [8728918, 349473, 12495799, 938544, 60832, 324...  ...   1178083   \n",
       "103  [28514417, 22886631, 22888764, 25066755, 86645...  ...  51277695   \n",
       "104  [10596, 397872, 6555, 34605, 733895, 32430, 11...  ...    150017   \n",
       "..                                                 ...  ...       ...   \n",
       "295                                                 []  ...  56748789   \n",
       "296  [280990, 1332179, 2008927, 383223, 192888, 311...  ...    625995   \n",
       "297  [18129413, 11839857, 11002331, 1867852, 250675...  ...  17942773   \n",
       "298  [383181, 311166, 281415, 141213, 192887, 1891121]  ...   2515738   \n",
       "299  [660252, 311166, 1419648, 76645, 116971, 44449...  ...   1113267   \n",
       "\n",
       "                                                 title  \\\n",
       "100        Gospodin Mercedes (Bill Hodges Trilogy, #1)   \n",
       "101              Wizard and Glass (The Dark Tower, #4)   \n",
       "102              Song of Susannah (The Dark Tower, #6)   \n",
       "103                          Cookie Jar: A Short Story   \n",
       "104                                       Pet Sematary   \n",
       "..                                                 ...   \n",
       "295  Mrs. McGinty's Dead: A BBC Radio 4 Full-Cast D...   \n",
       "296                Den åpne graven (Hercule Poirot #2)   \n",
       "297                                  The Chocolate Box   \n",
       "298                                 Intriga em Bagdade   \n",
       "299                                      Crooked House   \n",
       "\n",
       "                                  title_without_series author_id  \\\n",
       "100        Gospodin Mercedes (Bill Hodges Trilogy, #1)      3389   \n",
       "101              Wizard and Glass (The Dark Tower, #4)      3389   \n",
       "102              Song of Susannah (The Dark Tower, #6)      3389   \n",
       "103                          Cookie Jar: A Short Story      3389   \n",
       "104                                       Pet Sematary      3389   \n",
       "..                                                 ...       ...   \n",
       "295  Mrs. McGinty's Dead: A BBC Radio 4 Full-Cast D...    123715   \n",
       "296                Den åpne graven (Hercule Poirot #2)    123715   \n",
       "297                                  The Chocolate Box    123715   \n",
       "298                                 Intriga em Bagdade    123715   \n",
       "299                                      Crooked House    123715   \n",
       "\n",
       "    authors_average_rating authors_text_reviews_count             name  \\\n",
       "100                   4.01                     367487     Stephen King   \n",
       "101                   4.01                     367487     Stephen King   \n",
       "102                   4.01                     367487     Stephen King   \n",
       "103                   4.01                     367487     Stephen King   \n",
       "104                   4.01                     367487     Stephen King   \n",
       "..                     ...                        ...              ...   \n",
       "295                   3.97                     115724  Agatha Christie   \n",
       "296                   3.97                     115724  Agatha Christie   \n",
       "297                   3.97                     115724  Agatha Christie   \n",
       "298                   3.97                     115724  Agatha Christie   \n",
       "299                   3.97                     115724  Agatha Christie   \n",
       "\n",
       "    authors_ratings_count                                             genres  \\\n",
       "100              10666719                [fiction, mystery, thriller, crime]   \n",
       "101              10666719  [fantasy, paranormal, fiction, mystery, thrill...   \n",
       "102              10666719  [fantasy, paranormal, fiction, mystery, thrill...   \n",
       "103              10666719  [fantasy, paranormal, fiction, mystery, thrill...   \n",
       "104              10666719  [fiction, fantasy, paranormal, mystery, thrill...   \n",
       "..                    ...                                                ...   \n",
       "295               2559239                         [mystery, thriller, crime]   \n",
       "296               2559239  [mystery, thriller, crime, fiction, romance, h...   \n",
       "297               2559239  [mystery, thriller, crime, fiction, history, h...   \n",
       "298               2559239  [mystery, thriller, crime, fiction, history, h...   \n",
       "299               2559239  [mystery, thriller, crime, fiction, history, h...   \n",
       "\n",
       "    fiction_or_nonFiction  \n",
       "100                     0  \n",
       "101                     0  \n",
       "102                     0  \n",
       "103                     0  \n",
       "104                     0  \n",
       "..                    ...  \n",
       "295                     0  \n",
       "296                     0  \n",
       "297                     0  \n",
       "298                     0  \n",
       "299                     0  \n",
       "\n",
       "[200 rows x 32 columns]"
      ]
     },
     "execution_count": 41,
     "metadata": {},
     "output_type": "execute_result"
    }
   ],
   "source": [
    "merged[100:300]"
   ]
  },
  {
   "cell_type": "code",
   "execution_count": 42,
   "metadata": {
    "id": "3p2PqTndH0CS"
   },
   "outputs": [
    {
     "data": {
      "text/plain": [
       "(49992, 32)"
      ]
     },
     "execution_count": 42,
     "metadata": {},
     "output_type": "execute_result"
    }
   ],
   "source": [
    "merged.shape"
   ]
  },
  {
   "cell_type": "markdown",
   "metadata": {
    "id": "-YpPMw8zH8hz"
   },
   "source": [
    "Extract classification on whether or not the book is part of series"
   ]
  },
  {
   "cell_type": "code",
   "execution_count": 43,
   "metadata": {
    "id": "eET39ElJIEPM"
   },
   "outputs": [
    {
     "data": {
      "text/html": [
       "<div>\n",
       "<style scoped>\n",
       "    .dataframe tbody tr th:only-of-type {\n",
       "        vertical-align: middle;\n",
       "    }\n",
       "\n",
       "    .dataframe tbody tr th {\n",
       "        vertical-align: top;\n",
       "    }\n",
       "\n",
       "    .dataframe thead th {\n",
       "        text-align: right;\n",
       "    }\n",
       "</style>\n",
       "<table border=\"1\" class=\"dataframe\">\n",
       "  <thead>\n",
       "    <tr style=\"text-align: right;\">\n",
       "      <th></th>\n",
       "      <th>numbered</th>\n",
       "      <th>note</th>\n",
       "      <th>description</th>\n",
       "      <th>title</th>\n",
       "      <th>series_works_count</th>\n",
       "      <th>series_id</th>\n",
       "      <th>primary_work_count</th>\n",
       "    </tr>\n",
       "  </thead>\n",
       "  <tbody>\n",
       "    <tr>\n",
       "      <td>0</td>\n",
       "      <td>true</td>\n",
       "      <td></td>\n",
       "      <td></td>\n",
       "      <td>Sun Wolf and Starhawk</td>\n",
       "      <td>9</td>\n",
       "      <td>189911</td>\n",
       "      <td>3</td>\n",
       "    </tr>\n",
       "    <tr>\n",
       "      <td>1</td>\n",
       "      <td>true</td>\n",
       "      <td></td>\n",
       "      <td>This series is also known as * Avalon : Jalina...</td>\n",
       "      <td>Avalon: Web of Magic</td>\n",
       "      <td>14</td>\n",
       "      <td>151854</td>\n",
       "      <td>12</td>\n",
       "    </tr>\n",
       "    <tr>\n",
       "      <td>2</td>\n",
       "      <td>true</td>\n",
       "      <td></td>\n",
       "      <td>Plot-wise, \"Crowner's Crusade\" is a prequel to...</td>\n",
       "      <td>Crowner John Mystery</td>\n",
       "      <td>15</td>\n",
       "      <td>169353</td>\n",
       "      <td>15</td>\n",
       "    </tr>\n",
       "    <tr>\n",
       "      <td>3</td>\n",
       "      <td>true</td>\n",
       "      <td></td>\n",
       "      <td></td>\n",
       "      <td>Pluto's Snitch</td>\n",
       "      <td>3</td>\n",
       "      <td>1052227</td>\n",
       "      <td>3</td>\n",
       "    </tr>\n",
       "    <tr>\n",
       "      <td>4</td>\n",
       "      <td>false</td>\n",
       "      <td></td>\n",
       "      <td></td>\n",
       "      <td>The Way, With The Enchanted Neighborhood</td>\n",
       "      <td>3</td>\n",
       "      <td>1070125</td>\n",
       "      <td>3</td>\n",
       "    </tr>\n",
       "    <tr>\n",
       "      <td>...</td>\n",
       "      <td>...</td>\n",
       "      <td>...</td>\n",
       "      <td>...</td>\n",
       "      <td>...</td>\n",
       "      <td>...</td>\n",
       "      <td>...</td>\n",
       "      <td>...</td>\n",
       "    </tr>\n",
       "    <tr>\n",
       "      <td>400385</td>\n",
       "      <td>true</td>\n",
       "      <td></td>\n",
       "      <td></td>\n",
       "      <td>Chop, Chop</td>\n",
       "      <td>12</td>\n",
       "      <td>385803</td>\n",
       "      <td>10</td>\n",
       "    </tr>\n",
       "    <tr>\n",
       "      <td>400386</td>\n",
       "      <td>false</td>\n",
       "      <td></td>\n",
       "      <td>Seriia \"Tepli istoriyi\" narodilasia zavdiaki t...</td>\n",
       "      <td>Tepli istoriyi</td>\n",
       "      <td>20</td>\n",
       "      <td>990794</td>\n",
       "      <td>20</td>\n",
       "    </tr>\n",
       "    <tr>\n",
       "      <td>400387</td>\n",
       "      <td>true</td>\n",
       "      <td></td>\n",
       "      <td></td>\n",
       "      <td>Ondine Quartet</td>\n",
       "      <td>12</td>\n",
       "      <td>494165</td>\n",
       "      <td>4</td>\n",
       "    </tr>\n",
       "    <tr>\n",
       "      <td>400388</td>\n",
       "      <td>true</td>\n",
       "      <td></td>\n",
       "      <td></td>\n",
       "      <td>The Trailsman</td>\n",
       "      <td>397</td>\n",
       "      <td>434645</td>\n",
       "      <td>397</td>\n",
       "    </tr>\n",
       "    <tr>\n",
       "      <td>400389</td>\n",
       "      <td>false</td>\n",
       "      <td></td>\n",
       "      <td>The history of the lands and peoples of Britai...</td>\n",
       "      <td>This Sceptred Isle</td>\n",
       "      <td>18</td>\n",
       "      <td>618749</td>\n",
       "      <td>18</td>\n",
       "    </tr>\n",
       "  </tbody>\n",
       "</table>\n",
       "<p>400390 rows × 7 columns</p>\n",
       "</div>"
      ],
      "text/plain": [
       "       numbered note                                        description  \\\n",
       "0          true                                                           \n",
       "1          true       This series is also known as * Avalon : Jalina...   \n",
       "2          true       Plot-wise, \"Crowner's Crusade\" is a prequel to...   \n",
       "3          true                                                           \n",
       "4         false                                                           \n",
       "...         ...  ...                                                ...   \n",
       "400385     true                                                           \n",
       "400386    false       Seriia \"Tepli istoriyi\" narodilasia zavdiaki t...   \n",
       "400387     true                                                           \n",
       "400388     true                                                           \n",
       "400389    false       The history of the lands and peoples of Britai...   \n",
       "\n",
       "                                           title  series_works_count  \\\n",
       "0                          Sun Wolf and Starhawk                   9   \n",
       "1                           Avalon: Web of Magic                  14   \n",
       "2                           Crowner John Mystery                  15   \n",
       "3                                 Pluto's Snitch                   3   \n",
       "4       The Way, With The Enchanted Neighborhood                   3   \n",
       "...                                          ...                 ...   \n",
       "400385                                Chop, Chop                  12   \n",
       "400386                            Tepli istoriyi                  20   \n",
       "400387                            Ondine Quartet                  12   \n",
       "400388                             The Trailsman                 397   \n",
       "400389                        This Sceptred Isle                  18   \n",
       "\n",
       "        series_id  primary_work_count  \n",
       "0          189911                   3  \n",
       "1          151854                  12  \n",
       "2          169353                  15  \n",
       "3         1052227                   3  \n",
       "4         1070125                   3  \n",
       "...           ...                 ...  \n",
       "400385     385803                  10  \n",
       "400386     990794                  20  \n",
       "400387     494165                   4  \n",
       "400388     434645                 397  \n",
       "400389     618749                  18  \n",
       "\n",
       "[400390 rows x 7 columns]"
      ]
     },
     "execution_count": 43,
     "metadata": {},
     "output_type": "execute_result"
    }
   ],
   "source": [
    "book_series_df"
   ]
  },
  {
   "cell_type": "code",
   "execution_count": 44,
   "metadata": {
    "id": "HG7PIS0IJYKH"
   },
   "outputs": [
    {
     "data": {
      "text/plain": [
       "0        []\n",
       "1        []\n",
       "2        []\n",
       "3        []\n",
       "4        []\n",
       "         ..\n",
       "49987    []\n",
       "49988    []\n",
       "49989    []\n",
       "49990    []\n",
       "49991    []\n",
       "Name: series, Length: 49992, dtype: object"
      ]
     },
     "execution_count": 44,
     "metadata": {},
     "output_type": "execute_result"
    }
   ],
   "source": [
    "merged.series"
   ]
  },
  {
   "cell_type": "markdown",
   "metadata": {
    "id": "BMa5vxDtJyjG"
   },
   "source": [
    "If the series has an id in the list, we want to apply a binomial classification to it as a new column"
   ]
  },
  {
   "cell_type": "code",
   "execution_count": 45,
   "metadata": {
    "id": "b4kE6d97JprU"
   },
   "outputs": [],
   "source": [
    "merged[\"series or not\"]= merged.series.apply(lambda x: 1 if (len(x)> 0 ) else 0)"
   ]
  },
  {
   "cell_type": "code",
   "execution_count": 46,
   "metadata": {
    "id": "Yb6ZXpFrKHml"
   },
   "outputs": [
    {
     "data": {
      "text/html": [
       "<div>\n",
       "<style scoped>\n",
       "    .dataframe tbody tr th:only-of-type {\n",
       "        vertical-align: middle;\n",
       "    }\n",
       "\n",
       "    .dataframe tbody tr th {\n",
       "        vertical-align: top;\n",
       "    }\n",
       "\n",
       "    .dataframe thead th {\n",
       "        text-align: right;\n",
       "    }\n",
       "</style>\n",
       "<table border=\"1\" class=\"dataframe\">\n",
       "  <thead>\n",
       "    <tr style=\"text-align: right;\">\n",
       "      <th></th>\n",
       "      <th>series</th>\n",
       "      <th>series or not</th>\n",
       "    </tr>\n",
       "  </thead>\n",
       "  <tbody>\n",
       "    <tr>\n",
       "      <td>0</td>\n",
       "      <td>[]</td>\n",
       "      <td>0</td>\n",
       "    </tr>\n",
       "    <tr>\n",
       "      <td>1</td>\n",
       "      <td>[]</td>\n",
       "      <td>0</td>\n",
       "    </tr>\n",
       "    <tr>\n",
       "      <td>2</td>\n",
       "      <td>[]</td>\n",
       "      <td>0</td>\n",
       "    </tr>\n",
       "    <tr>\n",
       "      <td>3</td>\n",
       "      <td>[]</td>\n",
       "      <td>0</td>\n",
       "    </tr>\n",
       "    <tr>\n",
       "      <td>4</td>\n",
       "      <td>[]</td>\n",
       "      <td>0</td>\n",
       "    </tr>\n",
       "    <tr>\n",
       "      <td>...</td>\n",
       "      <td>...</td>\n",
       "      <td>...</td>\n",
       "    </tr>\n",
       "    <tr>\n",
       "      <td>49987</td>\n",
       "      <td>[]</td>\n",
       "      <td>0</td>\n",
       "    </tr>\n",
       "    <tr>\n",
       "      <td>49988</td>\n",
       "      <td>[]</td>\n",
       "      <td>0</td>\n",
       "    </tr>\n",
       "    <tr>\n",
       "      <td>49989</td>\n",
       "      <td>[]</td>\n",
       "      <td>0</td>\n",
       "    </tr>\n",
       "    <tr>\n",
       "      <td>49990</td>\n",
       "      <td>[]</td>\n",
       "      <td>0</td>\n",
       "    </tr>\n",
       "    <tr>\n",
       "      <td>49991</td>\n",
       "      <td>[]</td>\n",
       "      <td>0</td>\n",
       "    </tr>\n",
       "  </tbody>\n",
       "</table>\n",
       "<p>49992 rows × 2 columns</p>\n",
       "</div>"
      ],
      "text/plain": [
       "      series  series or not\n",
       "0         []              0\n",
       "1         []              0\n",
       "2         []              0\n",
       "3         []              0\n",
       "4         []              0\n",
       "...      ...            ...\n",
       "49987     []              0\n",
       "49988     []              0\n",
       "49989     []              0\n",
       "49990     []              0\n",
       "49991     []              0\n",
       "\n",
       "[49992 rows x 2 columns]"
      ]
     },
     "execution_count": 46,
     "metadata": {},
     "output_type": "execute_result"
    }
   ],
   "source": [
    "merged[[\"series\", \"series or not\"]]"
   ]
  },
  {
   "cell_type": "code",
   "execution_count": 47,
   "metadata": {
    "id": "_89VooTUKTVt"
   },
   "outputs": [
    {
     "data": {
      "text/plain": [
       "0        []\n",
       "1        []\n",
       "2        []\n",
       "3        []\n",
       "4        []\n",
       "         ..\n",
       "49987    []\n",
       "49988    []\n",
       "49989    []\n",
       "49990    []\n",
       "49991    []\n",
       "Name: series, Length: 49992, dtype: object"
      ]
     },
     "execution_count": 47,
     "metadata": {},
     "output_type": "execute_result"
    }
   ],
   "source": [
    "merged.series\n"
   ]
  },
  {
   "cell_type": "markdown",
   "metadata": {
    "id": "iFpxQZsIQ_Ec"
   },
   "source": [
    "Basic Exploration of the final dataframe, merged_df."
   ]
  },
  {
   "cell_type": "code",
   "execution_count": 49,
   "metadata": {
    "id": "7QXaBLh7QVZj"
   },
   "outputs": [
    {
     "data": {
      "text/plain": [
       "(49992, 33)"
      ]
     },
     "execution_count": 49,
     "metadata": {},
     "output_type": "execute_result"
    }
   ],
   "source": [
    "merged.shape"
   ]
  },
  {
   "cell_type": "code",
   "execution_count": 50,
   "metadata": {
    "id": "2Vs6A8ufQqNY"
   },
   "outputs": [
    {
     "data": {
      "text/plain": [
       "isbn                          0\n",
       "books_reviews_count           0\n",
       "series                        0\n",
       "country_code                  0\n",
       "language_code                 0\n",
       "asin                          0\n",
       "is_ebook                      0\n",
       "books_average_rating          0\n",
       "kindle_asin                   0\n",
       "similar_books                 0\n",
       "description                   0\n",
       "format                        0\n",
       "authors                       0\n",
       "publisher                     0\n",
       "num_pages                     0\n",
       "publication_day               0\n",
       "isbn13                        0\n",
       "publication_month             0\n",
       "edition_information           0\n",
       "publication_year              0\n",
       "book_id                       0\n",
       "books_ratings_count           0\n",
       "work_id                       0\n",
       "title                         0\n",
       "title_without_series          0\n",
       "author_id                     0\n",
       "authors_average_rating        0\n",
       "authors_text_reviews_count    0\n",
       "name                          0\n",
       "authors_ratings_count         0\n",
       "genres                        0\n",
       "fiction_or_nonFiction         0\n",
       "series or not                 0\n",
       "dtype: int64"
      ]
     },
     "execution_count": 50,
     "metadata": {},
     "output_type": "execute_result"
    }
   ],
   "source": [
    "merged.isnull().sum()"
   ]
  },
  {
   "cell_type": "code",
   "execution_count": 51,
   "metadata": {
    "id": "KCNwr5SN06FI"
   },
   "outputs": [
    {
     "data": {
      "text/plain": [
       "Index(['isbn', 'books_reviews_count', 'series', 'country_code',\n",
       "       'language_code', 'asin', 'is_ebook', 'books_average_rating',\n",
       "       'kindle_asin', 'similar_books', 'description', 'format', 'authors',\n",
       "       'publisher', 'num_pages', 'publication_day', 'isbn13',\n",
       "       'publication_month', 'edition_information', 'publication_year',\n",
       "       'book_id', 'books_ratings_count', 'work_id', 'title',\n",
       "       'title_without_series', 'author_id', 'authors_average_rating',\n",
       "       'authors_text_reviews_count', 'name', 'authors_ratings_count', 'genres',\n",
       "       'fiction_or_nonFiction', 'series or not'],\n",
       "      dtype='object')"
      ]
     },
     "execution_count": 51,
     "metadata": {},
     "output_type": "execute_result"
    }
   ],
   "source": [
    "merged.columns"
   ]
  },
  {
   "cell_type": "markdown",
   "metadata": {
    "id": "L8jbmVdgKolB"
   },
   "source": [
    "**Now that we have cleaned up and joined all the essential datasets, we can set up 3 dataframes and specific variables that will be used to  test and predict book's success**"
   ]
  },
  {
   "cell_type": "markdown",
   "metadata": {
    "id": "X9EKq5U5Lb2C"
   },
   "source": [
    "A. Research Question 1 - Book's success based of the average rating: take the log weighted rating of each book by multipleying the average rating of each book by the number of ratings to get the true rating/sucess of the book"
   ]
  },
  {
   "cell_type": "code",
   "execution_count": 52,
   "metadata": {
    "id": "-xyHhLheLpd5"
   },
   "outputs": [],
   "source": [
    "RQ1_filtered = merged[[\"title\", \"author_id\",\"description\",\"books_average_rating\",\"books_ratings_count\", \"publication_year\"]]"
   ]
  },
  {
   "cell_type": "code",
   "execution_count": 53,
   "metadata": {
    "id": "FFV7E3PiSGUx"
   },
   "outputs": [
    {
     "name": "stderr",
     "output_type": "stream",
     "text": [
      "C:\\ProgramData\\Anaconda3\\lib\\site-packages\\pandas\\core\\series.py:853: RuntimeWarning: divide by zero encountered in log\n",
      "  result = getattr(ufunc, method)(*inputs, **kwargs)\n",
      "C:\\ProgramData\\Anaconda3\\lib\\site-packages\\ipykernel_launcher.py:5: SettingWithCopyWarning: \n",
      "A value is trying to be set on a copy of a slice from a DataFrame.\n",
      "Try using .loc[row_indexer,col_indexer] = value instead\n",
      "\n",
      "See the caveats in the documentation: http://pandas.pydata.org/pandas-docs/stable/user_guide/indexing.html#returning-a-view-versus-a-copy\n",
      "  \"\"\"\n"
     ]
    }
   ],
   "source": [
    "## Take the log weighted rating to avoid bias. For example, an author could have  a 5 star average rating but it could be based of only 1 rating count. \n",
    "##Log weighted rating eliminates this bias. \n",
    "\n",
    "\n",
    "RQ1_filtered[\"log_weighted_rating\"] = np.log(pd.to_numeric(RQ1_filtered[\"books_average_rating\"])*pd.to_numeric(RQ1_filtered[\"books_ratings_count\"]))"
   ]
  },
  {
   "cell_type": "code",
   "execution_count": 54,
   "metadata": {
    "id": "ONxQVkgQSnps"
   },
   "outputs": [],
   "source": [
    "RQ1_filtered = RQ1_filtered.sort_values(by='log_weighted_rating', ascending=False)"
   ]
  },
  {
   "cell_type": "code",
   "execution_count": 55,
   "metadata": {
    "id": "G4TOSSIPSvi1"
   },
   "outputs": [
    {
     "data": {
      "text/html": [
       "<div>\n",
       "<style scoped>\n",
       "    .dataframe tbody tr th:only-of-type {\n",
       "        vertical-align: middle;\n",
       "    }\n",
       "\n",
       "    .dataframe tbody tr th {\n",
       "        vertical-align: top;\n",
       "    }\n",
       "\n",
       "    .dataframe thead th {\n",
       "        text-align: right;\n",
       "    }\n",
       "</style>\n",
       "<table border=\"1\" class=\"dataframe\">\n",
       "  <thead>\n",
       "    <tr style=\"text-align: right;\">\n",
       "      <th></th>\n",
       "      <th>title</th>\n",
       "      <th>author_id</th>\n",
       "      <th>description</th>\n",
       "      <th>books_average_rating</th>\n",
       "      <th>books_ratings_count</th>\n",
       "      <th>publication_year</th>\n",
       "      <th>log_weighted_rating</th>\n",
       "    </tr>\n",
       "  </thead>\n",
       "  <tbody>\n",
       "    <tr>\n",
       "      <td>6750</td>\n",
       "      <td>The Girl Who Played with Fire (Millennium, #2)</td>\n",
       "      <td>706255</td>\n",
       "      <td>The Expose\\nMillenniumpublisher Mikael Blomkvi...</td>\n",
       "      <td>4.22</td>\n",
       "      <td>575163</td>\n",
       "      <td>2009</td>\n",
       "      <td>14.702244</td>\n",
       "    </tr>\n",
       "    <tr>\n",
       "      <td>32281</td>\n",
       "      <td>Unbroken: A World War II Story of Survival, Re...</td>\n",
       "      <td>30913</td>\n",
       "      <td>In her long-awaited new book, Laura Hillenbran...</td>\n",
       "      <td>4.39</td>\n",
       "      <td>504961</td>\n",
       "      <td>2010</td>\n",
       "      <td>14.611566</td>\n",
       "    </tr>\n",
       "    <tr>\n",
       "      <td>7489</td>\n",
       "      <td>The Name of the Wind (The Kingkiller Chronicle...</td>\n",
       "      <td>108424</td>\n",
       "      <td>Told in Kvothe's own voice, this is the tale o...</td>\n",
       "      <td>4.55</td>\n",
       "      <td>416634</td>\n",
       "      <td>2007</td>\n",
       "      <td>14.455091</td>\n",
       "    </tr>\n",
       "    <tr>\n",
       "      <td>2022</td>\n",
       "      <td>Jurassic Park (Jurassic Park, #1)</td>\n",
       "      <td>5194</td>\n",
       "      <td>En esta espectacular novela, los dinosaurios v...</td>\n",
       "      <td>3.97</td>\n",
       "      <td>447936</td>\n",
       "      <td>2006</td>\n",
       "      <td>14.391172</td>\n",
       "    </tr>\n",
       "    <tr>\n",
       "      <td>15815</td>\n",
       "      <td>The Five People You Meet in Heaven</td>\n",
       "      <td>2331</td>\n",
       "      <td>From the author of Tuesdays with Morrie, a nov...</td>\n",
       "      <td>3.90</td>\n",
       "      <td>453494</td>\n",
       "      <td>2003</td>\n",
       "      <td>14.385714</td>\n",
       "    </tr>\n",
       "    <tr>\n",
       "      <td>...</td>\n",
       "      <td>...</td>\n",
       "      <td>...</td>\n",
       "      <td>...</td>\n",
       "      <td>...</td>\n",
       "      <td>...</td>\n",
       "      <td>...</td>\n",
       "      <td>...</td>\n",
       "    </tr>\n",
       "    <tr>\n",
       "      <td>27618</td>\n",
       "      <td>Súper Héroe por los pelos y el barbero malvado</td>\n",
       "      <td>8277958</td>\n",
       "      <td></td>\n",
       "      <td>0.00</td>\n",
       "      <td>0</td>\n",
       "      <td>2013</td>\n",
       "      <td>-inf</td>\n",
       "    </tr>\n",
       "    <tr>\n",
       "      <td>21716</td>\n",
       "      <td>Tug-of-War</td>\n",
       "      <td>7160484</td>\n",
       "      <td>Tug-of-War: A Murderous Short Story (5,110 wor...</td>\n",
       "      <td>0.00</td>\n",
       "      <td>0</td>\n",
       "      <td>2013</td>\n",
       "      <td>-inf</td>\n",
       "    </tr>\n",
       "    <tr>\n",
       "      <td>9390</td>\n",
       "      <td>&amp; fils</td>\n",
       "      <td>7304368</td>\n",
       "      <td>C'est a l'enterrement de son meilleur ami qu'A...</td>\n",
       "      <td>3.37</td>\n",
       "      <td>0</td>\n",
       "      <td>2015</td>\n",
       "      <td>-inf</td>\n",
       "    </tr>\n",
       "    <tr>\n",
       "      <td>27625</td>\n",
       "      <td>Savas's Wildcat</td>\n",
       "      <td>109977</td>\n",
       "      <td>Yiannis Savas, the irresistible playboy of the...</td>\n",
       "      <td>3.33</td>\n",
       "      <td>0</td>\n",
       "      <td>2012</td>\n",
       "      <td>-inf</td>\n",
       "    </tr>\n",
       "    <tr>\n",
       "      <td>13473</td>\n",
       "      <td>The Greek's Nine-Month Redemption</td>\n",
       "      <td>3430431</td>\n",
       "      <td>Coming soon! The Greek's Nine-Month Redemption...</td>\n",
       "      <td>3.33</td>\n",
       "      <td>0</td>\n",
       "      <td>2016</td>\n",
       "      <td>-inf</td>\n",
       "    </tr>\n",
       "  </tbody>\n",
       "</table>\n",
       "<p>49992 rows × 7 columns</p>\n",
       "</div>"
      ],
      "text/plain": [
       "                                                   title  author_id  \\\n",
       "6750      The Girl Who Played with Fire (Millennium, #2)     706255   \n",
       "32281  Unbroken: A World War II Story of Survival, Re...      30913   \n",
       "7489   The Name of the Wind (The Kingkiller Chronicle...     108424   \n",
       "2022                   Jurassic Park (Jurassic Park, #1)       5194   \n",
       "15815                 The Five People You Meet in Heaven       2331   \n",
       "...                                                  ...        ...   \n",
       "27618     Súper Héroe por los pelos y el barbero malvado    8277958   \n",
       "21716                                         Tug-of-War    7160484   \n",
       "9390                                              & fils    7304368   \n",
       "27625                                    Savas's Wildcat     109977   \n",
       "13473                  The Greek's Nine-Month Redemption    3430431   \n",
       "\n",
       "                                             description books_average_rating  \\\n",
       "6750   The Expose\\nMillenniumpublisher Mikael Blomkvi...                 4.22   \n",
       "32281  In her long-awaited new book, Laura Hillenbran...                 4.39   \n",
       "7489   Told in Kvothe's own voice, this is the tale o...                 4.55   \n",
       "2022   En esta espectacular novela, los dinosaurios v...                 3.97   \n",
       "15815  From the author of Tuesdays with Morrie, a nov...                 3.90   \n",
       "...                                                  ...                  ...   \n",
       "27618                                                                    0.00   \n",
       "21716  Tug-of-War: A Murderous Short Story (5,110 wor...                 0.00   \n",
       "9390   C'est a l'enterrement de son meilleur ami qu'A...                 3.37   \n",
       "27625  Yiannis Savas, the irresistible playboy of the...                 3.33   \n",
       "13473  Coming soon! The Greek's Nine-Month Redemption...                 3.33   \n",
       "\n",
       "      books_ratings_count publication_year  log_weighted_rating  \n",
       "6750               575163             2009            14.702244  \n",
       "32281              504961             2010            14.611566  \n",
       "7489               416634             2007            14.455091  \n",
       "2022               447936             2006            14.391172  \n",
       "15815              453494             2003            14.385714  \n",
       "...                   ...              ...                  ...  \n",
       "27618                   0             2013                 -inf  \n",
       "21716                   0             2013                 -inf  \n",
       "9390                    0             2015                 -inf  \n",
       "27625                   0             2012                 -inf  \n",
       "13473                   0             2016                 -inf  \n",
       "\n",
       "[49992 rows x 7 columns]"
      ]
     },
     "execution_count": 55,
     "metadata": {},
     "output_type": "execute_result"
    }
   ],
   "source": [
    "RQ1_filtered"
   ]
  },
  {
   "cell_type": "code",
   "execution_count": 56,
   "metadata": {
    "id": "Vb1lW4jz06FP"
   },
   "outputs": [
    {
     "data": {
      "text/html": [
       "<div>\n",
       "<style scoped>\n",
       "    .dataframe tbody tr th:only-of-type {\n",
       "        vertical-align: middle;\n",
       "    }\n",
       "\n",
       "    .dataframe tbody tr th {\n",
       "        vertical-align: top;\n",
       "    }\n",
       "\n",
       "    .dataframe thead th {\n",
       "        text-align: right;\n",
       "    }\n",
       "</style>\n",
       "<table border=\"1\" class=\"dataframe\">\n",
       "  <thead>\n",
       "    <tr style=\"text-align: right;\">\n",
       "      <th></th>\n",
       "      <th>title</th>\n",
       "      <th>log_weighted_rating</th>\n",
       "    </tr>\n",
       "  </thead>\n",
       "  <tbody>\n",
       "    <tr>\n",
       "      <td>6750</td>\n",
       "      <td>The Girl Who Played with Fire (Millennium, #2)</td>\n",
       "      <td>14.702244</td>\n",
       "    </tr>\n",
       "    <tr>\n",
       "      <td>32281</td>\n",
       "      <td>Unbroken: A World War II Story of Survival, Re...</td>\n",
       "      <td>14.611566</td>\n",
       "    </tr>\n",
       "    <tr>\n",
       "      <td>7489</td>\n",
       "      <td>The Name of the Wind (The Kingkiller Chronicle...</td>\n",
       "      <td>14.455091</td>\n",
       "    </tr>\n",
       "    <tr>\n",
       "      <td>2022</td>\n",
       "      <td>Jurassic Park (Jurassic Park, #1)</td>\n",
       "      <td>14.391172</td>\n",
       "    </tr>\n",
       "    <tr>\n",
       "      <td>15815</td>\n",
       "      <td>The Five People You Meet in Heaven</td>\n",
       "      <td>14.385714</td>\n",
       "    </tr>\n",
       "    <tr>\n",
       "      <td>2303</td>\n",
       "      <td>Shiver (The Wolves of Mercy Falls, #1)</td>\n",
       "      <td>14.126174</td>\n",
       "    </tr>\n",
       "    <tr>\n",
       "      <td>2096</td>\n",
       "      <td>Good Omens: The Nice and Accurate Prophecies o...</td>\n",
       "      <td>14.082922</td>\n",
       "    </tr>\n",
       "    <tr>\n",
       "      <td>2416</td>\n",
       "      <td>The Eye of the World (Wheel of Time, #1)</td>\n",
       "      <td>13.925293</td>\n",
       "    </tr>\n",
       "    <tr>\n",
       "      <td>9206</td>\n",
       "      <td>Anna and the French Kiss (Anna and the French ...</td>\n",
       "      <td>13.900009</td>\n",
       "    </tr>\n",
       "    <tr>\n",
       "      <td>1525</td>\n",
       "      <td>Betrayed (House of Night, #2)</td>\n",
       "      <td>13.607402</td>\n",
       "    </tr>\n",
       "  </tbody>\n",
       "</table>\n",
       "</div>"
      ],
      "text/plain": [
       "                                                   title  log_weighted_rating\n",
       "6750      The Girl Who Played with Fire (Millennium, #2)            14.702244\n",
       "32281  Unbroken: A World War II Story of Survival, Re...            14.611566\n",
       "7489   The Name of the Wind (The Kingkiller Chronicle...            14.455091\n",
       "2022                   Jurassic Park (Jurassic Park, #1)            14.391172\n",
       "15815                 The Five People You Meet in Heaven            14.385714\n",
       "2303              Shiver (The Wolves of Mercy Falls, #1)            14.126174\n",
       "2096   Good Omens: The Nice and Accurate Prophecies o...            14.082922\n",
       "2416            The Eye of the World (Wheel of Time, #1)            13.925293\n",
       "9206   Anna and the French Kiss (Anna and the French ...            13.900009\n",
       "1525                       Betrayed (House of Night, #2)            13.607402"
      ]
     },
     "execution_count": 56,
     "metadata": {},
     "output_type": "execute_result"
    }
   ],
   "source": [
    "topBooks = RQ1_filtered[[\"title\",\"log_weighted_rating\"]].sort_values(by='log_weighted_rating', ascending=False)[:10]\n",
    "topBooks"
   ]
  },
  {
   "cell_type": "code",
   "execution_count": 58,
   "metadata": {},
   "outputs": [
    {
     "name": "stderr",
     "output_type": "stream",
     "text": [
      "C:\\ProgramData\\Anaconda3\\lib\\site-packages\\pandas\\core\\series.py:853: RuntimeWarning: divide by zero encountered in log\n",
      "  result = getattr(ufunc, method)(*inputs, **kwargs)\n"
     ]
    }
   ],
   "source": [
    "merged[\"log_weighted_rating\"]= np.log(pd.to_numeric(merged[\"books_average_rating\"])*pd.to_numeric(merged[\"books_ratings_count\"]))"
   ]
  },
  {
   "cell_type": "code",
   "execution_count": 59,
   "metadata": {
    "id": "EVPY_qlP06FS"
   },
   "outputs": [],
   "source": [
    "#RQ1_filtered.to_csv(\"RQ1_filtered.csv\")"
   ]
  },
  {
   "cell_type": "markdown",
   "metadata": {
    "id": "8ei8C6keU9X2"
   },
   "source": [
    "B. Research Question 2: Do nonfiction/fiction binomial classifications contribute to books success, with success measured by books_average_rating?"
   ]
  },
  {
   "cell_type": "code",
   "execution_count": 60,
   "metadata": {
    "id": "pthRMprR06FU"
   },
   "outputs": [],
   "source": [
    "RQ2_filtered = merged [[\"title\", \"name\", \"description\", \"books_average_rating\", \"books_ratings_count\", \"genres\", \"fiction_or_nonFiction\"]]"
   ]
  },
  {
   "cell_type": "code",
   "execution_count": 133,
   "metadata": {
    "id": "ooonXlASVq3i"
   },
   "outputs": [
    {
     "data": {
      "text/html": [
       "<div>\n",
       "<style scoped>\n",
       "    .dataframe tbody tr th:only-of-type {\n",
       "        vertical-align: middle;\n",
       "    }\n",
       "\n",
       "    .dataframe tbody tr th {\n",
       "        vertical-align: top;\n",
       "    }\n",
       "\n",
       "    .dataframe thead th {\n",
       "        text-align: right;\n",
       "    }\n",
       "</style>\n",
       "<table border=\"1\" class=\"dataframe\">\n",
       "  <thead>\n",
       "    <tr style=\"text-align: right;\">\n",
       "      <th></th>\n",
       "      <th>title</th>\n",
       "      <th>name</th>\n",
       "      <th>description</th>\n",
       "      <th>books_average_rating</th>\n",
       "      <th>books_ratings_count</th>\n",
       "      <th>genres</th>\n",
       "      <th>fiction_or_nonFiction</th>\n",
       "    </tr>\n",
       "  </thead>\n",
       "  <tbody>\n",
       "    <tr>\n",
       "      <td>0</td>\n",
       "      <td>W.C. Fields: A Life on Film</td>\n",
       "      <td>Ronald J. Fields</td>\n",
       "      <td></td>\n",
       "      <td>4.00</td>\n",
       "      <td>3</td>\n",
       "      <td>[history, historical fiction, biography]</td>\n",
       "      <td>0</td>\n",
       "    </tr>\n",
       "    <tr>\n",
       "      <td>1</td>\n",
       "      <td>Good Harbor</td>\n",
       "      <td>Anita Diamant</td>\n",
       "      <td>Anita Diamant's international bestseller \"The ...</td>\n",
       "      <td>3.23</td>\n",
       "      <td>10</td>\n",
       "      <td>[fiction, history, historical fiction, biography]</td>\n",
       "      <td>0</td>\n",
       "    </tr>\n",
       "    <tr>\n",
       "      <td>2</td>\n",
       "      <td>The Red Tent</td>\n",
       "      <td>Anita Diamant</td>\n",
       "      <td>IN THE RED TENT--NOW A MAJOR LIFETIME MINISERI...</td>\n",
       "      <td>4.16</td>\n",
       "      <td>134</td>\n",
       "      <td>[fiction, history, historical fiction, biograp...</td>\n",
       "      <td>0</td>\n",
       "    </tr>\n",
       "    <tr>\n",
       "      <td>3</td>\n",
       "      <td>The Red Tent</td>\n",
       "      <td>Anita Diamant</td>\n",
       "      <td>The red tent is the place where women gathered...</td>\n",
       "      <td>4.16</td>\n",
       "      <td>460</td>\n",
       "      <td>[fiction, history, historical fiction, biograp...</td>\n",
       "      <td>0</td>\n",
       "    </tr>\n",
       "    <tr>\n",
       "      <td>4</td>\n",
       "      <td>Saying Kaddish: How to Comfort the Dying, Bury...</td>\n",
       "      <td>Anita Diamant</td>\n",
       "      <td>Anita Diamant's knowledge, sensitivity, and cl...</td>\n",
       "      <td>4.16</td>\n",
       "      <td>107</td>\n",
       "      <td>[non-fiction, history, historical fiction, bio...</td>\n",
       "      <td>1</td>\n",
       "    </tr>\n",
       "  </tbody>\n",
       "</table>\n",
       "</div>"
      ],
      "text/plain": [
       "                                               title              name  \\\n",
       "0                        W.C. Fields: A Life on Film  Ronald J. Fields   \n",
       "1                                        Good Harbor     Anita Diamant   \n",
       "2                                       The Red Tent     Anita Diamant   \n",
       "3                                       The Red Tent     Anita Diamant   \n",
       "4  Saying Kaddish: How to Comfort the Dying, Bury...     Anita Diamant   \n",
       "\n",
       "                                         description books_average_rating  \\\n",
       "0                                                                    4.00   \n",
       "1  Anita Diamant's international bestseller \"The ...                 3.23   \n",
       "2  IN THE RED TENT--NOW A MAJOR LIFETIME MINISERI...                 4.16   \n",
       "3  The red tent is the place where women gathered...                 4.16   \n",
       "4  Anita Diamant's knowledge, sensitivity, and cl...                 4.16   \n",
       "\n",
       "  books_ratings_count                                             genres  \\\n",
       "0                   3           [history, historical fiction, biography]   \n",
       "1                  10  [fiction, history, historical fiction, biography]   \n",
       "2                 134  [fiction, history, historical fiction, biograp...   \n",
       "3                 460  [fiction, history, historical fiction, biograp...   \n",
       "4                 107  [non-fiction, history, historical fiction, bio...   \n",
       "\n",
       "   fiction_or_nonFiction  \n",
       "0                      0  \n",
       "1                      0  \n",
       "2                      0  \n",
       "3                      0  \n",
       "4                      1  "
      ]
     },
     "execution_count": 133,
     "metadata": {},
     "output_type": "execute_result"
    }
   ],
   "source": [
    "RQ2_filtered[:5]"
   ]
  },
  {
   "cell_type": "code",
   "execution_count": 62,
   "metadata": {
    "id": "zMsMOcz506FV"
   },
   "outputs": [],
   "source": [
    "#RQ2_filtered.to_csv(\"RQ2_filtered.csv\")"
   ]
  },
  {
   "cell_type": "markdown",
   "metadata": {
    "id": "-J7cxO64WvDt"
   },
   "source": [
    "C. Research Question 3: Are books that are a part of a series more sucessful than standalone books?"
   ]
  },
  {
   "cell_type": "code",
   "execution_count": 63,
   "metadata": {
    "id": "s-unDCbsl-8t"
   },
   "outputs": [],
   "source": [
    "RQ3_filtered = merged [[\"title\", \"name\", \"description\", \"books_average_rating\", \"series\",  \"fiction_or_nonFiction\", \"series or not\"]]"
   ]
  },
  {
   "cell_type": "code",
   "execution_count": 134,
   "metadata": {
    "id": "OEE32Hdewo2N"
   },
   "outputs": [
    {
     "data": {
      "text/html": [
       "<div>\n",
       "<style scoped>\n",
       "    .dataframe tbody tr th:only-of-type {\n",
       "        vertical-align: middle;\n",
       "    }\n",
       "\n",
       "    .dataframe tbody tr th {\n",
       "        vertical-align: top;\n",
       "    }\n",
       "\n",
       "    .dataframe thead th {\n",
       "        text-align: right;\n",
       "    }\n",
       "</style>\n",
       "<table border=\"1\" class=\"dataframe\">\n",
       "  <thead>\n",
       "    <tr style=\"text-align: right;\">\n",
       "      <th></th>\n",
       "      <th>title</th>\n",
       "      <th>name</th>\n",
       "      <th>description</th>\n",
       "      <th>books_average_rating</th>\n",
       "      <th>series</th>\n",
       "      <th>fiction_or_nonFiction</th>\n",
       "      <th>series or not</th>\n",
       "    </tr>\n",
       "  </thead>\n",
       "  <tbody>\n",
       "    <tr>\n",
       "      <td>0</td>\n",
       "      <td>W.C. Fields: A Life on Film</td>\n",
       "      <td>Ronald J. Fields</td>\n",
       "      <td></td>\n",
       "      <td>4.00</td>\n",
       "      <td>[]</td>\n",
       "      <td>0</td>\n",
       "      <td>0</td>\n",
       "    </tr>\n",
       "    <tr>\n",
       "      <td>1</td>\n",
       "      <td>Good Harbor</td>\n",
       "      <td>Anita Diamant</td>\n",
       "      <td>Anita Diamant's international bestseller \"The ...</td>\n",
       "      <td>3.23</td>\n",
       "      <td>[]</td>\n",
       "      <td>0</td>\n",
       "      <td>0</td>\n",
       "    </tr>\n",
       "    <tr>\n",
       "      <td>2</td>\n",
       "      <td>The Red Tent</td>\n",
       "      <td>Anita Diamant</td>\n",
       "      <td>IN THE RED TENT--NOW A MAJOR LIFETIME MINISERI...</td>\n",
       "      <td>4.16</td>\n",
       "      <td>[]</td>\n",
       "      <td>0</td>\n",
       "      <td>0</td>\n",
       "    </tr>\n",
       "    <tr>\n",
       "      <td>3</td>\n",
       "      <td>The Red Tent</td>\n",
       "      <td>Anita Diamant</td>\n",
       "      <td>The red tent is the place where women gathered...</td>\n",
       "      <td>4.16</td>\n",
       "      <td>[]</td>\n",
       "      <td>0</td>\n",
       "      <td>0</td>\n",
       "    </tr>\n",
       "    <tr>\n",
       "      <td>4</td>\n",
       "      <td>Saying Kaddish: How to Comfort the Dying, Bury...</td>\n",
       "      <td>Anita Diamant</td>\n",
       "      <td>Anita Diamant's knowledge, sensitivity, and cl...</td>\n",
       "      <td>4.16</td>\n",
       "      <td>[]</td>\n",
       "      <td>1</td>\n",
       "      <td>0</td>\n",
       "    </tr>\n",
       "  </tbody>\n",
       "</table>\n",
       "</div>"
      ],
      "text/plain": [
       "                                               title              name  \\\n",
       "0                        W.C. Fields: A Life on Film  Ronald J. Fields   \n",
       "1                                        Good Harbor     Anita Diamant   \n",
       "2                                       The Red Tent     Anita Diamant   \n",
       "3                                       The Red Tent     Anita Diamant   \n",
       "4  Saying Kaddish: How to Comfort the Dying, Bury...     Anita Diamant   \n",
       "\n",
       "                                         description books_average_rating  \\\n",
       "0                                                                    4.00   \n",
       "1  Anita Diamant's international bestseller \"The ...                 3.23   \n",
       "2  IN THE RED TENT--NOW A MAJOR LIFETIME MINISERI...                 4.16   \n",
       "3  The red tent is the place where women gathered...                 4.16   \n",
       "4  Anita Diamant's knowledge, sensitivity, and cl...                 4.16   \n",
       "\n",
       "  series  fiction_or_nonFiction  series or not  \n",
       "0     []                      0              0  \n",
       "1     []                      0              0  \n",
       "2     []                      0              0  \n",
       "3     []                      0              0  \n",
       "4     []                      1              0  "
      ]
     },
     "execution_count": 134,
     "metadata": {},
     "output_type": "execute_result"
    }
   ],
   "source": [
    "RQ3_filtered[:5]"
   ]
  },
  {
   "cell_type": "code",
   "execution_count": 65,
   "metadata": {
    "id": "POyMszpx06FX"
   },
   "outputs": [],
   "source": [
    "#RQ3_filtered.to_csv(\"RQ3_filtered.csv\")"
   ]
  },
  {
   "cell_type": "markdown",
   "metadata": {
    "id": "3DRxjdmwwtmQ"
   },
   "source": [
    "## *Bonus Features to explore*"
   ]
  },
  {
   "cell_type": "markdown",
   "metadata": {
    "id": "O5yjE8Nkw2nx"
   },
   "source": [
    "D. Research Question 4: Does author's historical popularity contribute to the success of their books?"
   ]
  },
  {
   "cell_type": "code",
   "execution_count": 66,
   "metadata": {
    "id": "5K_ZMXbHwo-O"
   },
   "outputs": [],
   "source": [
    "RQ4_filtered = merged[[\"title\",\"name\", \"author_id\",\"authors_average_rating\",\"authors_ratings_count\"]]\n"
   ]
  },
  {
   "cell_type": "code",
   "execution_count": 67,
   "metadata": {
    "id": "2FMVA5AVwpCQ"
   },
   "outputs": [
    {
     "name": "stderr",
     "output_type": "stream",
     "text": [
      "C:\\ProgramData\\Anaconda3\\lib\\site-packages\\ipykernel_launcher.py:1: SettingWithCopyWarning: \n",
      "A value is trying to be set on a copy of a slice from a DataFrame.\n",
      "Try using .loc[row_indexer,col_indexer] = value instead\n",
      "\n",
      "See the caveats in the documentation: http://pandas.pydata.org/pandas-docs/stable/user_guide/indexing.html#returning-a-view-versus-a-copy\n",
      "  \"\"\"Entry point for launching an IPython kernel.\n"
     ]
    }
   ],
   "source": [
    "RQ4_filtered[\"author_log_weighted_rating\"] = np.log(pd.to_numeric(RQ4_filtered[\"authors_average_rating\"])*pd.to_numeric(RQ4_filtered[\"authors_ratings_count\"]))\n",
    "RQ4_filtered = RQ4_filtered.sort_values(by='author_log_weighted_rating', ascending=False)\n"
   ]
  },
  {
   "cell_type": "code",
   "execution_count": 135,
   "metadata": {
    "id": "SDOhFkb-yA1i"
   },
   "outputs": [
    {
     "data": {
      "text/html": [
       "<div>\n",
       "<style scoped>\n",
       "    .dataframe tbody tr th:only-of-type {\n",
       "        vertical-align: middle;\n",
       "    }\n",
       "\n",
       "    .dataframe tbody tr th {\n",
       "        vertical-align: top;\n",
       "    }\n",
       "\n",
       "    .dataframe thead th {\n",
       "        text-align: right;\n",
       "    }\n",
       "</style>\n",
       "<table border=\"1\" class=\"dataframe\">\n",
       "  <thead>\n",
       "    <tr style=\"text-align: right;\">\n",
       "      <th></th>\n",
       "      <th>title</th>\n",
       "      <th>name</th>\n",
       "      <th>author_id</th>\n",
       "      <th>authors_average_rating</th>\n",
       "      <th>authors_ratings_count</th>\n",
       "      <th>author_log_weighted_rating</th>\n",
       "    </tr>\n",
       "  </thead>\n",
       "  <tbody>\n",
       "    <tr>\n",
       "      <td>7220</td>\n",
       "      <td>Harry Potter and the Sorcerer's Stone (Harry P...</td>\n",
       "      <td>J.K. Rowling</td>\n",
       "      <td>1077326</td>\n",
       "      <td>4.44</td>\n",
       "      <td>18532721</td>\n",
       "      <td>18.225703</td>\n",
       "    </tr>\n",
       "    <tr>\n",
       "      <td>7202</td>\n",
       "      <td>Harry Potter and the Chamber of Secrets (Harry...</td>\n",
       "      <td>J.K. Rowling</td>\n",
       "      <td>1077326</td>\n",
       "      <td>4.44</td>\n",
       "      <td>18532721</td>\n",
       "      <td>18.225703</td>\n",
       "    </tr>\n",
       "    <tr>\n",
       "      <td>7204</td>\n",
       "      <td>Harry Potter and the Philosopher's Stone</td>\n",
       "      <td>J.K. Rowling</td>\n",
       "      <td>1077326</td>\n",
       "      <td>4.44</td>\n",
       "      <td>18532721</td>\n",
       "      <td>18.225703</td>\n",
       "    </tr>\n",
       "    <tr>\n",
       "      <td>7205</td>\n",
       "      <td>Harry Potter and the Sorcerer's Stone (Harry P...</td>\n",
       "      <td>J.K. Rowling</td>\n",
       "      <td>1077326</td>\n",
       "      <td>4.44</td>\n",
       "      <td>18532721</td>\n",
       "      <td>18.225703</td>\n",
       "    </tr>\n",
       "    <tr>\n",
       "      <td>7206</td>\n",
       "      <td>Harry Potter ja salaisuuksien kammio (Harry Po...</td>\n",
       "      <td>J.K. Rowling</td>\n",
       "      <td>1077326</td>\n",
       "      <td>4.44</td>\n",
       "      <td>18532721</td>\n",
       "      <td>18.225703</td>\n",
       "    </tr>\n",
       "  </tbody>\n",
       "</table>\n",
       "</div>"
      ],
      "text/plain": [
       "                                                  title          name  \\\n",
       "7220  Harry Potter and the Sorcerer's Stone (Harry P...  J.K. Rowling   \n",
       "7202  Harry Potter and the Chamber of Secrets (Harry...  J.K. Rowling   \n",
       "7204           Harry Potter and the Philosopher's Stone  J.K. Rowling   \n",
       "7205  Harry Potter and the Sorcerer's Stone (Harry P...  J.K. Rowling   \n",
       "7206  Harry Potter ja salaisuuksien kammio (Harry Po...  J.K. Rowling   \n",
       "\n",
       "      author_id  authors_average_rating  authors_ratings_count  \\\n",
       "7220    1077326                    4.44               18532721   \n",
       "7202    1077326                    4.44               18532721   \n",
       "7204    1077326                    4.44               18532721   \n",
       "7205    1077326                    4.44               18532721   \n",
       "7206    1077326                    4.44               18532721   \n",
       "\n",
       "      author_log_weighted_rating  \n",
       "7220                   18.225703  \n",
       "7202                   18.225703  \n",
       "7204                   18.225703  \n",
       "7205                   18.225703  \n",
       "7206                   18.225703  "
      ]
     },
     "execution_count": 135,
     "metadata": {},
     "output_type": "execute_result"
    }
   ],
   "source": [
    "RQ4_filtered[:5]"
   ]
  },
  {
   "cell_type": "code",
   "execution_count": 69,
   "metadata": {
    "id": "Ct_inIR906Fa"
   },
   "outputs": [
    {
     "data": {
      "text/html": [
       "<div>\n",
       "<style scoped>\n",
       "    .dataframe tbody tr th:only-of-type {\n",
       "        vertical-align: middle;\n",
       "    }\n",
       "\n",
       "    .dataframe tbody tr th {\n",
       "        vertical-align: top;\n",
       "    }\n",
       "\n",
       "    .dataframe thead th {\n",
       "        text-align: right;\n",
       "    }\n",
       "</style>\n",
       "<table border=\"1\" class=\"dataframe\">\n",
       "  <thead>\n",
       "    <tr style=\"text-align: right;\">\n",
       "      <th></th>\n",
       "      <th>name</th>\n",
       "      <th>authors_average_rating</th>\n",
       "    </tr>\n",
       "  </thead>\n",
       "  <tbody>\n",
       "    <tr>\n",
       "      <td>7220</td>\n",
       "      <td>J.K. Rowling</td>\n",
       "      <td>4.44</td>\n",
       "    </tr>\n",
       "    <tr>\n",
       "      <td>93</td>\n",
       "      <td>Stephen King</td>\n",
       "      <td>4.01</td>\n",
       "    </tr>\n",
       "    <tr>\n",
       "      <td>6128</td>\n",
       "      <td>Suzanne Collins</td>\n",
       "      <td>4.27</td>\n",
       "    </tr>\n",
       "    <tr>\n",
       "      <td>10624</td>\n",
       "      <td>Stephenie Meyer</td>\n",
       "      <td>3.64</td>\n",
       "    </tr>\n",
       "    <tr>\n",
       "      <td>2273</td>\n",
       "      <td>J.R.R. Tolkien</td>\n",
       "      <td>4.31</td>\n",
       "    </tr>\n",
       "    <tr>\n",
       "      <td>...</td>\n",
       "      <td>...</td>\n",
       "      <td>...</td>\n",
       "    </tr>\n",
       "    <tr>\n",
       "      <td>1052</td>\n",
       "      <td>Academy Imprints</td>\n",
       "      <td>0.00</td>\n",
       "    </tr>\n",
       "    <tr>\n",
       "      <td>49294</td>\n",
       "      <td>Mori Kouichiro</td>\n",
       "      <td>0.00</td>\n",
       "    </tr>\n",
       "    <tr>\n",
       "      <td>44919</td>\n",
       "      <td>Molly Black</td>\n",
       "      <td>0.00</td>\n",
       "    </tr>\n",
       "    <tr>\n",
       "      <td>34876</td>\n",
       "      <td>Noora Lintukangas</td>\n",
       "      <td>0.00</td>\n",
       "    </tr>\n",
       "    <tr>\n",
       "      <td>39184</td>\n",
       "      <td>Beatson Wallace</td>\n",
       "      <td>0.00</td>\n",
       "    </tr>\n",
       "  </tbody>\n",
       "</table>\n",
       "<p>35616 rows × 2 columns</p>\n",
       "</div>"
      ],
      "text/plain": [
       "                    name  authors_average_rating\n",
       "7220        J.K. Rowling                    4.44\n",
       "93          Stephen King                    4.01\n",
       "6128     Suzanne Collins                    4.27\n",
       "10624    Stephenie Meyer                    3.64\n",
       "2273      J.R.R. Tolkien                    4.31\n",
       "...                  ...                     ...\n",
       "1052    Academy Imprints                    0.00\n",
       "49294     Mori Kouichiro                    0.00\n",
       "44919        Molly Black                    0.00\n",
       "34876  Noora Lintukangas                    0.00\n",
       "39184    Beatson Wallace                    0.00\n",
       "\n",
       "[35616 rows x 2 columns]"
      ]
     },
     "execution_count": 69,
     "metadata": {},
     "output_type": "execute_result"
    }
   ],
   "source": [
    "topAuthors = RQ4_filtered[[\"name\",\"authors_average_rating\"]]\n",
    "topAuthors1 = topAuthors.drop_duplicates()\n",
    "topAuthors1"
   ]
  },
  {
   "cell_type": "code",
   "execution_count": 70,
   "metadata": {
    "id": "VqvGvRlyMyRW"
   },
   "outputs": [
    {
     "data": {
      "text/html": [
       "<div>\n",
       "<style scoped>\n",
       "    .dataframe tbody tr th:only-of-type {\n",
       "        vertical-align: middle;\n",
       "    }\n",
       "\n",
       "    .dataframe tbody tr th {\n",
       "        vertical-align: top;\n",
       "    }\n",
       "\n",
       "    .dataframe thead th {\n",
       "        text-align: right;\n",
       "    }\n",
       "</style>\n",
       "<table border=\"1\" class=\"dataframe\">\n",
       "  <thead>\n",
       "    <tr style=\"text-align: right;\">\n",
       "      <th></th>\n",
       "      <th>name</th>\n",
       "      <th>authors_average_rating</th>\n",
       "    </tr>\n",
       "  </thead>\n",
       "  <tbody>\n",
       "    <tr>\n",
       "      <td>7220</td>\n",
       "      <td>J.K. Rowling</td>\n",
       "      <td>4.44</td>\n",
       "    </tr>\n",
       "    <tr>\n",
       "      <td>93</td>\n",
       "      <td>Stephen King</td>\n",
       "      <td>4.01</td>\n",
       "    </tr>\n",
       "    <tr>\n",
       "      <td>6128</td>\n",
       "      <td>Suzanne Collins</td>\n",
       "      <td>4.27</td>\n",
       "    </tr>\n",
       "    <tr>\n",
       "      <td>10624</td>\n",
       "      <td>Stephenie Meyer</td>\n",
       "      <td>3.64</td>\n",
       "    </tr>\n",
       "    <tr>\n",
       "      <td>2273</td>\n",
       "      <td>J.R.R. Tolkien</td>\n",
       "      <td>4.31</td>\n",
       "    </tr>\n",
       "    <tr>\n",
       "      <td>9078</td>\n",
       "      <td>Rick Riordan</td>\n",
       "      <td>4.32</td>\n",
       "    </tr>\n",
       "    <tr>\n",
       "      <td>20727</td>\n",
       "      <td>Cassandra Clare</td>\n",
       "      <td>4.27</td>\n",
       "    </tr>\n",
       "    <tr>\n",
       "      <td>26600</td>\n",
       "      <td>Dan Brown</td>\n",
       "      <td>3.79</td>\n",
       "    </tr>\n",
       "    <tr>\n",
       "      <td>4780</td>\n",
       "      <td>William Shakespeare</td>\n",
       "      <td>3.86</td>\n",
       "    </tr>\n",
       "    <tr>\n",
       "      <td>9977</td>\n",
       "      <td>John Green</td>\n",
       "      <td>4.10</td>\n",
       "    </tr>\n",
       "  </tbody>\n",
       "</table>\n",
       "</div>"
      ],
      "text/plain": [
       "                      name  authors_average_rating\n",
       "7220          J.K. Rowling                    4.44\n",
       "93            Stephen King                    4.01\n",
       "6128       Suzanne Collins                    4.27\n",
       "10624      Stephenie Meyer                    3.64\n",
       "2273        J.R.R. Tolkien                    4.31\n",
       "9078          Rick Riordan                    4.32\n",
       "20727      Cassandra Clare                    4.27\n",
       "26600            Dan Brown                    3.79\n",
       "4780   William Shakespeare                    3.86\n",
       "9977            John Green                    4.10"
      ]
     },
     "execution_count": 70,
     "metadata": {},
     "output_type": "execute_result"
    }
   ],
   "source": [
    "new=topAuthors1.head(10)\n",
    "new"
   ]
  },
  {
   "cell_type": "code",
   "execution_count": 71,
   "metadata": {},
   "outputs": [],
   "source": [
    "import matplotlib.pyplot as plt\n"
   ]
  },
  {
   "cell_type": "code",
   "execution_count": 100,
   "metadata": {
    "id": "sW7MSDjlNFv1"
   },
   "outputs": [
    {
     "data": {
      "text/plain": [
       "Text(0.5, 1.0, 'Top 10 Authors')"
      ]
     },
     "execution_count": 100,
     "metadata": {},
     "output_type": "execute_result"
    },
    {
     "data": {
      "image/png": "[encoded data removed]",
      "text/plain": [
       "<Figure size 360x360 with 1 Axes>"
      ]
     },
     "metadata": {
      "needs_background": "light"
     },
     "output_type": "display_data"
    }
   ],
   "source": [
    "\n",
    "fig= plt.figure(figsize=(5,5))\n",
    "plt.barh(new[\"name\"], new[\"authors_average_rating\"], color = \"orange\")\n",
    "plt.xlabel(\"Authors Average Rating (0-5)\")\n",
    "plt.ylabel(\"Author\")\n",
    "plt.title(\"Top 10 Authors\")"
   ]
  },
  {
   "cell_type": "code",
   "execution_count": 73,
   "metadata": {
    "id": "nW7Ee2dF06Fb"
   },
   "outputs": [],
   "source": [
    "#RQ4_filtered.to_csv(\"RQ4_filtered.csv\")"
   ]
  },
  {
   "cell_type": "markdown",
   "metadata": {
    "id": "DGfNz2Z4yr4v"
   },
   "source": [
    "E. Research Question 5: Does authors productivity (in terms of lenths of the books written, how many books authors have written prevsiouly) contribute to books' success?"
   ]
  },
  {
   "cell_type": "code",
   "execution_count": 74,
   "metadata": {
    "id": "Bfs9nEyqy5qn"
   },
   "outputs": [
    {
     "data": {
      "text/html": [
       "<div>\n",
       "<style scoped>\n",
       "    .dataframe tbody tr th:only-of-type {\n",
       "        vertical-align: middle;\n",
       "    }\n",
       "\n",
       "    .dataframe tbody tr th {\n",
       "        vertical-align: top;\n",
       "    }\n",
       "\n",
       "    .dataframe thead th {\n",
       "        text-align: right;\n",
       "    }\n",
       "</style>\n",
       "<table border=\"1\" class=\"dataframe\">\n",
       "  <thead>\n",
       "    <tr style=\"text-align: right;\">\n",
       "      <th></th>\n",
       "      <th>average_rating</th>\n",
       "      <th>author_id</th>\n",
       "      <th>text_reviews_count</th>\n",
       "      <th>name</th>\n",
       "      <th>ratings_count</th>\n",
       "    </tr>\n",
       "  </thead>\n",
       "  <tbody>\n",
       "    <tr>\n",
       "      <td>0</td>\n",
       "      <td>3.98</td>\n",
       "      <td>604031</td>\n",
       "      <td>7</td>\n",
       "      <td>Ronald J. Fields</td>\n",
       "      <td>49</td>\n",
       "    </tr>\n",
       "    <tr>\n",
       "      <td>1</td>\n",
       "      <td>4.08</td>\n",
       "      <td>626222</td>\n",
       "      <td>28716</td>\n",
       "      <td>Anita Diamant</td>\n",
       "      <td>546796</td>\n",
       "    </tr>\n",
       "    <tr>\n",
       "      <td>2</td>\n",
       "      <td>3.92</td>\n",
       "      <td>10333</td>\n",
       "      <td>5075</td>\n",
       "      <td>Barbara Hambly</td>\n",
       "      <td>122118</td>\n",
       "    </tr>\n",
       "    <tr>\n",
       "      <td>3</td>\n",
       "      <td>3.68</td>\n",
       "      <td>9212</td>\n",
       "      <td>36262</td>\n",
       "      <td>Jennifer Weiner</td>\n",
       "      <td>888522</td>\n",
       "    </tr>\n",
       "    <tr>\n",
       "      <td>4</td>\n",
       "      <td>3.82</td>\n",
       "      <td>149918</td>\n",
       "      <td>96</td>\n",
       "      <td>Nigel Pennick</td>\n",
       "      <td>1740</td>\n",
       "    </tr>\n",
       "    <tr>\n",
       "      <td>...</td>\n",
       "      <td>...</td>\n",
       "      <td>...</td>\n",
       "      <td>...</td>\n",
       "      <td>...</td>\n",
       "      <td>...</td>\n",
       "    </tr>\n",
       "    <tr>\n",
       "      <td>829524</td>\n",
       "      <td>4.36</td>\n",
       "      <td>197551</td>\n",
       "      <td>4</td>\n",
       "      <td>Patty Furbush</td>\n",
       "      <td>11</td>\n",
       "    </tr>\n",
       "    <tr>\n",
       "      <td>829525</td>\n",
       "      <td>4.33</td>\n",
       "      <td>3988103</td>\n",
       "      <td>3</td>\n",
       "      <td>Jim Schlinkman</td>\n",
       "      <td>6</td>\n",
       "    </tr>\n",
       "    <tr>\n",
       "      <td>829526</td>\n",
       "      <td>4.00</td>\n",
       "      <td>13464507</td>\n",
       "      <td>2</td>\n",
       "      <td>Rich Jolly</td>\n",
       "      <td>18</td>\n",
       "    </tr>\n",
       "    <tr>\n",
       "      <td>829527</td>\n",
       "      <td>3.31</td>\n",
       "      <td>7427847</td>\n",
       "      <td>1</td>\n",
       "      <td>sr@ mwrGn</td>\n",
       "      <td>13</td>\n",
       "    </tr>\n",
       "    <tr>\n",
       "      <td>829528</td>\n",
       "      <td>3.70</td>\n",
       "      <td>5401342</td>\n",
       "      <td>11</td>\n",
       "      <td>Barry S. Brown</td>\n",
       "      <td>43</td>\n",
       "    </tr>\n",
       "  </tbody>\n",
       "</table>\n",
       "<p>829529 rows × 5 columns</p>\n",
       "</div>"
      ],
      "text/plain": [
       "        average_rating  author_id  text_reviews_count              name  \\\n",
       "0                 3.98     604031                   7  Ronald J. Fields   \n",
       "1                 4.08     626222               28716     Anita Diamant   \n",
       "2                 3.92      10333                5075    Barbara Hambly   \n",
       "3                 3.68       9212               36262   Jennifer Weiner   \n",
       "4                 3.82     149918                  96     Nigel Pennick   \n",
       "...                ...        ...                 ...               ...   \n",
       "829524            4.36     197551                   4     Patty Furbush   \n",
       "829525            4.33    3988103                   3    Jim Schlinkman   \n",
       "829526            4.00   13464507                   2        Rich Jolly   \n",
       "829527            3.31    7427847                   1         sr@ mwrGn   \n",
       "829528            3.70    5401342                  11    Barry S. Brown   \n",
       "\n",
       "        ratings_count  \n",
       "0                  49  \n",
       "1              546796  \n",
       "2              122118  \n",
       "3              888522  \n",
       "4                1740  \n",
       "...               ...  \n",
       "829524             11  \n",
       "829525              6  \n",
       "829526             18  \n",
       "829527             13  \n",
       "829528             43  \n",
       "\n",
       "[829529 rows x 5 columns]"
      ]
     },
     "execution_count": 74,
     "metadata": {},
     "output_type": "execute_result"
    }
   ],
   "source": [
    "authors_df"
   ]
  },
  {
   "cell_type": "code",
   "execution_count": 75,
   "metadata": {
    "id": "UUGgVoes1PYv"
   },
   "outputs": [
    {
     "data": {
      "text/plain": [
       "0         5333265\n",
       "1         1333909\n",
       "2        22240073\n",
       "3          829305\n",
       "4           47182\n",
       "           ...   \n",
       "49987     5020420\n",
       "49988    34300575\n",
       "49989    15711244\n",
       "49990    25561514\n",
       "49991    15711242\n",
       "Name: book_id, Length: 49992, dtype: int32"
      ]
     },
     "execution_count": 75,
     "metadata": {},
     "output_type": "execute_result"
    }
   ],
   "source": [
    "merged.book_id"
   ]
  },
  {
   "cell_type": "code",
   "execution_count": 76,
   "metadata": {
    "id": "cDb7khJs110H"
   },
   "outputs": [
    {
     "data": {
      "text/plain": [
       "dtype('int32')"
      ]
     },
     "execution_count": 76,
     "metadata": {},
     "output_type": "execute_result"
    }
   ],
   "source": [
    "merged.author_id.dtype"
   ]
  },
  {
   "cell_type": "code",
   "execution_count": 77,
   "metadata": {
    "id": "5bjQT6G3zsra"
   },
   "outputs": [],
   "source": [
    "#group by authorid and count how many books each author has written and average number of pages authors have written\n",
    "\n",
    "\n",
    "total_books = merged.groupby(\"author_id\").agg(total_books = pd.NamedAgg(column = \"book_id\", aggfunc = 'count'), total_pages = pd.NamedAgg(column = \"num_pages\", aggfunc = 'sum'))\n",
    "total_books = total_books[(total_books['total_pages'].str.len() != 0)]"
   ]
  },
  {
   "cell_type": "code",
   "execution_count": 78,
   "metadata": {
    "id": "HQmDN_050QzI"
   },
   "outputs": [
    {
     "data": {
      "text/html": [
       "<div>\n",
       "<style scoped>\n",
       "    .dataframe tbody tr th:only-of-type {\n",
       "        vertical-align: middle;\n",
       "    }\n",
       "\n",
       "    .dataframe tbody tr th {\n",
       "        vertical-align: top;\n",
       "    }\n",
       "\n",
       "    .dataframe thead th {\n",
       "        text-align: right;\n",
       "    }\n",
       "</style>\n",
       "<table border=\"1\" class=\"dataframe\">\n",
       "  <thead>\n",
       "    <tr style=\"text-align: right;\">\n",
       "      <th></th>\n",
       "      <th>total_books</th>\n",
       "      <th>total_pages</th>\n",
       "    </tr>\n",
       "    <tr>\n",
       "      <th>author_id</th>\n",
       "      <th></th>\n",
       "      <th></th>\n",
       "    </tr>\n",
       "  </thead>\n",
       "  <tbody>\n",
       "    <tr>\n",
       "      <td>4</td>\n",
       "      <td>12</td>\n",
       "      <td>192628208207242628216288192214358224</td>\n",
       "    </tr>\n",
       "    <tr>\n",
       "      <td>7</td>\n",
       "      <td>11</td>\n",
       "      <td>24251249756061569288379269432</td>\n",
       "    </tr>\n",
       "    <tr>\n",
       "      <td>10</td>\n",
       "      <td>1</td>\n",
       "      <td>528</td>\n",
       "    </tr>\n",
       "    <tr>\n",
       "      <td>14</td>\n",
       "      <td>2</td>\n",
       "      <td>361288</td>\n",
       "    </tr>\n",
       "    <tr>\n",
       "      <td>16</td>\n",
       "      <td>13</td>\n",
       "      <td>431160390144385112168265</td>\n",
       "    </tr>\n",
       "    <tr>\n",
       "      <td>...</td>\n",
       "      <td>...</td>\n",
       "      <td>...</td>\n",
       "    </tr>\n",
       "    <tr>\n",
       "      <td>17255261</td>\n",
       "      <td>1</td>\n",
       "      <td>219</td>\n",
       "    </tr>\n",
       "    <tr>\n",
       "      <td>17264133</td>\n",
       "      <td>1</td>\n",
       "      <td>64</td>\n",
       "    </tr>\n",
       "    <tr>\n",
       "      <td>17265337</td>\n",
       "      <td>1</td>\n",
       "      <td>98</td>\n",
       "    </tr>\n",
       "    <tr>\n",
       "      <td>17290483</td>\n",
       "      <td>1</td>\n",
       "      <td>108</td>\n",
       "    </tr>\n",
       "    <tr>\n",
       "      <td>17300081</td>\n",
       "      <td>1</td>\n",
       "      <td>160</td>\n",
       "    </tr>\n",
       "  </tbody>\n",
       "</table>\n",
       "<p>24938 rows × 2 columns</p>\n",
       "</div>"
      ],
      "text/plain": [
       "           total_books                           total_pages\n",
       "author_id                                                   \n",
       "4                   12  192628208207242628216288192214358224\n",
       "7                   11         24251249756061569288379269432\n",
       "10                   1                                   528\n",
       "14                   2                                361288\n",
       "16                  13              431160390144385112168265\n",
       "...                ...                                   ...\n",
       "17255261             1                                   219\n",
       "17264133             1                                    64\n",
       "17265337             1                                    98\n",
       "17290483             1                                   108\n",
       "17300081             1                                   160\n",
       "\n",
       "[24938 rows x 2 columns]"
      ]
     },
     "execution_count": 78,
     "metadata": {},
     "output_type": "execute_result"
    }
   ],
   "source": [
    "total_books"
   ]
  },
  {
   "cell_type": "code",
   "execution_count": 79,
   "metadata": {
    "id": "r87LObe53_ZF"
   },
   "outputs": [
    {
     "data": {
      "text/plain": [
       "author_id\n",
       "4           12.0\n",
       "7           11.0\n",
       "10           1.0\n",
       "14           2.0\n",
       "16          13.0\n",
       "            ... \n",
       "17255261     1.0\n",
       "17264133     1.0\n",
       "17265337     1.0\n",
       "17290483     1.0\n",
       "17300081     1.0\n",
       "Name: total_books, Length: 24938, dtype: float32"
      ]
     },
     "execution_count": 79,
     "metadata": {},
     "output_type": "execute_result"
    }
   ],
   "source": [
    "pd.to_numeric(total_books.total_pages, downcast = 'float',errors='coerce')\n",
    "pd.to_numeric(total_books.total_books, downcast = 'float', errors='coerce')\n"
   ]
  },
  {
   "cell_type": "code",
   "execution_count": 80,
   "metadata": {
    "id": "0V6cOeSv3_eb"
   },
   "outputs": [],
   "source": [
    "total_books[\"pgs_per_book\"] = total_books[\"total_pages\"].astype(np.float32)/total_books[\"total_books\"].astype(np.float32)"
   ]
  },
  {
   "cell_type": "code",
   "execution_count": 81,
   "metadata": {
    "id": "D4GH5yK-3_iY"
   },
   "outputs": [
    {
     "data": {
      "text/html": [
       "<div>\n",
       "<style scoped>\n",
       "    .dataframe tbody tr th:only-of-type {\n",
       "        vertical-align: middle;\n",
       "    }\n",
       "\n",
       "    .dataframe tbody tr th {\n",
       "        vertical-align: top;\n",
       "    }\n",
       "\n",
       "    .dataframe thead th {\n",
       "        text-align: right;\n",
       "    }\n",
       "</style>\n",
       "<table border=\"1\" class=\"dataframe\">\n",
       "  <thead>\n",
       "    <tr style=\"text-align: right;\">\n",
       "      <th></th>\n",
       "      <th>total_books</th>\n",
       "      <th>total_pages</th>\n",
       "      <th>pgs_per_book</th>\n",
       "    </tr>\n",
       "    <tr>\n",
       "      <th>author_id</th>\n",
       "      <th></th>\n",
       "      <th></th>\n",
       "      <th></th>\n",
       "    </tr>\n",
       "  </thead>\n",
       "  <tbody>\n",
       "    <tr>\n",
       "      <td>4</td>\n",
       "      <td>12</td>\n",
       "      <td>192628208207242628216288192214358224</td>\n",
       "      <td>1.605235e+34</td>\n",
       "    </tr>\n",
       "    <tr>\n",
       "      <td>7</td>\n",
       "      <td>11</td>\n",
       "      <td>24251249756061569288379269432</td>\n",
       "      <td>2.204659e+27</td>\n",
       "    </tr>\n",
       "    <tr>\n",
       "      <td>10</td>\n",
       "      <td>1</td>\n",
       "      <td>528</td>\n",
       "      <td>5.280000e+02</td>\n",
       "    </tr>\n",
       "    <tr>\n",
       "      <td>14</td>\n",
       "      <td>2</td>\n",
       "      <td>361288</td>\n",
       "      <td>1.806440e+05</td>\n",
       "    </tr>\n",
       "    <tr>\n",
       "      <td>16</td>\n",
       "      <td>13</td>\n",
       "      <td>431160390144385112168265</td>\n",
       "      <td>3.316619e+22</td>\n",
       "    </tr>\n",
       "    <tr>\n",
       "      <td>...</td>\n",
       "      <td>...</td>\n",
       "      <td>...</td>\n",
       "      <td>...</td>\n",
       "    </tr>\n",
       "    <tr>\n",
       "      <td>17255261</td>\n",
       "      <td>1</td>\n",
       "      <td>219</td>\n",
       "      <td>2.190000e+02</td>\n",
       "    </tr>\n",
       "    <tr>\n",
       "      <td>17264133</td>\n",
       "      <td>1</td>\n",
       "      <td>64</td>\n",
       "      <td>6.400000e+01</td>\n",
       "    </tr>\n",
       "    <tr>\n",
       "      <td>17265337</td>\n",
       "      <td>1</td>\n",
       "      <td>98</td>\n",
       "      <td>9.800000e+01</td>\n",
       "    </tr>\n",
       "    <tr>\n",
       "      <td>17290483</td>\n",
       "      <td>1</td>\n",
       "      <td>108</td>\n",
       "      <td>1.080000e+02</td>\n",
       "    </tr>\n",
       "    <tr>\n",
       "      <td>17300081</td>\n",
       "      <td>1</td>\n",
       "      <td>160</td>\n",
       "      <td>1.600000e+02</td>\n",
       "    </tr>\n",
       "  </tbody>\n",
       "</table>\n",
       "<p>24938 rows × 3 columns</p>\n",
       "</div>"
      ],
      "text/plain": [
       "           total_books                           total_pages  pgs_per_book\n",
       "author_id                                                                 \n",
       "4                   12  192628208207242628216288192214358224  1.605235e+34\n",
       "7                   11         24251249756061569288379269432  2.204659e+27\n",
       "10                   1                                   528  5.280000e+02\n",
       "14                   2                                361288  1.806440e+05\n",
       "16                  13              431160390144385112168265  3.316619e+22\n",
       "...                ...                                   ...           ...\n",
       "17255261             1                                   219  2.190000e+02\n",
       "17264133             1                                    64  6.400000e+01\n",
       "17265337             1                                    98  9.800000e+01\n",
       "17290483             1                                   108  1.080000e+02\n",
       "17300081             1                                   160  1.600000e+02\n",
       "\n",
       "[24938 rows x 3 columns]"
      ]
     },
     "execution_count": 81,
     "metadata": {},
     "output_type": "execute_result"
    }
   ],
   "source": [
    "total_books"
   ]
  },
  {
   "cell_type": "code",
   "execution_count": 82,
   "metadata": {},
   "outputs": [],
   "source": [
    "merged2 = merged[merged.author_id.isin(total_books.index)].join(total_books[[\"total_books\",\"pgs_per_book\"]],on=\"author_id\")"
   ]
  },
  {
   "cell_type": "code",
   "execution_count": 144,
   "metadata": {},
   "outputs": [
    {
     "data": {
      "text/plain": [
       "(38488, 36)"
      ]
     },
     "execution_count": 144,
     "metadata": {},
     "output_type": "execute_result"
    }
   ],
   "source": [
    "merged2.shape"
   ]
  },
  {
   "cell_type": "code",
   "execution_count": 83,
   "metadata": {},
   "outputs": [
    {
     "data": {
      "text/plain": [
       "Index(['isbn', 'books_reviews_count', 'series', 'country_code',\n",
       "       'language_code', 'asin', 'is_ebook', 'books_average_rating',\n",
       "       'kindle_asin', 'similar_books', 'description', 'format', 'authors',\n",
       "       'publisher', 'num_pages', 'publication_day', 'isbn13',\n",
       "       'publication_month', 'edition_information', 'publication_year',\n",
       "       'book_id', 'books_ratings_count', 'work_id', 'title',\n",
       "       'title_without_series', 'author_id', 'authors_average_rating',\n",
       "       'authors_text_reviews_count', 'name', 'authors_ratings_count', 'genres',\n",
       "       'fiction_or_nonFiction', 'series or not', 'log_weighted_rating',\n",
       "       'total_books', 'pgs_per_book'],\n",
       "      dtype='object')"
      ]
     },
     "execution_count": 83,
     "metadata": {},
     "output_type": "execute_result"
    }
   ],
   "source": [
    "merged2.columns"
   ]
  },
  {
   "cell_type": "code",
   "execution_count": 84,
   "metadata": {
    "id": "bxSEisna3_y-"
   },
   "outputs": [],
   "source": [
    "RQ5_filtered = merged[merged.author_id.isin(total_books.index)].join(total_books[[\"total_books\",\"pgs_per_book\"]],on=\"author_id\")"
   ]
  },
  {
   "cell_type": "code",
   "execution_count": 85,
   "metadata": {
    "id": "n_GlsUGS3_2u"
   },
   "outputs": [
    {
     "data": {
      "text/plain": [
       "Index(['isbn', 'books_reviews_count', 'series', 'country_code',\n",
       "       'language_code', 'asin', 'is_ebook', 'books_average_rating',\n",
       "       'kindle_asin', 'similar_books', 'description', 'format', 'authors',\n",
       "       'publisher', 'num_pages', 'publication_day', 'isbn13',\n",
       "       'publication_month', 'edition_information', 'publication_year',\n",
       "       'book_id', 'books_ratings_count', 'work_id', 'title',\n",
       "       'title_without_series', 'author_id', 'authors_average_rating',\n",
       "       'authors_text_reviews_count', 'name', 'authors_ratings_count', 'genres',\n",
       "       'fiction_or_nonFiction', 'series or not', 'log_weighted_rating',\n",
       "       'total_books', 'pgs_per_book'],\n",
       "      dtype='object')"
      ]
     },
     "execution_count": 85,
     "metadata": {},
     "output_type": "execute_result"
    }
   ],
   "source": [
    "RQ5_filtered.columns"
   ]
  },
  {
   "cell_type": "code",
   "execution_count": 86,
   "metadata": {
    "id": "mSPJYrkTDmRu"
   },
   "outputs": [
    {
     "data": {
      "text/html": [
       "<div>\n",
       "<style scoped>\n",
       "    .dataframe tbody tr th:only-of-type {\n",
       "        vertical-align: middle;\n",
       "    }\n",
       "\n",
       "    .dataframe tbody tr th {\n",
       "        vertical-align: top;\n",
       "    }\n",
       "\n",
       "    .dataframe thead th {\n",
       "        text-align: right;\n",
       "    }\n",
       "</style>\n",
       "<table border=\"1\" class=\"dataframe\">\n",
       "  <thead>\n",
       "    <tr style=\"text-align: right;\">\n",
       "      <th></th>\n",
       "      <th>name</th>\n",
       "      <th>total_books</th>\n",
       "    </tr>\n",
       "  </thead>\n",
       "  <tbody>\n",
       "    <tr>\n",
       "      <td>0</td>\n",
       "      <td>Ronald J. Fields</td>\n",
       "      <td>1</td>\n",
       "    </tr>\n",
       "    <tr>\n",
       "      <td>1</td>\n",
       "      <td>Anita Diamant</td>\n",
       "      <td>5</td>\n",
       "    </tr>\n",
       "    <tr>\n",
       "      <td>6</td>\n",
       "      <td>Barbara Hambly</td>\n",
       "      <td>5</td>\n",
       "    </tr>\n",
       "    <tr>\n",
       "      <td>11</td>\n",
       "      <td>Jennifer Weiner</td>\n",
       "      <td>4</td>\n",
       "    </tr>\n",
       "    <tr>\n",
       "      <td>17</td>\n",
       "      <td>Alfred J. Church</td>\n",
       "      <td>1</td>\n",
       "    </tr>\n",
       "    <tr>\n",
       "      <td>...</td>\n",
       "      <td>...</td>\n",
       "      <td>...</td>\n",
       "    </tr>\n",
       "    <tr>\n",
       "      <td>49981</td>\n",
       "      <td>Adrian Pierini</td>\n",
       "      <td>1</td>\n",
       "    </tr>\n",
       "    <tr>\n",
       "      <td>49982</td>\n",
       "      <td>Stone Patrick</td>\n",
       "      <td>1</td>\n",
       "    </tr>\n",
       "    <tr>\n",
       "      <td>49984</td>\n",
       "      <td>Basar Basarir</td>\n",
       "      <td>1</td>\n",
       "    </tr>\n",
       "    <tr>\n",
       "      <td>49989</td>\n",
       "      <td>Marwan Ja'far</td>\n",
       "      <td>1</td>\n",
       "    </tr>\n",
       "    <tr>\n",
       "      <td>49991</td>\n",
       "      <td>Sakir Erkoc</td>\n",
       "      <td>1</td>\n",
       "    </tr>\n",
       "  </tbody>\n",
       "</table>\n",
       "<p>24938 rows × 2 columns</p>\n",
       "</div>"
      ],
      "text/plain": [
       "                   name  total_books\n",
       "0      Ronald J. Fields            1\n",
       "1         Anita Diamant            5\n",
       "6        Barbara Hambly            5\n",
       "11      Jennifer Weiner            4\n",
       "17     Alfred J. Church            1\n",
       "...                 ...          ...\n",
       "49981    Adrian Pierini            1\n",
       "49982     Stone Patrick            1\n",
       "49984     Basar Basarir            1\n",
       "49989     Marwan Ja'far            1\n",
       "49991       Sakir Erkoc            1\n",
       "\n",
       "[24938 rows x 2 columns]"
      ]
     },
     "execution_count": 86,
     "metadata": {},
     "output_type": "execute_result"
    }
   ],
   "source": [
    "books_per_author = RQ5_filtered[[\"name\",\"total_books\"]]\n",
    "books_per_author1 = books_per_author.drop_duplicates()\n",
    "books_per_author1"
   ]
  },
  {
   "cell_type": "code",
   "execution_count": 87,
   "metadata": {
    "id": "79HCMD7mJ7Up"
   },
   "outputs": [
    {
     "data": {
      "text/html": [
       "<div>\n",
       "<style scoped>\n",
       "    .dataframe tbody tr th:only-of-type {\n",
       "        vertical-align: middle;\n",
       "    }\n",
       "\n",
       "    .dataframe tbody tr th {\n",
       "        vertical-align: top;\n",
       "    }\n",
       "\n",
       "    .dataframe thead th {\n",
       "        text-align: right;\n",
       "    }\n",
       "</style>\n",
       "<table border=\"1\" class=\"dataframe\">\n",
       "  <thead>\n",
       "    <tr style=\"text-align: right;\">\n",
       "      <th></th>\n",
       "      <th>name</th>\n",
       "      <th>total_books</th>\n",
       "    </tr>\n",
       "  </thead>\n",
       "  <tbody>\n",
       "    <tr>\n",
       "      <td>281</td>\n",
       "      <td>Agatha Christie</td>\n",
       "      <td>91</td>\n",
       "    </tr>\n",
       "    <tr>\n",
       "      <td>62</td>\n",
       "      <td>Stephen King</td>\n",
       "      <td>54</td>\n",
       "    </tr>\n",
       "    <tr>\n",
       "      <td>2672</td>\n",
       "      <td>James Patterson</td>\n",
       "      <td>53</td>\n",
       "    </tr>\n",
       "    <tr>\n",
       "      <td>1383</td>\n",
       "      <td>Anonymous</td>\n",
       "      <td>52</td>\n",
       "    </tr>\n",
       "    <tr>\n",
       "      <td>765</td>\n",
       "      <td>Haruki Murakami</td>\n",
       "      <td>43</td>\n",
       "    </tr>\n",
       "    <tr>\n",
       "      <td>7113</td>\n",
       "      <td>Ann M. Martin</td>\n",
       "      <td>41</td>\n",
       "    </tr>\n",
       "    <tr>\n",
       "      <td>185</td>\n",
       "      <td>Isaac Asimov</td>\n",
       "      <td>40</td>\n",
       "    </tr>\n",
       "    <tr>\n",
       "      <td>3976</td>\n",
       "      <td>Charles Dickens</td>\n",
       "      <td>39</td>\n",
       "    </tr>\n",
       "    <tr>\n",
       "      <td>8195</td>\n",
       "      <td>Nora Roberts</td>\n",
       "      <td>39</td>\n",
       "    </tr>\n",
       "    <tr>\n",
       "      <td>2150</td>\n",
       "      <td>Arthur Conan Doyle</td>\n",
       "      <td>37</td>\n",
       "    </tr>\n",
       "  </tbody>\n",
       "</table>\n",
       "</div>"
      ],
      "text/plain": [
       "                    name  total_books\n",
       "281      Agatha Christie           91\n",
       "62          Stephen King           54\n",
       "2672     James Patterson           53\n",
       "1383           Anonymous           52\n",
       "765      Haruki Murakami           43\n",
       "7113       Ann M. Martin           41\n",
       "185         Isaac Asimov           40\n",
       "3976     Charles Dickens           39\n",
       "8195        Nora Roberts           39\n",
       "2150  Arthur Conan Doyle           37"
      ]
     },
     "execution_count": 87,
     "metadata": {},
     "output_type": "execute_result"
    }
   ],
   "source": [
    "authors_most_books = books_per_author1.sort_values(by=\"total_books\",ascending = False).head(10)\n",
    "authors_most_books\n",
    "\n",
    "\n",
    "\n"
   ]
  },
  {
   "cell_type": "code",
   "execution_count": 88,
   "metadata": {
    "id": "_-FSFFmBL9ao"
   },
   "outputs": [
    {
     "data": {
      "image/png": "[encoded data removed]",
      "text/plain": [
       "<Figure size 360x360 with 1 Axes>"
      ]
     },
     "metadata": {
      "needs_background": "light"
     },
     "output_type": "display_data"
    }
   ],
   "source": [
    "fig= plt.figure(figsize=(5,5))\n",
    "\n",
    "plt.barh(authors_most_books[\"name\"], authors_most_books[\"total_books\"], color = \"blue\")\n",
    "\n",
    "plt.ylabel(\"Authors\")\n",
    "plt.xlabel(\"Number of Books written\")\n",
    "plt.title(\"Top 10 Authors written the most Books\")\n",
    "plt.show()"
   ]
  },
  {
   "cell_type": "code",
   "execution_count": 89,
   "metadata": {
    "id": "U-LfiVNJ06Fi"
   },
   "outputs": [],
   "source": [
    "#RQ5_filtered.to_csv(\"RQ5_filtered.csv\")"
   ]
  },
  {
   "cell_type": "code",
   "execution_count": 137,
   "metadata": {},
   "outputs": [
    {
     "data": {
      "text/plain": [
       "(38488, 36)"
      ]
     },
     "execution_count": 137,
     "metadata": {},
     "output_type": "execute_result"
    }
   ],
   "source": [
    "merged2.shape"
   ]
  },
  {
   "cell_type": "code",
   "execution_count": 91,
   "metadata": {
    "colab": {
     "base_uri": "https://localhost:8080/"
    },
    "id": "ZeopROgC06Fk",
    "outputId": "26772ebd-08ec-4115-8f18-6af16546d1ae"
   },
   "outputs": [
    {
     "data": {
      "text/plain": [
       "Index(['isbn', 'books_reviews_count', 'series', 'country_code',\n",
       "       'language_code', 'asin', 'is_ebook', 'books_average_rating',\n",
       "       'kindle_asin', 'similar_books', 'description', 'format', 'authors',\n",
       "       'publisher', 'num_pages', 'publication_day', 'isbn13',\n",
       "       'publication_month', 'edition_information', 'publication_year',\n",
       "       'book_id', 'books_ratings_count', 'work_id', 'title',\n",
       "       'title_without_series', 'author_id', 'authors_average_rating',\n",
       "       'authors_text_reviews_count', 'name', 'authors_ratings_count', 'genres',\n",
       "       'fiction_or_nonFiction', 'series or not', 'log_weighted_rating'],\n",
       "      dtype='object')"
      ]
     },
     "execution_count": 91,
     "metadata": {},
     "output_type": "execute_result"
    }
   ],
   "source": [
    "merged.columns"
   ]
  },
  {
   "cell_type": "code",
   "execution_count": 138,
   "metadata": {},
   "outputs": [
    {
     "data": {
      "text/plain": [
       "(49992, 34)"
      ]
     },
     "execution_count": 138,
     "metadata": {},
     "output_type": "execute_result"
    }
   ],
   "source": [
    "merged.shape"
   ]
  },
  {
   "cell_type": "code",
   "execution_count": 92,
   "metadata": {},
   "outputs": [
    {
     "data": {
      "text/plain": [
       "Index(['isbn', 'books_reviews_count', 'series', 'country_code',\n",
       "       'language_code', 'asin', 'is_ebook', 'books_average_rating',\n",
       "       'kindle_asin', 'similar_books', 'description', 'format', 'authors',\n",
       "       'publisher', 'num_pages', 'publication_day', 'isbn13',\n",
       "       'publication_month', 'edition_information', 'publication_year',\n",
       "       'book_id', 'books_ratings_count', 'work_id', 'title',\n",
       "       'title_without_series', 'author_id', 'authors_average_rating',\n",
       "       'authors_text_reviews_count', 'name', 'authors_ratings_count', 'genres',\n",
       "       'fiction_or_nonFiction', 'series or not', 'log_weighted_rating',\n",
       "       'total_books', 'pgs_per_book'],\n",
       "      dtype='object')"
      ]
     },
     "execution_count": 92,
     "metadata": {},
     "output_type": "execute_result"
    }
   ],
   "source": [
    "merged2.columns"
   ]
  },
  {
   "cell_type": "code",
   "execution_count": 93,
   "metadata": {
    "id": "iiRTcKUw06Fk",
    "outputId": "ca760345-7b86-433b-b57e-1297358caa54"
   },
   "outputs": [
    {
     "data": {
      "text/plain": [
       "0        0\n",
       "1        0\n",
       "2        0\n",
       "3        0\n",
       "4        1\n",
       "        ..\n",
       "49981    0\n",
       "49982    0\n",
       "49984    0\n",
       "49989    1\n",
       "49991    0\n",
       "Name: fiction_or_nonFiction, Length: 38488, dtype: int64"
      ]
     },
     "execution_count": 93,
     "metadata": {},
     "output_type": "execute_result"
    }
   ],
   "source": [
    "merged2[\"fiction_or_nonFiction\"]"
   ]
  },
  {
   "cell_type": "markdown",
   "metadata": {},
   "source": [
    "Which Publishers published the most successful books?"
   ]
  },
  {
   "cell_type": "code",
   "execution_count": 101,
   "metadata": {},
   "outputs": [
    {
     "data": {
      "text/html": [
       "<div>\n",
       "<style scoped>\n",
       "    .dataframe tbody tr th:only-of-type {\n",
       "        vertical-align: middle;\n",
       "    }\n",
       "\n",
       "    .dataframe tbody tr th {\n",
       "        vertical-align: top;\n",
       "    }\n",
       "\n",
       "    .dataframe thead th {\n",
       "        text-align: right;\n",
       "    }\n",
       "</style>\n",
       "<table border=\"1\" class=\"dataframe\">\n",
       "  <thead>\n",
       "    <tr style=\"text-align: right;\">\n",
       "      <th></th>\n",
       "      <th>publisher</th>\n",
       "      <th>title</th>\n",
       "      <th>log_weighted_rating</th>\n",
       "    </tr>\n",
       "  </thead>\n",
       "  <tbody>\n",
       "    <tr>\n",
       "      <td>0</td>\n",
       "      <td>St. Martin's Press</td>\n",
       "      <td>W.C. Fields: A Life on Film</td>\n",
       "      <td>2.484907</td>\n",
       "    </tr>\n",
       "    <tr>\n",
       "      <td>1</td>\n",
       "      <td>Simon &amp; Schuster Audio</td>\n",
       "      <td>Good Harbor</td>\n",
       "      <td>3.475067</td>\n",
       "    </tr>\n",
       "    <tr>\n",
       "      <td>2</td>\n",
       "      <td>Picador</td>\n",
       "      <td>The Red Tent</td>\n",
       "      <td>6.323355</td>\n",
       "    </tr>\n",
       "    <tr>\n",
       "      <td>3</td>\n",
       "      <td>Pan Books</td>\n",
       "      <td>The Red Tent</td>\n",
       "      <td>7.556742</td>\n",
       "    </tr>\n",
       "    <tr>\n",
       "      <td>4</td>\n",
       "      <td>Schocken Books Inc</td>\n",
       "      <td>Saying Kaddish: How to Comfort the Dying, Bury...</td>\n",
       "      <td>6.098344</td>\n",
       "    </tr>\n",
       "    <tr>\n",
       "      <td>...</td>\n",
       "      <td>...</td>\n",
       "      <td>...</td>\n",
       "      <td>...</td>\n",
       "    </tr>\n",
       "    <tr>\n",
       "      <td>49981</td>\n",
       "      <td>CommTOOLS</td>\n",
       "      <td>Designers GO!</td>\n",
       "      <td>2.564180</td>\n",
       "    </tr>\n",
       "    <tr>\n",
       "      <td>49982</td>\n",
       "      <td>Xlibris</td>\n",
       "      <td>The Fallen Body</td>\n",
       "      <td>3.537475</td>\n",
       "    </tr>\n",
       "    <tr>\n",
       "      <td>49984</td>\n",
       "      <td>Can Yayinlari</td>\n",
       "      <td>Teklifinizle İlgilenmiyorum</td>\n",
       "      <td>4.664759</td>\n",
       "    </tr>\n",
       "    <tr>\n",
       "      <td>49989</td>\n",
       "      <td>PT Gramedia Pustaka Utama</td>\n",
       "      <td>Energynomics: Ideologi Baru Dunia</td>\n",
       "      <td>1.609438</td>\n",
       "    </tr>\n",
       "    <tr>\n",
       "      <td>49991</td>\n",
       "      <td>ODTU Gelistirme Vakfi Yayincilik</td>\n",
       "      <td>Nanobilim ve Nanoteknoloji</td>\n",
       "      <td>4.430221</td>\n",
       "    </tr>\n",
       "  </tbody>\n",
       "</table>\n",
       "<p>38485 rows × 3 columns</p>\n",
       "</div>"
      ],
      "text/plain": [
       "                              publisher  \\\n",
       "0                    St. Martin's Press   \n",
       "1                Simon & Schuster Audio   \n",
       "2                               Picador   \n",
       "3                             Pan Books   \n",
       "4                    Schocken Books Inc   \n",
       "...                                 ...   \n",
       "49981                         CommTOOLS   \n",
       "49982                           Xlibris   \n",
       "49984                     Can Yayinlari   \n",
       "49989         PT Gramedia Pustaka Utama   \n",
       "49991  ODTU Gelistirme Vakfi Yayincilik   \n",
       "\n",
       "                                                   title  log_weighted_rating  \n",
       "0                            W.C. Fields: A Life on Film             2.484907  \n",
       "1                                            Good Harbor             3.475067  \n",
       "2                                           The Red Tent             6.323355  \n",
       "3                                           The Red Tent             7.556742  \n",
       "4      Saying Kaddish: How to Comfort the Dying, Bury...             6.098344  \n",
       "...                                                  ...                  ...  \n",
       "49981                                      Designers GO!             2.564180  \n",
       "49982                                    The Fallen Body             3.537475  \n",
       "49984                        Teklifinizle İlgilenmiyorum             4.664759  \n",
       "49989                  Energynomics: Ideologi Baru Dunia             1.609438  \n",
       "49991                         Nanobilim ve Nanoteknoloji             4.430221  \n",
       "\n",
       "[38485 rows x 3 columns]"
      ]
     },
     "execution_count": 101,
     "metadata": {},
     "output_type": "execute_result"
    }
   ],
   "source": [
    "toppublishers= merged2[[\"publisher\", \"title\", \"log_weighted_rating\"]]\n",
    "toppublishers1= toppublishers.drop_duplicates()\n",
    "toppublishers1"
   ]
  },
  {
   "cell_type": "code",
   "execution_count": 102,
   "metadata": {},
   "outputs": [],
   "source": [
    "toppublishers1 = toppublishers1.sort_values(by= \"log_weighted_rating\", ascending= False).head(10)"
   ]
  },
  {
   "cell_type": "code",
   "execution_count": 103,
   "metadata": {},
   "outputs": [
    {
     "data": {
      "text/html": [
       "<div>\n",
       "<style scoped>\n",
       "    .dataframe tbody tr th:only-of-type {\n",
       "        vertical-align: middle;\n",
       "    }\n",
       "\n",
       "    .dataframe tbody tr th {\n",
       "        vertical-align: top;\n",
       "    }\n",
       "\n",
       "    .dataframe thead th {\n",
       "        text-align: right;\n",
       "    }\n",
       "</style>\n",
       "<table border=\"1\" class=\"dataframe\">\n",
       "  <thead>\n",
       "    <tr style=\"text-align: right;\">\n",
       "      <th></th>\n",
       "      <th>publisher</th>\n",
       "      <th>title</th>\n",
       "      <th>log_weighted_rating</th>\n",
       "    </tr>\n",
       "  </thead>\n",
       "  <tbody>\n",
       "    <tr>\n",
       "      <td>6750</td>\n",
       "      <td>Alfred A. Knopf</td>\n",
       "      <td>The Girl Who Played with Fire (Millennium, #2)</td>\n",
       "      <td>14.702244</td>\n",
       "    </tr>\n",
       "    <tr>\n",
       "      <td>32281</td>\n",
       "      <td>Random House</td>\n",
       "      <td>Unbroken: A World War II Story of Survival, Re...</td>\n",
       "      <td>14.611566</td>\n",
       "    </tr>\n",
       "    <tr>\n",
       "      <td>7489</td>\n",
       "      <td>Penguin Group DAW Hardcover</td>\n",
       "      <td>The Name of the Wind (The Kingkiller Chronicle...</td>\n",
       "      <td>14.455091</td>\n",
       "    </tr>\n",
       "    <tr>\n",
       "      <td>2022</td>\n",
       "      <td>Plaza y Janes</td>\n",
       "      <td>Jurassic Park (Jurassic Park, #1)</td>\n",
       "      <td>14.391172</td>\n",
       "    </tr>\n",
       "    <tr>\n",
       "      <td>15815</td>\n",
       "      <td>Hyperion</td>\n",
       "      <td>The Five People You Meet in Heaven</td>\n",
       "      <td>14.385714</td>\n",
       "    </tr>\n",
       "    <tr>\n",
       "      <td>2303</td>\n",
       "      <td>Scholastic Press</td>\n",
       "      <td>Shiver (The Wolves of Mercy Falls, #1)</td>\n",
       "      <td>14.126174</td>\n",
       "    </tr>\n",
       "    <tr>\n",
       "      <td>2096</td>\n",
       "      <td>William Morrow</td>\n",
       "      <td>Good Omens: The Nice and Accurate Prophecies o...</td>\n",
       "      <td>14.082922</td>\n",
       "    </tr>\n",
       "    <tr>\n",
       "      <td>2416</td>\n",
       "      <td>Tor Books</td>\n",
       "      <td>The Eye of the World (Wheel of Time, #1)</td>\n",
       "      <td>13.925293</td>\n",
       "    </tr>\n",
       "    <tr>\n",
       "      <td>9206</td>\n",
       "      <td>Dutton Juvenile</td>\n",
       "      <td>Anna and the French Kiss (Anna and the French ...</td>\n",
       "      <td>13.900009</td>\n",
       "    </tr>\n",
       "    <tr>\n",
       "      <td>1525</td>\n",
       "      <td></td>\n",
       "      <td>Betrayed (House of Night, #2)</td>\n",
       "      <td>13.607402</td>\n",
       "    </tr>\n",
       "  </tbody>\n",
       "</table>\n",
       "</div>"
      ],
      "text/plain": [
       "                         publisher  \\\n",
       "6750               Alfred A. Knopf   \n",
       "32281                 Random House   \n",
       "7489   Penguin Group DAW Hardcover   \n",
       "2022                 Plaza y Janes   \n",
       "15815                     Hyperion   \n",
       "2303              Scholastic Press   \n",
       "2096                William Morrow   \n",
       "2416                     Tor Books   \n",
       "9206               Dutton Juvenile   \n",
       "1525                                 \n",
       "\n",
       "                                                   title  log_weighted_rating  \n",
       "6750      The Girl Who Played with Fire (Millennium, #2)            14.702244  \n",
       "32281  Unbroken: A World War II Story of Survival, Re...            14.611566  \n",
       "7489   The Name of the Wind (The Kingkiller Chronicle...            14.455091  \n",
       "2022                   Jurassic Park (Jurassic Park, #1)            14.391172  \n",
       "15815                 The Five People You Meet in Heaven            14.385714  \n",
       "2303              Shiver (The Wolves of Mercy Falls, #1)            14.126174  \n",
       "2096   Good Omens: The Nice and Accurate Prophecies o...            14.082922  \n",
       "2416            The Eye of the World (Wheel of Time, #1)            13.925293  \n",
       "9206   Anna and the French Kiss (Anna and the French ...            13.900009  \n",
       "1525                       Betrayed (House of Night, #2)            13.607402  "
      ]
     },
     "execution_count": 103,
     "metadata": {},
     "output_type": "execute_result"
    }
   ],
   "source": [
    "toppublishers1"
   ]
  },
  {
   "cell_type": "code",
   "execution_count": 104,
   "metadata": {},
   "outputs": [
    {
     "data": {
      "text/plain": [
       "Text(0.5, 1.0, 'Top Publishing Companies')"
      ]
     },
     "execution_count": 104,
     "metadata": {},
     "output_type": "execute_result"
    },
    {
     "data": {
      "image/png": "[encoded data removed]",
      "text/plain": [
       "<Figure size 432x288 with 1 Axes>"
      ]
     },
     "metadata": {
      "needs_background": "light"
     },
     "output_type": "display_data"
    }
   ],
   "source": [
    "plt.barh(toppublishers1[\"publisher\"], toppublishers1[\"log_weighted_rating\"], color = \"pink\")\n",
    "\n",
    "plt.xlabel(\"Books Rating\")\n",
    "plt.ylabel(\"Publishing Company\")\n",
    "plt.title(\"Top Publishing Companies\")"
   ]
  },
  {
   "cell_type": "markdown",
   "metadata": {},
   "source": [
    "Clean up ids in publishers column, for machine learning models testing. "
   ]
  },
  {
   "cell_type": "code",
   "execution_count": 105,
   "metadata": {
    "id": "U1h1jzgq6Sfs"
   },
   "outputs": [],
   "source": [
    "#transform publishers column into dictionary set to numerical values. \n",
    "\n",
    "pub_dict = {}\n",
    "k = 0\n",
    "for i in set(merged2.publisher):\n",
    "    pub_dict[i] = k\n",
    "    k+=1"
   ]
  },
  {
   "cell_type": "code",
   "execution_count": 106,
   "metadata": {
    "id": "lN5LyA-9-eI2"
   },
   "outputs": [],
   "source": [
    "merged2[\"publisher\"].replace(pub_dict, inplace = True)"
   ]
  },
  {
   "cell_type": "markdown",
   "metadata": {},
   "source": [
    "Save final dataframe file into an excel file that can be read in to different ML model notebooks. (note the excel file is could  not be saved in in Github due to the large size, please comment out  the below line to save to drive)"
   ]
  },
  {
   "cell_type": "code",
   "execution_count": 107,
   "metadata": {
    "id": "jZktNbBA06Fq"
   },
   "outputs": [],
   "source": [
    "#merged2.to_csv(\"merged2_50k.csv\")"
   ]
  },
  {
   "cell_type": "code",
   "execution_count": 148,
   "metadata": {},
   "outputs": [
    {
     "data": {
      "text/html": [
       "<div>\n",
       "<style scoped>\n",
       "    .dataframe tbody tr th:only-of-type {\n",
       "        vertical-align: middle;\n",
       "    }\n",
       "\n",
       "    .dataframe tbody tr th {\n",
       "        vertical-align: top;\n",
       "    }\n",
       "\n",
       "    .dataframe thead th {\n",
       "        text-align: right;\n",
       "    }\n",
       "</style>\n",
       "<table border=\"1\" class=\"dataframe\">\n",
       "  <thead>\n",
       "    <tr style=\"text-align: right;\">\n",
       "      <th></th>\n",
       "      <th>title</th>\n",
       "      <th>name</th>\n",
       "      <th>books_average_rating</th>\n",
       "      <th>books_ratings_count</th>\n",
       "      <th>fiction_or_nonFiction</th>\n",
       "      <th>series or not</th>\n",
       "      <th>log_weighted_rating</th>\n",
       "    </tr>\n",
       "  </thead>\n",
       "  <tbody>\n",
       "    <tr>\n",
       "      <td>0</td>\n",
       "      <td>W.C. Fields: A Life on Film</td>\n",
       "      <td>Ronald J. Fields</td>\n",
       "      <td>4.00</td>\n",
       "      <td>3</td>\n",
       "      <td>0</td>\n",
       "      <td>0</td>\n",
       "      <td>2.484907</td>\n",
       "    </tr>\n",
       "    <tr>\n",
       "      <td>1</td>\n",
       "      <td>Good Harbor</td>\n",
       "      <td>Anita Diamant</td>\n",
       "      <td>3.23</td>\n",
       "      <td>10</td>\n",
       "      <td>0</td>\n",
       "      <td>0</td>\n",
       "      <td>3.475067</td>\n",
       "    </tr>\n",
       "    <tr>\n",
       "      <td>2</td>\n",
       "      <td>The Red Tent</td>\n",
       "      <td>Anita Diamant</td>\n",
       "      <td>4.16</td>\n",
       "      <td>134</td>\n",
       "      <td>0</td>\n",
       "      <td>0</td>\n",
       "      <td>6.323355</td>\n",
       "    </tr>\n",
       "    <tr>\n",
       "      <td>3</td>\n",
       "      <td>The Red Tent</td>\n",
       "      <td>Anita Diamant</td>\n",
       "      <td>4.16</td>\n",
       "      <td>460</td>\n",
       "      <td>0</td>\n",
       "      <td>0</td>\n",
       "      <td>7.556742</td>\n",
       "    </tr>\n",
       "    <tr>\n",
       "      <td>4</td>\n",
       "      <td>Saying Kaddish: How to Comfort the Dying, Bury...</td>\n",
       "      <td>Anita Diamant</td>\n",
       "      <td>4.16</td>\n",
       "      <td>107</td>\n",
       "      <td>1</td>\n",
       "      <td>0</td>\n",
       "      <td>6.098344</td>\n",
       "    </tr>\n",
       "    <tr>\n",
       "      <td>...</td>\n",
       "      <td>...</td>\n",
       "      <td>...</td>\n",
       "      <td>...</td>\n",
       "      <td>...</td>\n",
       "      <td>...</td>\n",
       "      <td>...</td>\n",
       "      <td>...</td>\n",
       "    </tr>\n",
       "    <tr>\n",
       "      <td>49981</td>\n",
       "      <td>Designers GO!</td>\n",
       "      <td>Adrian Pierini</td>\n",
       "      <td>4.33</td>\n",
       "      <td>3</td>\n",
       "      <td>0</td>\n",
       "      <td>0</td>\n",
       "      <td>2.564180</td>\n",
       "    </tr>\n",
       "    <tr>\n",
       "      <td>49982</td>\n",
       "      <td>The Fallen Body</td>\n",
       "      <td>Stone Patrick</td>\n",
       "      <td>3.82</td>\n",
       "      <td>9</td>\n",
       "      <td>0</td>\n",
       "      <td>0</td>\n",
       "      <td>3.537475</td>\n",
       "    </tr>\n",
       "    <tr>\n",
       "      <td>49984</td>\n",
       "      <td>Teklifinizle İlgilenmiyorum</td>\n",
       "      <td>Basar Basarir</td>\n",
       "      <td>3.66</td>\n",
       "      <td>29</td>\n",
       "      <td>0</td>\n",
       "      <td>0</td>\n",
       "      <td>4.664759</td>\n",
       "    </tr>\n",
       "    <tr>\n",
       "      <td>49989</td>\n",
       "      <td>Energynomics: Ideologi Baru Dunia</td>\n",
       "      <td>Marwan Ja'far</td>\n",
       "      <td>2.50</td>\n",
       "      <td>2</td>\n",
       "      <td>1</td>\n",
       "      <td>0</td>\n",
       "      <td>1.609438</td>\n",
       "    </tr>\n",
       "    <tr>\n",
       "      <td>49991</td>\n",
       "      <td>Nanobilim ve Nanoteknoloji</td>\n",
       "      <td>Sakir Erkoc</td>\n",
       "      <td>3.65</td>\n",
       "      <td>23</td>\n",
       "      <td>0</td>\n",
       "      <td>0</td>\n",
       "      <td>4.430221</td>\n",
       "    </tr>\n",
       "  </tbody>\n",
       "</table>\n",
       "<p>38488 rows × 7 columns</p>\n",
       "</div>"
      ],
      "text/plain": [
       "                                                   title              name  \\\n",
       "0                            W.C. Fields: A Life on Film  Ronald J. Fields   \n",
       "1                                            Good Harbor     Anita Diamant   \n",
       "2                                           The Red Tent     Anita Diamant   \n",
       "3                                           The Red Tent     Anita Diamant   \n",
       "4      Saying Kaddish: How to Comfort the Dying, Bury...     Anita Diamant   \n",
       "...                                                  ...               ...   \n",
       "49981                                      Designers GO!    Adrian Pierini   \n",
       "49982                                    The Fallen Body     Stone Patrick   \n",
       "49984                        Teklifinizle İlgilenmiyorum     Basar Basarir   \n",
       "49989                  Energynomics: Ideologi Baru Dunia     Marwan Ja'far   \n",
       "49991                         Nanobilim ve Nanoteknoloji       Sakir Erkoc   \n",
       "\n",
       "      books_average_rating books_ratings_count  fiction_or_nonFiction  \\\n",
       "0                     4.00                   3                      0   \n",
       "1                     3.23                  10                      0   \n",
       "2                     4.16                 134                      0   \n",
       "3                     4.16                 460                      0   \n",
       "4                     4.16                 107                      1   \n",
       "...                    ...                 ...                    ...   \n",
       "49981                 4.33                   3                      0   \n",
       "49982                 3.82                   9                      0   \n",
       "49984                 3.66                  29                      0   \n",
       "49989                 2.50                   2                      1   \n",
       "49991                 3.65                  23                      0   \n",
       "\n",
       "       series or not  log_weighted_rating  \n",
       "0                  0             2.484907  \n",
       "1                  0             3.475067  \n",
       "2                  0             6.323355  \n",
       "3                  0             7.556742  \n",
       "4                  0             6.098344  \n",
       "...              ...                  ...  \n",
       "49981              0             2.564180  \n",
       "49982              0             3.537475  \n",
       "49984              0             4.664759  \n",
       "49989              0             1.609438  \n",
       "49991              0             4.430221  \n",
       "\n",
       "[38488 rows x 7 columns]"
      ]
     },
     "execution_count": 148,
     "metadata": {},
     "output_type": "execute_result"
    }
   ],
   "source": [
    "merged2[[\"title\",\"name\", \"books_average_rating\",\"books_ratings_count\", \"fiction_or_nonFiction\", \"series or not\", \"log_weighted_rating\"]]"
   ]
  },
  {
   "cell_type": "markdown",
   "metadata": {},
   "source": [
    "## Plots\n",
    "\n",
    "EDA plots"
   ]
  },
  {
   "cell_type": "code",
   "execution_count": 136,
   "metadata": {},
   "outputs": [],
   "source": [
    "import seaborn as sns\n",
    "import matplotlib.pyplot as plt\n",
    "import calendar"
   ]
  },
  {
   "cell_type": "code",
   "execution_count": 112,
   "metadata": {},
   "outputs": [
    {
     "data": {
      "text/plain": [
       "Index(['isbn', 'books_reviews_count', 'series', 'country_code',\n",
       "       'language_code', 'asin', 'is_ebook', 'books_average_rating',\n",
       "       'kindle_asin', 'similar_books', 'description', 'format', 'authors',\n",
       "       'publisher', 'num_pages', 'publication_day', 'isbn13',\n",
       "       'publication_month', 'edition_information', 'publication_year',\n",
       "       'book_id', 'books_ratings_count', 'work_id', 'title',\n",
       "       'title_without_series', 'author_id', 'authors_average_rating',\n",
       "       'authors_text_reviews_count', 'name', 'authors_ratings_count', 'genres',\n",
       "       'fiction_or_nonFiction', 'series or not', 'log_weighted_rating',\n",
       "       'total_books', 'pgs_per_book'],\n",
       "      dtype='object')"
      ]
     },
     "execution_count": 112,
     "metadata": {},
     "output_type": "execute_result"
    }
   ],
   "source": [
    "merged2.columns"
   ]
  },
  {
   "cell_type": "markdown",
   "metadata": {},
   "source": [
    "1. Which books typically have higher book ratings, non fiction novels or fiction novels?"
   ]
  },
  {
   "cell_type": "code",
   "execution_count": 145,
   "metadata": {},
   "outputs": [
    {
     "data": {
      "text/plain": [
       "Text(0.5, 1.0, 'Fiction and NonFiction Books Ratings')"
      ]
     },
     "execution_count": 145,
     "metadata": {},
     "output_type": "execute_result"
    },
    {
     "data": {
      "text/plain": [
       "<Figure size 576x576 with 0 Axes>"
      ]
     },
     "metadata": {},
     "output_type": "display_data"
    },
    {
     "data": {
      "image/png": "[encoded data removed]",
      "text/plain": [
       "<Figure size 360x360 with 1 Axes>"
      ]
     },
     "metadata": {
      "needs_background": "light"
     },
     "output_type": "display_data"
    }
   ],
   "source": [
    "#1- non fiction, 0 - fiction\n",
    "fig= plt.figure(figsize=(8,8))\n",
    "sns.catplot(x=\"fiction_or_nonFiction\", y=\"log_weighted_rating\", data=merged2[:30000])\n",
    "\n",
    "labels= [\"0 - nonfiction\", \"1 - fiction\"]\n",
    "plt.legend(labels)\n",
    "plt.xlabel(\"Fiction or NonFiction Books\")\n",
    "plt.ylabel(\"Books Rating\")\n",
    "plt.title(\"Fiction and NonFiction Books Ratings\")"
   ]
  },
  {
   "cell_type": "markdown",
   "metadata": {},
   "source": [
    "2. Which months published the most books?"
   ]
  },
  {
   "cell_type": "code",
   "execution_count": 115,
   "metadata": {},
   "outputs": [
    {
     "name": "stderr",
     "output_type": "stream",
     "text": [
      "C:\\ProgramData\\Anaconda3\\lib\\site-packages\\pandas\\core\\frame.py:4263: SettingWithCopyWarning: \n",
      "A value is trying to be set on a copy of a slice from a DataFrame\n",
      "\n",
      "See the caveats in the documentation: http://pandas.pydata.org/pandas-docs/stable/user_guide/indexing.html#returning-a-view-versus-a-copy\n",
      "  method=method,\n"
     ]
    }
   ],
   "source": [
    "months = merged2[[\"publication_month\", \"total_books\"]]\n",
    "nan_value = float(\"NaN\")\n",
    "months.replace(\"\", nan_value, inplace=True)"
   ]
  },
  {
   "cell_type": "code",
   "execution_count": 116,
   "metadata": {},
   "outputs": [],
   "source": [
    "months2 = months.dropna()\n",
    "\n",
    "    "
   ]
  },
  {
   "cell_type": "code",
   "execution_count": 117,
   "metadata": {},
   "outputs": [
    {
     "data": {
      "text/plain": [
       "0         9\n",
       "1        10\n",
       "2        11\n",
       "4         7\n",
       "5        10\n",
       "         ..\n",
       "49979     9\n",
       "49980    11\n",
       "49982    10\n",
       "49984    10\n",
       "49989    10\n",
       "Name: publication_month, Length: 28443, dtype: int64"
      ]
     },
     "execution_count": 117,
     "metadata": {},
     "output_type": "execute_result"
    }
   ],
   "source": [
    "months2.publication_month.apply(int)"
   ]
  },
  {
   "cell_type": "code",
   "execution_count": 118,
   "metadata": {},
   "outputs": [],
   "source": [
    "month_name=[]\n",
    "for i in months2.publication_month:\n",
    "    x=int(i)\n",
    "    #print(type(x))\n",
    "    month_name.append(calendar.month_name[x])"
   ]
  },
  {
   "cell_type": "code",
   "execution_count": 119,
   "metadata": {},
   "outputs": [
    {
     "name": "stderr",
     "output_type": "stream",
     "text": [
      "C:\\ProgramData\\Anaconda3\\lib\\site-packages\\ipykernel_launcher.py:1: SettingWithCopyWarning: \n",
      "A value is trying to be set on a copy of a slice from a DataFrame.\n",
      "Try using .loc[row_indexer,col_indexer] = value instead\n",
      "\n",
      "See the caveats in the documentation: http://pandas.pydata.org/pandas-docs/stable/user_guide/indexing.html#returning-a-view-versus-a-copy\n",
      "  \"\"\"Entry point for launching an IPython kernel.\n"
     ]
    }
   ],
   "source": [
    "months2[\"month name\"]=month_name"
   ]
  },
  {
   "cell_type": "code",
   "execution_count": 120,
   "metadata": {},
   "outputs": [
    {
     "data": {
      "text/html": [
       "<div>\n",
       "<style scoped>\n",
       "    .dataframe tbody tr th:only-of-type {\n",
       "        vertical-align: middle;\n",
       "    }\n",
       "\n",
       "    .dataframe tbody tr th {\n",
       "        vertical-align: top;\n",
       "    }\n",
       "\n",
       "    .dataframe thead th {\n",
       "        text-align: right;\n",
       "    }\n",
       "</style>\n",
       "<table border=\"1\" class=\"dataframe\">\n",
       "  <thead>\n",
       "    <tr style=\"text-align: right;\">\n",
       "      <th></th>\n",
       "      <th>publication_month</th>\n",
       "      <th>total_books</th>\n",
       "      <th>month name</th>\n",
       "    </tr>\n",
       "  </thead>\n",
       "  <tbody>\n",
       "    <tr>\n",
       "      <td>0</td>\n",
       "      <td>9</td>\n",
       "      <td>1</td>\n",
       "      <td>September</td>\n",
       "    </tr>\n",
       "    <tr>\n",
       "      <td>1</td>\n",
       "      <td>10</td>\n",
       "      <td>5</td>\n",
       "      <td>October</td>\n",
       "    </tr>\n",
       "  </tbody>\n",
       "</table>\n",
       "</div>"
      ],
      "text/plain": [
       "  publication_month  total_books month name\n",
       "0                 9            1  September\n",
       "1                10            5    October"
      ]
     },
     "execution_count": 120,
     "metadata": {},
     "output_type": "execute_result"
    }
   ],
   "source": [
    "months2[:2]"
   ]
  },
  {
   "cell_type": "code",
   "execution_count": 121,
   "metadata": {},
   "outputs": [],
   "source": [
    "\n",
    "\n",
    "books_per_month = months2.groupby(\"month name\").agg(books_per_month = pd.NamedAgg(column = \"total_books\", aggfunc= \"count\"))\n",
    "\n",
    "\n",
    "months3 = months2[months2[\"month name\"].isin(books_per_month.index)].join(books_per_month[\"books_per_month\"], on = \"month name\")\n",
    "\n"
   ]
  },
  {
   "cell_type": "code",
   "execution_count": 122,
   "metadata": {},
   "outputs": [
    {
     "data": {
      "text/plain": [
       "Index(['April', 'August', 'December', 'February', 'January', 'July', 'June',\n",
       "       'March', 'May', 'November', 'October', 'September'],\n",
       "      dtype='object', name='month name')"
      ]
     },
     "execution_count": 122,
     "metadata": {},
     "output_type": "execute_result"
    }
   ],
   "source": [
    "books_per_month.index"
   ]
  },
  {
   "cell_type": "code",
   "execution_count": 123,
   "metadata": {},
   "outputs": [
    {
     "data": {
      "text/html": [
       "<div>\n",
       "<style scoped>\n",
       "    .dataframe tbody tr th:only-of-type {\n",
       "        vertical-align: middle;\n",
       "    }\n",
       "\n",
       "    .dataframe tbody tr th {\n",
       "        vertical-align: top;\n",
       "    }\n",
       "\n",
       "    .dataframe thead th {\n",
       "        text-align: right;\n",
       "    }\n",
       "</style>\n",
       "<table border=\"1\" class=\"dataframe\">\n",
       "  <thead>\n",
       "    <tr style=\"text-align: right;\">\n",
       "      <th></th>\n",
       "      <th>books_per_month</th>\n",
       "    </tr>\n",
       "    <tr>\n",
       "      <th>month name</th>\n",
       "      <th></th>\n",
       "    </tr>\n",
       "  </thead>\n",
       "  <tbody>\n",
       "    <tr>\n",
       "      <td>April</td>\n",
       "      <td>2572</td>\n",
       "    </tr>\n",
       "    <tr>\n",
       "      <td>August</td>\n",
       "      <td>2306</td>\n",
       "    </tr>\n",
       "    <tr>\n",
       "      <td>December</td>\n",
       "      <td>1790</td>\n",
       "    </tr>\n",
       "    <tr>\n",
       "      <td>February</td>\n",
       "      <td>2008</td>\n",
       "    </tr>\n",
       "    <tr>\n",
       "      <td>January</td>\n",
       "      <td>2593</td>\n",
       "    </tr>\n",
       "    <tr>\n",
       "      <td>July</td>\n",
       "      <td>2044</td>\n",
       "    </tr>\n",
       "    <tr>\n",
       "      <td>June</td>\n",
       "      <td>2255</td>\n",
       "    </tr>\n",
       "    <tr>\n",
       "      <td>March</td>\n",
       "      <td>2508</td>\n",
       "    </tr>\n",
       "    <tr>\n",
       "      <td>May</td>\n",
       "      <td>2416</td>\n",
       "    </tr>\n",
       "    <tr>\n",
       "      <td>November</td>\n",
       "      <td>2144</td>\n",
       "    </tr>\n",
       "    <tr>\n",
       "      <td>October</td>\n",
       "      <td>2995</td>\n",
       "    </tr>\n",
       "    <tr>\n",
       "      <td>September</td>\n",
       "      <td>2812</td>\n",
       "    </tr>\n",
       "  </tbody>\n",
       "</table>\n",
       "</div>"
      ],
      "text/plain": [
       "            books_per_month\n",
       "month name                 \n",
       "April                  2572\n",
       "August                 2306\n",
       "December               1790\n",
       "February               2008\n",
       "January                2593\n",
       "July                   2044\n",
       "June                   2255\n",
       "March                  2508\n",
       "May                    2416\n",
       "November               2144\n",
       "October                2995\n",
       "September              2812"
      ]
     },
     "execution_count": 123,
     "metadata": {},
     "output_type": "execute_result"
    }
   ],
   "source": [
    "books_per_month"
   ]
  },
  {
   "cell_type": "code",
   "execution_count": 208,
   "metadata": {},
   "outputs": [
    {
     "data": {
      "text/plain": [
       "Text(0.5, 1.0, 'Number of Books Published per Month')"
      ]
     },
     "execution_count": 208,
     "metadata": {},
     "output_type": "execute_result"
    },
    {
     "data": {
      "image/png": "[encoded data removed]",
      "text/plain": [
       "<Figure size 360x360 with 1 Axes>"
      ]
     },
     "metadata": {
      "needs_background": "light"
     },
     "output_type": "display_data"
    }
   ],
   "source": [
    "fig= plt.figure(figsize=(5,5))\n",
    "\n",
    "\n",
    "plt.barh(books_per_month.index, books_per_month[\"books_per_month\"], color = \"purple\")\n",
    "\n",
    "plt.xlabel(\"Number of Books Published\")\n",
    "plt.ylabel(\"Month\")\n",
    "plt.title(\"Number of Books Published per Month\")"
   ]
  },
  {
   "cell_type": "markdown",
   "metadata": {},
   "source": [
    "3. Are books part of a series more successful than books not part of a series?"
   ]
  },
  {
   "cell_type": "code",
   "execution_count": 146,
   "metadata": {},
   "outputs": [
    {
     "data": {
      "text/plain": [
       "Text(0.5, 1.0, 'Book series overall ratings')"
      ]
     },
     "execution_count": 146,
     "metadata": {},
     "output_type": "execute_result"
    },
    {
     "data": {
      "image/png": "[encoded data removed]",
      "text/plain": [
       "<Figure size 360x360 with 1 Axes>"
      ]
     },
     "metadata": {
      "needs_background": "light"
     },
     "output_type": "display_data"
    }
   ],
   "source": [
    "# log average weighted\n",
    "sns.catplot(x=\"series or not\", y=\"log_weighted_rating\" ,data=merged2[:30000])\n",
    "labels= [\"0 - not part of a series\", \"1 - part of series\"]\n",
    "plt.legend(labels)\n",
    "plt.xlabel(\"Book is part of a series or not part of a series\")\n",
    "plt.ylabel(\"Books Rating\")\n",
    "plt.title(\"Book series overall ratings\")"
   ]
  },
  {
   "cell_type": "markdown",
   "metadata": {},
   "source": [
    "4. Which books are the longest (largest length of pages)?"
   ]
  },
  {
   "cell_type": "code",
   "execution_count": 127,
   "metadata": {},
   "outputs": [],
   "source": [
    "\n",
    "longest_books = merged2[[\"title\",\"num_pages\"]]\n",
    "nan_value = float(\"NaN\")\n",
    "longest_books.replace(\"\", nan_value, inplace=True)\n",
    "longest_books2=longest_books.dropna()"
   ]
  },
  {
   "cell_type": "code",
   "execution_count": 128,
   "metadata": {},
   "outputs": [],
   "source": [
    "longestbooks2 = longest_books2.sort_values(\"num_pages\", ascending = False).head(10)"
   ]
  },
  {
   "cell_type": "code",
   "execution_count": 129,
   "metadata": {},
   "outputs": [
    {
     "data": {
      "text/html": [
       "<div>\n",
       "<style scoped>\n",
       "    .dataframe tbody tr th:only-of-type {\n",
       "        vertical-align: middle;\n",
       "    }\n",
       "\n",
       "    .dataframe tbody tr th {\n",
       "        vertical-align: top;\n",
       "    }\n",
       "\n",
       "    .dataframe thead th {\n",
       "        text-align: right;\n",
       "    }\n",
       "</style>\n",
       "<table border=\"1\" class=\"dataframe\">\n",
       "  <thead>\n",
       "    <tr style=\"text-align: right;\">\n",
       "      <th></th>\n",
       "      <th>title</th>\n",
       "      <th>num_pages</th>\n",
       "    </tr>\n",
       "  </thead>\n",
       "  <tbody>\n",
       "    <tr>\n",
       "      <td>9507</td>\n",
       "      <td>The Kindly Ones</td>\n",
       "      <td>994</td>\n",
       "    </tr>\n",
       "    <tr>\n",
       "      <td>47168</td>\n",
       "      <td>Foundations of Multidimensional and Metric Dat...</td>\n",
       "      <td>993</td>\n",
       "    </tr>\n",
       "    <tr>\n",
       "      <td>7657</td>\n",
       "      <td>2107 Curious Word Origins, Sayings &amp; Expressio...</td>\n",
       "      <td>992</td>\n",
       "    </tr>\n",
       "    <tr>\n",
       "      <td>43034</td>\n",
       "      <td>The Plant Finder: The Right Plants for Every G...</td>\n",
       "      <td>992</td>\n",
       "    </tr>\n",
       "    <tr>\n",
       "      <td>49759</td>\n",
       "      <td>Democracy in America</td>\n",
       "      <td>992</td>\n",
       "    </tr>\n",
       "    <tr>\n",
       "      <td>26029</td>\n",
       "      <td>Holly Black's Modern Faerie Tales: Tithe; Vali...</td>\n",
       "      <td>992</td>\n",
       "    </tr>\n",
       "    <tr>\n",
       "      <td>34548</td>\n",
       "      <td>Goebbels</td>\n",
       "      <td>992</td>\n",
       "    </tr>\n",
       "    <tr>\n",
       "      <td>48187</td>\n",
       "      <td>En barnlig komedie og andre fortællinger - jub...</td>\n",
       "      <td>99</td>\n",
       "    </tr>\n",
       "    <tr>\n",
       "      <td>40321</td>\n",
       "      <td>Astronomical (Astronomers #1)</td>\n",
       "      <td>99</td>\n",
       "    </tr>\n",
       "    <tr>\n",
       "      <td>2871</td>\n",
       "      <td>A Pérola</td>\n",
       "      <td>99</td>\n",
       "    </tr>\n",
       "  </tbody>\n",
       "</table>\n",
       "</div>"
      ],
      "text/plain": [
       "                                                   title num_pages\n",
       "9507                                     The Kindly Ones       994\n",
       "47168  Foundations of Multidimensional and Metric Dat...       993\n",
       "7657   2107 Curious Word Origins, Sayings & Expressio...       992\n",
       "43034  The Plant Finder: The Right Plants for Every G...       992\n",
       "49759                               Democracy in America       992\n",
       "26029  Holly Black's Modern Faerie Tales: Tithe; Vali...       992\n",
       "34548                                           Goebbels       992\n",
       "48187  En barnlig komedie og andre fortællinger - jub...        99\n",
       "40321                      Astronomical (Astronomers #1)        99\n",
       "2871                                            A Pérola        99"
      ]
     },
     "execution_count": 129,
     "metadata": {},
     "output_type": "execute_result"
    }
   ],
   "source": [
    "longestbooks2"
   ]
  },
  {
   "cell_type": "code",
   "execution_count": 130,
   "metadata": {},
   "outputs": [
    {
     "data": {
      "image/png": "[encoded data removed]",
      "text/plain": [
       "<Figure size 360x360 with 1 Axes>"
      ]
     },
     "metadata": {
      "needs_background": "light"
     },
     "output_type": "display_data"
    }
   ],
   "source": [
    "fig= plt.figure(figsize=(5,5))\n",
    "\n",
    "plt.barh(longestbooks2[\"title\"], longestbooks2[\"num_pages\"], color = \"black\")\n",
    "\n",
    "plt.ylabel(\"Books\")\n",
    "plt.xlabel(\"Number of Pages per book\")\n",
    "plt.title(\"Longest Books\")\n",
    "plt.show()"
   ]
  },
  {
   "cell_type": "markdown",
   "metadata": {},
   "source": [
    "5. Are books with the most ratings counts have the highest rating?"
   ]
  },
  {
   "cell_type": "code",
   "execution_count": 168,
   "metadata": {},
   "outputs": [
    {
     "data": {
      "text/plain": [
       "0          3\n",
       "1         10\n",
       "2        134\n",
       "3        460\n",
       "4        107\n",
       "        ... \n",
       "49987      5\n",
       "49988      1\n",
       "49989      2\n",
       "49990      8\n",
       "49991     23\n",
       "Name: books_ratings_count, Length: 49992, dtype: int64"
      ]
     },
     "execution_count": 168,
     "metadata": {},
     "output_type": "execute_result"
    }
   ],
   "source": [
    "top_counts= merged[[\"books_ratings_count\", \"log_weighted_rating\"]]\n",
    "pd.to_numeric(top_counts[\"books_ratings_count\"])"
   ]
  },
  {
   "cell_type": "code",
   "execution_count": 171,
   "metadata": {},
   "outputs": [
    {
     "name": "stderr",
     "output_type": "stream",
     "text": [
      "C:\\ProgramData\\Anaconda3\\lib\\site-packages\\ipykernel_launcher.py:1: SettingWithCopyWarning: \n",
      "A value is trying to be set on a copy of a slice from a DataFrame.\n",
      "Try using .loc[row_indexer,col_indexer] = value instead\n",
      "\n",
      "See the caveats in the documentation: http://pandas.pydata.org/pandas-docs/stable/user_guide/indexing.html#returning-a-view-versus-a-copy\n",
      "  \"\"\"Entry point for launching an IPython kernel.\n"
     ]
    }
   ],
   "source": [
    "top_counts[\"books_ratings_count\"] = top_counts[\"books_ratings_count\"].apply(pd.to_numeric)\n",
    "    "
   ]
  },
  {
   "cell_type": "code",
   "execution_count": 207,
   "metadata": {},
   "outputs": [
    {
     "data": {
      "text/plain": [
       "Text(0.5, 1.0, 'Books Ratings Count vs Books log_weighted_rating')"
      ]
     },
     "execution_count": 207,
     "metadata": {},
     "output_type": "execute_result"
    },
    {
     "data": {
      "image/png": "[encoded data removed]",
      "text/plain": [
       "<Figure size 432x288 with 1 Axes>"
      ]
     },
     "metadata": {
      "needs_background": "light"
     },
     "output_type": "display_data"
    }
   ],
   "source": [
    "top_counts.plot(kind= \"scatter\", x= \"books_ratings_count\", y = \"log_weighted_rating\", color = \"blue\")\n",
    "plt.title(\"Books Ratings Count vs Books log_weighted_rating\")\n",
    "\n"
   ]
  },
  {
   "cell_type": "markdown",
   "metadata": {},
   "source": [
    "6. Are books with more reviews more sucessful?"
   ]
  },
  {
   "cell_type": "code",
   "execution_count": 182,
   "metadata": {},
   "outputs": [
    {
     "name": "stderr",
     "output_type": "stream",
     "text": [
      "C:\\ProgramData\\Anaconda3\\lib\\site-packages\\ipykernel_launcher.py:2: SettingWithCopyWarning: \n",
      "A value is trying to be set on a copy of a slice from a DataFrame.\n",
      "Try using .loc[row_indexer,col_indexer] = value instead\n",
      "\n",
      "See the caveats in the documentation: http://pandas.pydata.org/pandas-docs/stable/user_guide/indexing.html#returning-a-view-versus-a-copy\n",
      "  \n"
     ]
    }
   ],
   "source": [
    "top_reviews = merged2[[\"books_reviews_count\",\"log_weighted_rating\"]]\n",
    "top_reviews[\"books_reviews_count\"] = top_reviews[\"books_reviews_count\"].apply(pd.to_numeric)"
   ]
  },
  {
   "cell_type": "code",
   "execution_count": 205,
   "metadata": {},
   "outputs": [
    {
     "data": {
      "text/plain": [
       "Text(0.5, 1.0, 'Books Reviews Count vs Books log_weighted_rating')"
      ]
     },
     "execution_count": 205,
     "metadata": {},
     "output_type": "execute_result"
    },
    {
     "data": {
      "image/png": "[encoded data removed]",
      "text/plain": [
       "<Figure size 432x288 with 1 Axes>"
      ]
     },
     "metadata": {
      "needs_background": "light"
     },
     "output_type": "display_data"
    }
   ],
   "source": [
    "\n",
    "top_reviews.plot(kind= \"scatter\", x= \"books_reviews_count\", y = \"log_weighted_rating\", color = \"green\")\n",
    "\n",
    "plt.title(\"Books Reviews Count vs Books log_weighted_rating\")\n"
   ]
  },
  {
   "cell_type": "markdown",
   "metadata": {},
   "source": [
    "7. Are longer books (more pages per book) more sucessful than shorter books?\n"
   ]
  },
  {
   "cell_type": "code",
   "execution_count": 190,
   "metadata": {},
   "outputs": [
    {
     "name": "stderr",
     "output_type": "stream",
     "text": [
      "C:\\ProgramData\\Anaconda3\\lib\\site-packages\\ipykernel_launcher.py:2: SettingWithCopyWarning: \n",
      "A value is trying to be set on a copy of a slice from a DataFrame.\n",
      "Try using .loc[row_indexer,col_indexer] = value instead\n",
      "\n",
      "See the caveats in the documentation: http://pandas.pydata.org/pandas-docs/stable/user_guide/indexing.html#returning-a-view-versus-a-copy\n",
      "  \n"
     ]
    }
   ],
   "source": [
    "longer_books = merged2[[\"num_pages\", \"log_weighted_rating\"]]\n",
    "longer_books[\"num_pages\"]=longer_books[\"num_pages\"].apply(pd.to_numeric)"
   ]
  },
  {
   "cell_type": "code",
   "execution_count": 202,
   "metadata": {},
   "outputs": [
    {
     "data": {
      "text/plain": [
       "(0, 3000)"
      ]
     },
     "execution_count": 202,
     "metadata": {},
     "output_type": "execute_result"
    },
    {
     "data": {
      "image/png": "[encoded data removed]",
      "text/plain": [
       "<Figure size 432x288 with 1 Axes>"
      ]
     },
     "metadata": {
      "needs_background": "light"
     },
     "output_type": "display_data"
    }
   ],
   "source": [
    "longer_books.plot(kind= \"scatter\", x= \"num_pages\", y = \"log_weighted_rating\", color = \"red\")\n",
    "plt.title(\"Number of Pages per Book vs Books' log_weighted_rating\")\n",
    "plt.xlim([0,3000])"
   ]
  },
  {
   "cell_type": "code",
   "execution_count": null,
   "metadata": {},
   "outputs": [],
   "source": []
  }
 ],
 "metadata": {
  "colab": {
   "collapsed_sections": [],
   "name": "EDA_final .ipynb",
   "provenance": []
  },
  "kernelspec": {
   "display_name": "Python 3",
   "language": "python",
   "name": "python3"
  },
  "language_info": {
   "codemirror_mode": {
    "name": "ipython",
    "version": 3
   },
   "file_extension": ".py",
   "mimetype": "text/x-python",
   "name": "python",
   "nbconvert_exporter": "python",
   "pygments_lexer": "ipython3",
   "version": "3.7.1"
  }
 },
 "nbformat": 4,
 "nbformat_minor": 2
}
