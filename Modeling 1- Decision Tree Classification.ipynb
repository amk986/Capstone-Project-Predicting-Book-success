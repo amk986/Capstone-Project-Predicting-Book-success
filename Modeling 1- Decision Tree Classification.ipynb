{
 "cells": [
  {
   "cell_type": "markdown",
   "metadata": {},
   "source": [
    "## Predicting Book Success - Decision Tree Modeling"
   ]
  },
  {
   "cell_type": "markdown",
   "metadata": {},
   "source": [
    "1. Import Packages"
   ]
  },
  {
   "cell_type": "code",
   "execution_count": 2,
   "metadata": {},
   "outputs": [],
   "source": [
    "import pandas as pd\n",
    "import numpy as np\n",
    "import nltk\n",
    "from nltk.tokenize import word_tokenize\n",
    "from sklearn.svm import SVC\n",
    "from sklearn.tree import DecisionTreeClassifier, DecisionTreeRegressor\n",
    "from sklearn.feature_extraction.text import CountVectorizer, TfidfVectorizer\n",
    "from sklearn.metrics import classification_report, precision_recall_fscore_support\n",
    "from sklearn.model_selection import train_test_split\n",
    "from sklearn.feature_extraction.text import TfidfVectorizer\n",
    "from sklearn.preprocessing import scale, StandardScaler\n",
    "from sklearn.pipeline import Pipeline, FeatureUnion\n",
    "from sklearn.preprocessing import FunctionTransformer\n",
    "from sklearn.impute import SimpleImputer\n",
    "from sklearn.tree import DecisionTreeClassifier, DecisionTreeRegressor\n",
    "from sklearn.ensemble import RandomForestClassifier\n",
    "from sklearn.model_selection import GridSearchCV, StratifiedKFold, ShuffleSplit\n",
    "from sklearn.metrics import classification_report\n"
   ]
  },
  {
   "cell_type": "markdown",
   "metadata": {},
   "source": [
    "2. Read in the exported cleaned dataset, this can also be accessed from Github repository"
   ]
  },
  {
   "cell_type": "code",
   "execution_count": 3,
   "metadata": {},
   "outputs": [],
   "source": [
    "merged=pd.read_csv(\"merged2_50K.csv\")\n"
   ]
  },
  {
   "cell_type": "code",
   "execution_count": 5,
   "metadata": {},
   "outputs": [
    {
     "data": {
      "text/plain": [
       "Index(['Unnamed: 0', 'isbn', 'books_reviews_count', 'series', 'country_code',\n",
       "       'language_code', 'asin', 'is_ebook', 'books_average_rating',\n",
       "       'kindle_asin', 'similar_books', 'description', 'format', 'authors',\n",
       "       'publisher', 'num_pages', 'publication_day', 'isbn13',\n",
       "       'publication_month', 'edition_information', 'publication_year',\n",
       "       'book_id', 'books_ratings_count', 'work_id', 'title',\n",
       "       'title_without_series', 'author_id', 'authors_average_rating',\n",
       "       'authors_text_reviews_count', 'name', 'authors_ratings_count', 'genres',\n",
       "       'fiction_or_nonFiction', 'series or not', 'log_weighted_rating',\n",
       "       'total_books', 'pgs_per_book'],\n",
       "      dtype='object')"
      ]
     },
     "execution_count": 5,
     "metadata": {},
     "output_type": "execute_result"
    }
   ],
   "source": [
    "merged.columns"
   ]
  },
  {
   "cell_type": "markdown",
   "metadata": {},
   "source": [
    "3. Choose feature and target variables: title and description will be vectorized."
   ]
  },
  {
   "cell_type": "code",
   "execution_count": 6,
   "metadata": {},
   "outputs": [],
   "source": [
    "# feature variables we want to use in the model:\n",
    "\n",
    "\n",
    "merged_to_model=merged[['title','description',\"books_ratings_count\", \"books_reviews_count\"\n",
    "                            ,'num_pages', 'log_weighted_rating',\n",
    "                           \"fiction_or_nonFiction\",'series or not',\"author_id\", \"total_books\"]]"
   ]
  },
  {
   "cell_type": "code",
   "execution_count": 7,
   "metadata": {},
   "outputs": [
    {
     "data": {
      "text/plain": [
       "Index(['title', 'description', 'books_ratings_count', 'books_reviews_count',\n",
       "       'num_pages', 'log_weighted_rating', 'fiction_or_nonFiction',\n",
       "       'series or not', 'author_id', 'total_books'],\n",
       "      dtype='object')"
      ]
     },
     "execution_count": 7,
     "metadata": {},
     "output_type": "execute_result"
    }
   ],
   "source": [
    "merged_to_model.columns"
   ]
  },
  {
   "cell_type": "markdown",
   "metadata": {},
   "source": [
    "4. Get dummy variables, define categorical columns"
   ]
  },
  {
   "cell_type": "code",
   "execution_count": 8,
   "metadata": {},
   "outputs": [],
   "source": [
    "#categorical data\n",
    "categorical_cols = [ \"author_id\",'series or not','fiction_or_nonFiction'] \n",
    "\n",
    "#numerical data- get dummy variables for categorical columns\n",
    "numerics_data = pd.get_dummies(merged_to_model, columns = categorical_cols)"
   ]
  },
  {
   "cell_type": "code",
   "execution_count": 9,
   "metadata": {},
   "outputs": [
    {
     "data": {
      "text/plain": [
       "(30747, 24949)"
      ]
     },
     "execution_count": 9,
     "metadata": {},
     "output_type": "execute_result"
    }
   ],
   "source": [
    "numerics_data.dropna(inplace= True)\n",
    "numerics_data.shape"
   ]
  },
  {
   "cell_type": "code",
   "execution_count": 10,
   "metadata": {},
   "outputs": [
    {
     "data": {
      "text/html": [
       "<div>\n",
       "<style scoped>\n",
       "    .dataframe tbody tr th:only-of-type {\n",
       "        vertical-align: middle;\n",
       "    }\n",
       "\n",
       "    .dataframe tbody tr th {\n",
       "        vertical-align: top;\n",
       "    }\n",
       "\n",
       "    .dataframe thead th {\n",
       "        text-align: right;\n",
       "    }\n",
       "</style>\n",
       "<table border=\"1\" class=\"dataframe\">\n",
       "  <thead>\n",
       "    <tr style=\"text-align: right;\">\n",
       "      <th></th>\n",
       "      <th>title</th>\n",
       "      <th>description</th>\n",
       "      <th>books_ratings_count</th>\n",
       "      <th>books_reviews_count</th>\n",
       "      <th>num_pages</th>\n",
       "      <th>log_weighted_rating</th>\n",
       "      <th>total_books</th>\n",
       "      <th>author_id_4</th>\n",
       "      <th>author_id_7</th>\n",
       "      <th>author_id_10</th>\n",
       "      <th>...</th>\n",
       "      <th>author_id_17250134</th>\n",
       "      <th>author_id_17255261</th>\n",
       "      <th>author_id_17264133</th>\n",
       "      <th>author_id_17265337</th>\n",
       "      <th>author_id_17290483</th>\n",
       "      <th>author_id_17300081</th>\n",
       "      <th>series or not_0</th>\n",
       "      <th>series or not_1</th>\n",
       "      <th>fiction_or_nonFiction_0</th>\n",
       "      <th>fiction_or_nonFiction_1</th>\n",
       "    </tr>\n",
       "  </thead>\n",
       "  <tbody>\n",
       "    <tr>\n",
       "      <th>2</th>\n",
       "      <td>The Red Tent</td>\n",
       "      <td>IN THE RED TENT--NOW A MAJOR LIFETIME MINISERI...</td>\n",
       "      <td>134</td>\n",
       "      <td>19</td>\n",
       "      <td>352.0</td>\n",
       "      <td>6.323355</td>\n",
       "      <td>5</td>\n",
       "      <td>0</td>\n",
       "      <td>0</td>\n",
       "      <td>0</td>\n",
       "      <td>...</td>\n",
       "      <td>0</td>\n",
       "      <td>0</td>\n",
       "      <td>0</td>\n",
       "      <td>0</td>\n",
       "      <td>0</td>\n",
       "      <td>0</td>\n",
       "      <td>1</td>\n",
       "      <td>0</td>\n",
       "      <td>1</td>\n",
       "      <td>0</td>\n",
       "    </tr>\n",
       "    <tr>\n",
       "      <th>3</th>\n",
       "      <td>The Red Tent</td>\n",
       "      <td>The red tent is the place where women gathered...</td>\n",
       "      <td>460</td>\n",
       "      <td>60</td>\n",
       "      <td>336.0</td>\n",
       "      <td>7.556742</td>\n",
       "      <td>5</td>\n",
       "      <td>0</td>\n",
       "      <td>0</td>\n",
       "      <td>0</td>\n",
       "      <td>...</td>\n",
       "      <td>0</td>\n",
       "      <td>0</td>\n",
       "      <td>0</td>\n",
       "      <td>0</td>\n",
       "      <td>0</td>\n",
       "      <td>0</td>\n",
       "      <td>1</td>\n",
       "      <td>0</td>\n",
       "      <td>1</td>\n",
       "      <td>0</td>\n",
       "    </tr>\n",
       "    <tr>\n",
       "      <th>4</th>\n",
       "      <td>Saying Kaddish: How to Comfort the Dying, Bury...</td>\n",
       "      <td>Anita Diamant's knowledge, sensitivity, and cl...</td>\n",
       "      <td>107</td>\n",
       "      <td>14</td>\n",
       "      <td>288.0</td>\n",
       "      <td>6.098344</td>\n",
       "      <td>5</td>\n",
       "      <td>0</td>\n",
       "      <td>0</td>\n",
       "      <td>0</td>\n",
       "      <td>...</td>\n",
       "      <td>0</td>\n",
       "      <td>0</td>\n",
       "      <td>0</td>\n",
       "      <td>0</td>\n",
       "      <td>0</td>\n",
       "      <td>0</td>\n",
       "      <td>1</td>\n",
       "      <td>0</td>\n",
       "      <td>0</td>\n",
       "      <td>1</td>\n",
       "    </tr>\n",
       "    <tr>\n",
       "      <th>6</th>\n",
       "      <td>The Unschooled Wizard (Sun Wolf and Starhawk, ...</td>\n",
       "      <td>Omnibus book club edition containing the Ladie...</td>\n",
       "      <td>140</td>\n",
       "      <td>7</td>\n",
       "      <td>600.0</td>\n",
       "      <td>6.335409</td>\n",
       "      <td>5</td>\n",
       "      <td>0</td>\n",
       "      <td>0</td>\n",
       "      <td>0</td>\n",
       "      <td>...</td>\n",
       "      <td>0</td>\n",
       "      <td>0</td>\n",
       "      <td>0</td>\n",
       "      <td>0</td>\n",
       "      <td>0</td>\n",
       "      <td>0</td>\n",
       "      <td>0</td>\n",
       "      <td>1</td>\n",
       "      <td>1</td>\n",
       "      <td>0</td>\n",
       "    </tr>\n",
       "    <tr>\n",
       "      <th>7</th>\n",
       "      <td>Bride of the Rat God</td>\n",
       "      <td>Chrysanda Flamande was the sultriest vamp of t...</td>\n",
       "      <td>689</td>\n",
       "      <td>65</td>\n",
       "      <td>336.0</td>\n",
       "      <td>7.859660</td>\n",
       "      <td>5</td>\n",
       "      <td>0</td>\n",
       "      <td>0</td>\n",
       "      <td>0</td>\n",
       "      <td>...</td>\n",
       "      <td>0</td>\n",
       "      <td>0</td>\n",
       "      <td>0</td>\n",
       "      <td>0</td>\n",
       "      <td>0</td>\n",
       "      <td>0</td>\n",
       "      <td>1</td>\n",
       "      <td>0</td>\n",
       "      <td>1</td>\n",
       "      <td>0</td>\n",
       "    </tr>\n",
       "  </tbody>\n",
       "</table>\n",
       "<p>5 rows × 24949 columns</p>\n",
       "</div>"
      ],
      "text/plain": [
       "                                               title  \\\n",
       "2                                       The Red Tent   \n",
       "3                                       The Red Tent   \n",
       "4  Saying Kaddish: How to Comfort the Dying, Bury...   \n",
       "6  The Unschooled Wizard (Sun Wolf and Starhawk, ...   \n",
       "7                               Bride of the Rat God   \n",
       "\n",
       "                                         description  books_ratings_count  \\\n",
       "2  IN THE RED TENT--NOW A MAJOR LIFETIME MINISERI...                  134   \n",
       "3  The red tent is the place where women gathered...                  460   \n",
       "4  Anita Diamant's knowledge, sensitivity, and cl...                  107   \n",
       "6  Omnibus book club edition containing the Ladie...                  140   \n",
       "7  Chrysanda Flamande was the sultriest vamp of t...                  689   \n",
       "\n",
       "   books_reviews_count  num_pages  log_weighted_rating  total_books  \\\n",
       "2                   19      352.0             6.323355            5   \n",
       "3                   60      336.0             7.556742            5   \n",
       "4                   14      288.0             6.098344            5   \n",
       "6                    7      600.0             6.335409            5   \n",
       "7                   65      336.0             7.859660            5   \n",
       "\n",
       "   author_id_4  author_id_7  author_id_10           ...             \\\n",
       "2            0            0             0           ...              \n",
       "3            0            0             0           ...              \n",
       "4            0            0             0           ...              \n",
       "6            0            0             0           ...              \n",
       "7            0            0             0           ...              \n",
       "\n",
       "   author_id_17250134  author_id_17255261  author_id_17264133  \\\n",
       "2                   0                   0                   0   \n",
       "3                   0                   0                   0   \n",
       "4                   0                   0                   0   \n",
       "6                   0                   0                   0   \n",
       "7                   0                   0                   0   \n",
       "\n",
       "   author_id_17265337  author_id_17290483  author_id_17300081  \\\n",
       "2                   0                   0                   0   \n",
       "3                   0                   0                   0   \n",
       "4                   0                   0                   0   \n",
       "6                   0                   0                   0   \n",
       "7                   0                   0                   0   \n",
       "\n",
       "   series or not_0  series or not_1  fiction_or_nonFiction_0  \\\n",
       "2                1                0                        1   \n",
       "3                1                0                        1   \n",
       "4                1                0                        0   \n",
       "6                0                1                        1   \n",
       "7                1                0                        1   \n",
       "\n",
       "   fiction_or_nonFiction_1  \n",
       "2                        0  \n",
       "3                        0  \n",
       "4                        1  \n",
       "6                        0  \n",
       "7                        0  \n",
       "\n",
       "[5 rows x 24949 columns]"
      ]
     },
     "execution_count": 10,
     "metadata": {},
     "output_type": "execute_result"
    }
   ],
   "source": [
    "numerics_data[:5]"
   ]
  },
  {
   "cell_type": "markdown",
   "metadata": {},
   "source": [
    "5. Set the features variable (X), and the target variable/predictor (y)"
   ]
  },
  {
   "cell_type": "code",
   "execution_count": 11,
   "metadata": {},
   "outputs": [],
   "source": [
    "# X is features variables, y is the target variable (predictor)\n",
    "\n",
    "X = numerics_data.drop(['log_weighted_rating'], axis = 1).reset_index(drop = True)\n",
    "y = numerics_data['log_weighted_rating'].reset_index(drop = True)"
   ]
  },
  {
   "cell_type": "code",
   "execution_count": 12,
   "metadata": {},
   "outputs": [
    {
     "data": {
      "text/html": [
       "<div>\n",
       "<style scoped>\n",
       "    .dataframe tbody tr th:only-of-type {\n",
       "        vertical-align: middle;\n",
       "    }\n",
       "\n",
       "    .dataframe tbody tr th {\n",
       "        vertical-align: top;\n",
       "    }\n",
       "\n",
       "    .dataframe thead th {\n",
       "        text-align: right;\n",
       "    }\n",
       "</style>\n",
       "<table border=\"1\" class=\"dataframe\">\n",
       "  <thead>\n",
       "    <tr style=\"text-align: right;\">\n",
       "      <th></th>\n",
       "      <th>title</th>\n",
       "      <th>description</th>\n",
       "      <th>books_ratings_count</th>\n",
       "      <th>books_reviews_count</th>\n",
       "      <th>num_pages</th>\n",
       "      <th>total_books</th>\n",
       "      <th>author_id_4</th>\n",
       "      <th>author_id_7</th>\n",
       "      <th>author_id_10</th>\n",
       "      <th>author_id_14</th>\n",
       "      <th>...</th>\n",
       "      <th>author_id_17250134</th>\n",
       "      <th>author_id_17255261</th>\n",
       "      <th>author_id_17264133</th>\n",
       "      <th>author_id_17265337</th>\n",
       "      <th>author_id_17290483</th>\n",
       "      <th>author_id_17300081</th>\n",
       "      <th>series or not_0</th>\n",
       "      <th>series or not_1</th>\n",
       "      <th>fiction_or_nonFiction_0</th>\n",
       "      <th>fiction_or_nonFiction_1</th>\n",
       "    </tr>\n",
       "  </thead>\n",
       "  <tbody>\n",
       "    <tr>\n",
       "      <th>0</th>\n",
       "      <td>The Red Tent</td>\n",
       "      <td>IN THE RED TENT--NOW A MAJOR LIFETIME MINISERI...</td>\n",
       "      <td>134</td>\n",
       "      <td>19</td>\n",
       "      <td>352.0</td>\n",
       "      <td>5</td>\n",
       "      <td>0</td>\n",
       "      <td>0</td>\n",
       "      <td>0</td>\n",
       "      <td>0</td>\n",
       "      <td>...</td>\n",
       "      <td>0</td>\n",
       "      <td>0</td>\n",
       "      <td>0</td>\n",
       "      <td>0</td>\n",
       "      <td>0</td>\n",
       "      <td>0</td>\n",
       "      <td>1</td>\n",
       "      <td>0</td>\n",
       "      <td>1</td>\n",
       "      <td>0</td>\n",
       "    </tr>\n",
       "    <tr>\n",
       "      <th>1</th>\n",
       "      <td>The Red Tent</td>\n",
       "      <td>The red tent is the place where women gathered...</td>\n",
       "      <td>460</td>\n",
       "      <td>60</td>\n",
       "      <td>336.0</td>\n",
       "      <td>5</td>\n",
       "      <td>0</td>\n",
       "      <td>0</td>\n",
       "      <td>0</td>\n",
       "      <td>0</td>\n",
       "      <td>...</td>\n",
       "      <td>0</td>\n",
       "      <td>0</td>\n",
       "      <td>0</td>\n",
       "      <td>0</td>\n",
       "      <td>0</td>\n",
       "      <td>0</td>\n",
       "      <td>1</td>\n",
       "      <td>0</td>\n",
       "      <td>1</td>\n",
       "      <td>0</td>\n",
       "    </tr>\n",
       "    <tr>\n",
       "      <th>2</th>\n",
       "      <td>Saying Kaddish: How to Comfort the Dying, Bury...</td>\n",
       "      <td>Anita Diamant's knowledge, sensitivity, and cl...</td>\n",
       "      <td>107</td>\n",
       "      <td>14</td>\n",
       "      <td>288.0</td>\n",
       "      <td>5</td>\n",
       "      <td>0</td>\n",
       "      <td>0</td>\n",
       "      <td>0</td>\n",
       "      <td>0</td>\n",
       "      <td>...</td>\n",
       "      <td>0</td>\n",
       "      <td>0</td>\n",
       "      <td>0</td>\n",
       "      <td>0</td>\n",
       "      <td>0</td>\n",
       "      <td>0</td>\n",
       "      <td>1</td>\n",
       "      <td>0</td>\n",
       "      <td>0</td>\n",
       "      <td>1</td>\n",
       "    </tr>\n",
       "    <tr>\n",
       "      <th>3</th>\n",
       "      <td>The Unschooled Wizard (Sun Wolf and Starhawk, ...</td>\n",
       "      <td>Omnibus book club edition containing the Ladie...</td>\n",
       "      <td>140</td>\n",
       "      <td>7</td>\n",
       "      <td>600.0</td>\n",
       "      <td>5</td>\n",
       "      <td>0</td>\n",
       "      <td>0</td>\n",
       "      <td>0</td>\n",
       "      <td>0</td>\n",
       "      <td>...</td>\n",
       "      <td>0</td>\n",
       "      <td>0</td>\n",
       "      <td>0</td>\n",
       "      <td>0</td>\n",
       "      <td>0</td>\n",
       "      <td>0</td>\n",
       "      <td>0</td>\n",
       "      <td>1</td>\n",
       "      <td>1</td>\n",
       "      <td>0</td>\n",
       "    </tr>\n",
       "    <tr>\n",
       "      <th>4</th>\n",
       "      <td>Bride of the Rat God</td>\n",
       "      <td>Chrysanda Flamande was the sultriest vamp of t...</td>\n",
       "      <td>689</td>\n",
       "      <td>65</td>\n",
       "      <td>336.0</td>\n",
       "      <td>5</td>\n",
       "      <td>0</td>\n",
       "      <td>0</td>\n",
       "      <td>0</td>\n",
       "      <td>0</td>\n",
       "      <td>...</td>\n",
       "      <td>0</td>\n",
       "      <td>0</td>\n",
       "      <td>0</td>\n",
       "      <td>0</td>\n",
       "      <td>0</td>\n",
       "      <td>0</td>\n",
       "      <td>1</td>\n",
       "      <td>0</td>\n",
       "      <td>1</td>\n",
       "      <td>0</td>\n",
       "    </tr>\n",
       "  </tbody>\n",
       "</table>\n",
       "<p>5 rows × 24948 columns</p>\n",
       "</div>"
      ],
      "text/plain": [
       "                                               title  \\\n",
       "0                                       The Red Tent   \n",
       "1                                       The Red Tent   \n",
       "2  Saying Kaddish: How to Comfort the Dying, Bury...   \n",
       "3  The Unschooled Wizard (Sun Wolf and Starhawk, ...   \n",
       "4                               Bride of the Rat God   \n",
       "\n",
       "                                         description  books_ratings_count  \\\n",
       "0  IN THE RED TENT--NOW A MAJOR LIFETIME MINISERI...                  134   \n",
       "1  The red tent is the place where women gathered...                  460   \n",
       "2  Anita Diamant's knowledge, sensitivity, and cl...                  107   \n",
       "3  Omnibus book club edition containing the Ladie...                  140   \n",
       "4  Chrysanda Flamande was the sultriest vamp of t...                  689   \n",
       "\n",
       "   books_reviews_count  num_pages  total_books  author_id_4  author_id_7  \\\n",
       "0                   19      352.0            5            0            0   \n",
       "1                   60      336.0            5            0            0   \n",
       "2                   14      288.0            5            0            0   \n",
       "3                    7      600.0            5            0            0   \n",
       "4                   65      336.0            5            0            0   \n",
       "\n",
       "   author_id_10  author_id_14           ...             author_id_17250134  \\\n",
       "0             0             0           ...                              0   \n",
       "1             0             0           ...                              0   \n",
       "2             0             0           ...                              0   \n",
       "3             0             0           ...                              0   \n",
       "4             0             0           ...                              0   \n",
       "\n",
       "   author_id_17255261  author_id_17264133  author_id_17265337  \\\n",
       "0                   0                   0                   0   \n",
       "1                   0                   0                   0   \n",
       "2                   0                   0                   0   \n",
       "3                   0                   0                   0   \n",
       "4                   0                   0                   0   \n",
       "\n",
       "   author_id_17290483  author_id_17300081  series or not_0  series or not_1  \\\n",
       "0                   0                   0                1                0   \n",
       "1                   0                   0                1                0   \n",
       "2                   0                   0                1                0   \n",
       "3                   0                   0                0                1   \n",
       "4                   0                   0                1                0   \n",
       "\n",
       "   fiction_or_nonFiction_0  fiction_or_nonFiction_1  \n",
       "0                        1                        0  \n",
       "1                        1                        0  \n",
       "2                        0                        1  \n",
       "3                        1                        0  \n",
       "4                        1                        0  \n",
       "\n",
       "[5 rows x 24948 columns]"
      ]
     },
     "execution_count": 12,
     "metadata": {},
     "output_type": "execute_result"
    }
   ],
   "source": [
    "X[:5]"
   ]
  },
  {
   "cell_type": "code",
   "execution_count": 16,
   "metadata": {},
   "outputs": [
    {
     "data": {
      "text/plain": [
       "(30747,)"
      ]
     },
     "execution_count": 16,
     "metadata": {},
     "output_type": "execute_result"
    }
   ],
   "source": [
    "y.shape"
   ]
  },
  {
   "cell_type": "markdown",
   "metadata": {},
   "source": [
    "6. Clean out the NaN's, infinity, and neg infinity values in log weighted rating. "
   ]
  },
  {
   "cell_type": "code",
   "execution_count": 17,
   "metadata": {},
   "outputs": [],
   "source": [
    "#go through each value in log_weighted_rating and if the value is nan, negative infinity,\n",
    "#or infinity remove and dont keep as a indice\n",
    "\n",
    "def clean_array(arr):\n",
    "    indices_to_keep = ~arr.isin([np.nan, np.inf, -np.inf]) \n",
    "    return (arr[indices_to_keep], indices_to_keep)"
   ]
  },
  {
   "cell_type": "code",
   "execution_count": 18,
   "metadata": {},
   "outputs": [],
   "source": [
    "\n",
    "\n",
    "y, indices_to_keep = clean_array(y)"
   ]
  },
  {
   "cell_type": "code",
   "execution_count": 19,
   "metadata": {},
   "outputs": [
    {
     "data": {
      "text/plain": [
       "(30619,)"
      ]
     },
     "execution_count": 19,
     "metadata": {},
     "output_type": "execute_result"
    }
   ],
   "source": [
    "y.shape"
   ]
  },
  {
   "cell_type": "code",
   "execution_count": 20,
   "metadata": {},
   "outputs": [],
   "source": [
    "#match the x indices to the y indices\n",
    "\n",
    "X = X.iloc[indices_to_keep.index[indices_to_keep==True],:]"
   ]
  },
  {
   "cell_type": "code",
   "execution_count": 22,
   "metadata": {},
   "outputs": [
    {
     "data": {
      "text/plain": [
       "(30619, 24948)"
      ]
     },
     "execution_count": 22,
     "metadata": {},
     "output_type": "execute_result"
    }
   ],
   "source": [
    "X.shape"
   ]
  },
  {
   "cell_type": "markdown",
   "metadata": {},
   "source": [
    "7. Divide scores into classes: 1 - bad, 2- average,  3- above average, 4 - good,  5- excellent"
   ]
  },
  {
   "cell_type": "code",
   "execution_count": 23,
   "metadata": {},
   "outputs": [],
   "source": [
    "\n",
    "classes = pd.cut(y, bins=5, labels=[1,2,3,4,5])\n",
    "\n",
    "y = np.array(classes)"
   ]
  },
  {
   "cell_type": "code",
   "execution_count": 24,
   "metadata": {},
   "outputs": [
    {
     "data": {
      "text/plain": [
       "array([3, 3, 3, ..., 2, 1, 2])"
      ]
     },
     "execution_count": 24,
     "metadata": {},
     "output_type": "execute_result"
    }
   ],
   "source": [
    "y"
   ]
  },
  {
   "cell_type": "code",
   "execution_count": 25,
   "metadata": {},
   "outputs": [],
   "source": [
    "X=np.array(X)"
   ]
  },
  {
   "cell_type": "code",
   "execution_count": null,
   "metadata": {},
   "outputs": [],
   "source": [
    "X"
   ]
  },
  {
   "cell_type": "markdown",
   "metadata": {},
   "source": [
    "8. Now that X and y are prepped, split into training and test datasets. "
   ]
  },
  {
   "cell_type": "code",
   "execution_count": 17,
   "metadata": {},
   "outputs": [],
   "source": [
    "#https://stackoverflow.com/questions/28064634/random-state-pseudo-random-number-in-scikit-learn\n",
    "\n",
    "X_train, X_test, y_train, y_test = train_test_split(X, y, test_size=0.25, random_state=42)"
   ]
  },
  {
   "cell_type": "raw",
   "metadata": {},
   "source": [
    "np.save(\"X_train.npy\", X_train)\n",
    "np.save(\"X_test.npy\",X_test)\n",
    "np.save(\"y_train.npy\",y_train)\n",
    "np.save(\"y_test.npy\",y_test)"
   ]
  },
  {
   "cell_type": "code",
   "execution_count": 18,
   "metadata": {},
   "outputs": [
    {
     "name": "stderr",
     "output_type": "stream",
     "text": [
      "[nltk_data] Downloading package stopwords to\n",
      "[nltk_data]     /Users/Mohammedkhan/nltk_data...\n",
      "[nltk_data]   Package stopwords is already up-to-date!\n",
      "[nltk_data] Downloading package punkt to\n",
      "[nltk_data]     /Users/Mohammedkhan/nltk_data...\n",
      "[nltk_data]   Package punkt is already up-to-date!\n"
     ]
    },
    {
     "data": {
      "text/plain": [
       "True"
      ]
     },
     "execution_count": 18,
     "metadata": {},
     "output_type": "execute_result"
    }
   ],
   "source": [
    "nltk.download('stopwords')\n",
    "nltk.download('punkt')"
   ]
  },
  {
   "cell_type": "markdown",
   "metadata": {},
   "source": [
    "9. Set up functions to vectorize title and description in pipeline, get numeric data"
   ]
  },
  {
   "cell_type": "code",
   "execution_count": 19,
   "metadata": {},
   "outputs": [],
   "source": [
    "#functions to get numeric data and vectorize title and description variables\n",
    "\n",
    "\n",
    "\n",
    "def get_title(x):\n",
    "    \n",
    "    return [record[0] for record in x]\n",
    "def get_description(x):\n",
    "  \n",
    "    return [record[1] for record in x]\n",
    "def get_numeric_data(x):\n",
    "   \n",
    "    return [record[3:].astype(float) for record in x]\n",
    "    \n",
    "\n",
    "transformer_numeric_data = FunctionTransformer(get_numeric_data, validate=False)\n",
    "transformer_title = FunctionTransformer(get_title, validate=False)\n",
    "transformer_description = FunctionTransformer(get_description, validate=False)\n",
    "\n",
    "vectorizer = CountVectorizer(max_features=2000, tokenizer= word_tokenize)"
   ]
  },
  {
   "cell_type": "code",
   "execution_count": 20,
   "metadata": {},
   "outputs": [],
   "source": [
    "#Model structure\n",
    "\n",
    "\n",
    "pipeline = Pipeline([\n",
    "    (\"features\", FeatureUnion([\n",
    "        (\"description\", Pipeline([\n",
    "            ('selector', transformer_description),\n",
    "            ('vec',vectorizer)\n",
    "        ])),\n",
    "        (\"title\", Pipeline([\n",
    "            ('selector', transformer_title),\n",
    "            ('vec',vectorizer)\n",
    "        ])),\n",
    "        (\"numeric_features\", Pipeline([\n",
    "            ('selector', transformer_numeric_data)\n",
    "        ]))\n",
    "    ])),\n",
    "    ('scale', StandardScaler(with_mean = False)),\n",
    "    \n",
    "    (\"dt\", DecisionTreeClassifier())\n",
    "])\n",
    "\n",
    "\n",
    "\n"
   ]
  },
  {
   "cell_type": "code",
   "execution_count": 45,
   "metadata": {},
   "outputs": [],
   "source": [
    "bb =pipeline.fit(X_train,y_train)"
   ]
  },
  {
   "cell_type": "markdown",
   "metadata": {},
   "source": [
    "10. Pipeline score and accuracy result in total number of predictions correctly predicted"
   ]
  },
  {
   "cell_type": "code",
   "execution_count": 49,
   "metadata": {},
   "outputs": [
    {
     "data": {
      "text/plain": [
       "0.6568256041802744"
      ]
     },
     "execution_count": 49,
     "metadata": {},
     "output_type": "execute_result"
    }
   ],
   "source": [
    "\n",
    "cc =pipeline.score(X_test,y_test)\n",
    "cc"
   ]
  },
  {
   "cell_type": "code",
   "execution_count": 48,
   "metadata": {},
   "outputs": [],
   "source": [
    "np.save(\"cc.py\", cc)"
   ]
  }
 ],
 "metadata": {
  "kernelspec": {
   "display_name": "Python 3",
   "language": "python",
   "name": "python3"
  },
  "language_info": {
   "codemirror_mode": {
    "name": "ipython",
    "version": 3
   },
   "file_extension": ".py",
   "mimetype": "text/x-python",
   "name": "python",
   "nbconvert_exporter": "python",
   "pygments_lexer": "ipython3",
   "version": "3.7.2"
  }
 },
 "nbformat": 4,
 "nbformat_minor": 2
}
