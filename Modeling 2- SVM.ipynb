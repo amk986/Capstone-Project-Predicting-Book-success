{
 "cells": [
  {
   "cell_type": "markdown",
   "metadata": {},
   "source": [
    "## Predicting Book Success: SVM model"
   ]
  },
  {
   "cell_type": "code",
   "execution_count": 36,
   "metadata": {},
   "outputs": [],
   "source": [
    "import pandas as pd\n",
    "import numpy as np\n",
    "import nltk\n",
    "from nltk.tokenize import word_tokenize\n",
    "from sklearn.svm import SVC\n",
    "from sklearn.tree import DecisionTreeClassifier, DecisionTreeRegressor\n",
    "from sklearn.feature_extraction.text import CountVectorizer, TfidfVectorizer\n",
    "from sklearn.metrics import classification_report, precision_recall_fscore_support\n",
    "from sklearn.model_selection import train_test_split\n",
    "from sklearn.feature_extraction.text import TfidfVectorizer\n",
    "from sklearn.preprocessing import scale, StandardScaler\n",
    "from sklearn.pipeline import Pipeline, FeatureUnion\n",
    "from sklearn.preprocessing import FunctionTransformer\n",
    "from sklearn.impute import SimpleImputer\n",
    "from sklearn.tree import DecisionTreeClassifier, DecisionTreeRegressor\n",
    "from sklearn.ensemble import RandomForestClassifier\n",
    "from sklearn.model_selection import GridSearchCV, StratifiedKFold, ShuffleSplit\n",
    "from sklearn.svm import SVC"
   ]
  },
  {
   "cell_type": "code",
   "execution_count": 37,
   "metadata": {},
   "outputs": [],
   "source": [
    "merged=pd.read_csv(\"merged2_50K.csv\")"
   ]
  },
  {
   "cell_type": "code",
   "execution_count": 38,
   "metadata": {},
   "outputs": [
    {
     "data": {
      "text/plain": [
       "Index(['Unnamed: 0', 'isbn', 'books_reviews_count', 'series', 'country_code',\n",
       "       'language_code', 'asin', 'is_ebook', 'books_average_rating',\n",
       "       'kindle_asin', 'similar_books', 'description', 'format', 'authors',\n",
       "       'publisher', 'num_pages', 'publication_day', 'isbn13',\n",
       "       'publication_month', 'edition_information', 'publication_year',\n",
       "       'book_id', 'books_ratings_count', 'work_id', 'title',\n",
       "       'title_without_series', 'author_id', 'authors_average_rating',\n",
       "       'authors_text_reviews_count', 'name', 'authors_ratings_count', 'genres',\n",
       "       'fiction_or_nonFiction', 'series or not', 'log_weighted_rating',\n",
       "       'total_books', 'pgs_per_book'],\n",
       "      dtype='object')"
      ]
     },
     "execution_count": 38,
     "metadata": {},
     "output_type": "execute_result"
    }
   ],
   "source": [
    "merged.columns"
   ]
  },
  {
   "cell_type": "code",
   "execution_count": 40,
   "metadata": {},
   "outputs": [],
   "source": [
    "merged_to_model=merged[['title','description',\"books_ratings_count\", \"books_reviews_count\"\n",
    "                            ,'num_pages', 'log_weighted_rating',\n",
    "                           \"fiction_or_nonFiction\",'series or not', \"total_books\"]]"
   ]
  },
  {
   "cell_type": "code",
   "execution_count": 41,
   "metadata": {},
   "outputs": [],
   "source": [
    "#categorical data\n",
    "categorical_cols = ['series or not','fiction_or_nonFiction'] \n",
    "\n",
    "#numerical data- get dummy variables for categorical columns\n",
    "numerics_data = pd.get_dummies(merged_to_model, columns = categorical_cols)"
   ]
  },
  {
   "cell_type": "code",
   "execution_count": 42,
   "metadata": {},
   "outputs": [
    {
     "data": {
      "text/plain": [
       "(30747, 11)"
      ]
     },
     "execution_count": 42,
     "metadata": {},
     "output_type": "execute_result"
    }
   ],
   "source": [
    "numerics_data.dropna(inplace= True)\n",
    "numerics_data.shape"
   ]
  },
  {
   "cell_type": "code",
   "execution_count": 43,
   "metadata": {},
   "outputs": [],
   "source": [
    "\n",
    "X = numerics_data.drop(['log_weighted_rating'], axis = 1).reset_index(drop = True)\n",
    "y = numerics_data['log_weighted_rating'].reset_index(drop = True)"
   ]
  },
  {
   "cell_type": "code",
   "execution_count": 44,
   "metadata": {},
   "outputs": [],
   "source": [
    "def clean_array(arr):\n",
    "    indices_to_keep = ~arr.isin([np.nan, np.inf, -np.inf]) \n",
    "    return (arr[indices_to_keep], indices_to_keep)"
   ]
  },
  {
   "cell_type": "code",
   "execution_count": 45,
   "metadata": {},
   "outputs": [],
   "source": [
    "#go through each value in log_weighted_rating and if the value is nan, negative infinity,\n",
    "#or infinity remove and dont keep as a indice\n",
    "\n",
    "y, indices_to_keep = clean_array(y)"
   ]
  },
  {
   "cell_type": "code",
   "execution_count": 46,
   "metadata": {},
   "outputs": [],
   "source": [
    "X = X.iloc[indices_to_keep.index[indices_to_keep==True],:]"
   ]
  },
  {
   "cell_type": "code",
   "execution_count": 48,
   "metadata": {},
   "outputs": [],
   "source": [
    "classes = pd.cut(y, bins=3, labels=[1,2,3])\n",
    "\n",
    "y = np.array(classes)"
   ]
  },
  {
   "cell_type": "code",
   "execution_count": 49,
   "metadata": {},
   "outputs": [],
   "source": [
    "X=np.array(X)"
   ]
  },
  {
   "cell_type": "code",
   "execution_count": 50,
   "metadata": {},
   "outputs": [],
   "source": [
    "X_train, X_test, y_train, y_test = train_test_split(X, y, test_size=0.25, random_state=42)"
   ]
  },
  {
   "cell_type": "code",
   "execution_count": 51,
   "metadata": {},
   "outputs": [
    {
     "name": "stderr",
     "output_type": "stream",
     "text": [
      "[nltk_data] Downloading package stopwords to\n",
      "[nltk_data]     /Users/Mohammedkhan/nltk_data...\n",
      "[nltk_data]   Package stopwords is already up-to-date!\n",
      "[nltk_data] Downloading package punkt to\n",
      "[nltk_data]     /Users/Mohammedkhan/nltk_data...\n",
      "[nltk_data]   Package punkt is already up-to-date!\n"
     ]
    },
    {
     "data": {
      "text/plain": [
       "True"
      ]
     },
     "execution_count": 51,
     "metadata": {},
     "output_type": "execute_result"
    }
   ],
   "source": [
    "nltk.download('stopwords')\n",
    "nltk.download('punkt')"
   ]
  },
  {
   "cell_type": "code",
   "execution_count": 52,
   "metadata": {},
   "outputs": [],
   "source": [
    "def get_title(x):\n",
    "    \n",
    "    return [record[0] for record in x]\n",
    "def get_description(x):\n",
    "  \n",
    "    return [record[1] for record in x]\n",
    "def get_numeric_data(x):\n",
    "   \n",
    "    return [record[3:].astype(float) for record in x]\n",
    "    \n",
    "\n",
    "transformer_numeric_data = FunctionTransformer(get_numeric_data, validate=False)\n",
    "transformer_title = FunctionTransformer(get_title, validate=False)\n",
    "transformer_description = FunctionTransformer(get_description, validate=False)\n",
    "\n",
    "vectorizer = CountVectorizer(max_features=2000, tokenizer= word_tokenize)"
   ]
  },
  {
   "cell_type": "code",
   "execution_count": 53,
   "metadata": {},
   "outputs": [],
   "source": [
    "pipeline = Pipeline([\n",
    "    (\"features\", FeatureUnion([\n",
    "        (\"description\", Pipeline([\n",
    "            ('selector', transformer_description),\n",
    "            ('vec',vectorizer)\n",
    "        ])),\n",
    "        (\"title\", Pipeline([\n",
    "            ('selector', transformer_title),\n",
    "            ('vec',vectorizer)\n",
    "        ])),\n",
    "        (\"numeric_features\", Pipeline([\n",
    "            ('selector', transformer_numeric_data)\n",
    "        ]))\n",
    "    ])),\n",
    "    ('scale', StandardScaler(with_mean = False)),\n",
    " \n",
    "    (\"svm\", SVC(kernel = 'poly', degree = 3))\n",
    "])"
   ]
  },
  {
   "cell_type": "code",
   "execution_count": 54,
   "metadata": {},
   "outputs": [
    {
     "data": {
      "text/plain": [
       "Pipeline(memory=None,\n",
       "     steps=[('features', FeatureUnion(n_jobs=None,\n",
       "       transformer_list=[('description', Pipeline(memory=None,\n",
       "     steps=[('selector', FunctionTransformer(accept_sparse=False, check_inverse=True,\n",
       "          func=<function get_description at 0x1a23583d90>,\n",
       "          inv_kw_args=None, inverse_func=None,...y', max_iter=-1, probability=False, random_state=None,\n",
       "  shrinking=True, tol=0.001, verbose=False))])"
      ]
     },
     "execution_count": 54,
     "metadata": {},
     "output_type": "execute_result"
    }
   ],
   "source": [
    "pipeline.fit(X_train,y_train)"
   ]
  },
  {
   "cell_type": "code",
   "execution_count": 59,
   "metadata": {},
   "outputs": [],
   "source": [
    "aa = pipeline.score(X_test,y_test)"
   ]
  },
  {
   "cell_type": "code",
   "execution_count": 60,
   "metadata": {},
   "outputs": [
    {
     "data": {
      "text/plain": [
       "0.7058131939908556"
      ]
     },
     "execution_count": 60,
     "metadata": {},
     "output_type": "execute_result"
    }
   ],
   "source": [
    "aa"
   ]
  },
  {
   "cell_type": "code",
   "execution_count": 61,
   "metadata": {},
   "outputs": [],
   "source": [
    "np.save(\"aa.py\",aa)"
   ]
  }
 ],
 "metadata": {
  "kernelspec": {
   "display_name": "Python 3",
   "language": "python",
   "name": "python3"
  },
  "language_info": {
   "codemirror_mode": {
    "name": "ipython",
    "version": 3
   },
   "file_extension": ".py",
   "mimetype": "text/x-python",
   "name": "python",
   "nbconvert_exporter": "python",
   "pygments_lexer": "ipython3",
   "version": "3.7.2"
  }
 },
 "nbformat": 4,
 "nbformat_minor": 2
}
